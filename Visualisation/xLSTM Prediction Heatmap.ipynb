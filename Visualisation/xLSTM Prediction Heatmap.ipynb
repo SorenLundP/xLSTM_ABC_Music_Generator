{
 "cells": [
  {
   "cell_type": "markdown",
   "metadata": {
    "id": "roAnwK8RIa5i"
   },
   "source": [
    "# This is for the final model with xLSTM and dropout layers"
   ]
  },
  {
   "cell_type": "code",
   "execution_count": null,
   "metadata": {
    "colab": {
     "base_uri": "https://localhost:8080/"
    },
    "executionInfo": {
     "elapsed": 22128,
     "status": "ok",
     "timestamp": 1733398701064,
     "user": {
      "displayName": "Alexander Caning",
      "userId": "11690755251269761455"
     },
     "user_tz": -60
    },
    "id": "oqKCKeZ2IfR4",
    "outputId": "21f27e35-b740-4219-e454-2febeaca9c92"
   },
   "outputs": [
    {
     "name": "stdout",
     "output_type": "stream",
     "text": [
      "Collecting xLSTM\n",
      "  Downloading xlstm-1.0.8-py3-none-any.whl.metadata (19 kB)\n",
      "Downloading xlstm-1.0.8-py3-none-any.whl (79 kB)\n",
      "\u001b[?25l   \u001b[90m━━━━━━━━━━━━━━━━━━━━━━━━━━━━━━━━━━━━━━━━\u001b[0m \u001b[32m0.0/79.6 kB\u001b[0m \u001b[31m?\u001b[0m eta \u001b[36m-:--:--\u001b[0m\r\u001b[2K   \u001b[90m━━━━━━━━━━━━━━━━━━━━━━━━━━━━━━━━━━━━━━━━\u001b[0m \u001b[32m79.6/79.6 kB\u001b[0m \u001b[31m4.7 MB/s\u001b[0m eta \u001b[36m0:00:00\u001b[0m\n",
      "\u001b[?25hInstalling collected packages: xLSTM\n",
      "Successfully installed xLSTM-1.0.8\n",
      "Collecting ninja\n",
      "  Downloading ninja-1.11.1.2-py3-none-manylinux_2_12_x86_64.manylinux2010_x86_64.whl.metadata (5.3 kB)\n",
      "Downloading ninja-1.11.1.2-py3-none-manylinux_2_12_x86_64.manylinux2010_x86_64.whl (422 kB)\n",
      "\u001b[2K   \u001b[90m━━━━━━━━━━━━━━━━━━━━━━━━━━━━━━━━━━━━━━━━\u001b[0m \u001b[32m422.9/422.9 kB\u001b[0m \u001b[31m10.3 MB/s\u001b[0m eta \u001b[36m0:00:00\u001b[0m\n",
      "\u001b[?25hInstalling collected packages: ninja\n",
      "Successfully installed ninja-1.11.1.2\n",
      "Collecting xlstm\n",
      "  Downloading xlstm-1.0.8-py3-none-any.whl.metadata (19 kB)\n",
      "Downloading xlstm-1.0.8-py3-none-any.whl (79 kB)\n",
      "\u001b[2K   \u001b[90m━━━━━━━━━━━━━━━━━━━━━━━━━━━━━━━━━━━━━━━━\u001b[0m \u001b[32m79.6/79.6 kB\u001b[0m \u001b[31m13.8 MB/s\u001b[0m eta \u001b[36m0:00:00\u001b[0m\n",
      "\u001b[?25hInstalling collected packages: xlstm\n",
      "  Attempting uninstall: xlstm\n",
      "    Found existing installation: xlstm 1.0.8\n",
      "    Uninstalling xlstm-1.0.8:\n",
      "      Successfully uninstalled xlstm-1.0.8\n",
      "Successfully installed xlstm-1.0.8\n"
     ]
    }
   ],
   "source": [
    "!pip install xLSTM\n",
    "!pip install ninja\n",
    "!pip install xlstm --force-reinstall --no-cache-dir\n"
   ]
  },
  {
   "cell_type": "code",
   "execution_count": null,
   "metadata": {
    "id": "PVnpuIcuIAZm"
   },
   "outputs": [],
   "source": [
    "import json\n",
    "import torch\n",
    "from torch import nn\n",
    "\n",
    "from sklearn.model_selection import train_test_split\n",
    "import time\n",
    "\n",
    "import torch\n",
    "import numpy as np\n",
    "import seaborn as sns\n",
    "import matplotlib.pyplot as plt\n",
    "from sklearn.metrics import confusion_matrix"
   ]
  },
  {
   "cell_type": "code",
   "execution_count": null,
   "metadata": {
    "colab": {
     "base_uri": "https://localhost:8080/"
    },
    "executionInfo": {
     "elapsed": 9,
     "status": "ok",
     "timestamp": 1733398712025,
     "user": {
      "displayName": "Alexander Caning",
      "userId": "11690755251269761455"
     },
     "user_tz": -60
    },
    "id": "9KGPyJpvIGRI",
    "outputId": "49edcd48-a878-49b4-c29b-5da96303db57"
   },
   "outputs": [
    {
     "name": "stdout",
     "output_type": "stream",
     "text": [
      "Using device: cuda\n"
     ]
    }
   ],
   "source": [
    "device = torch.device('cuda' if torch.cuda.is_available() else 'cpu')\n",
    "print(\"Using device:\", device)"
   ]
  },
  {
   "cell_type": "code",
   "execution_count": null,
   "metadata": {
    "colab": {
     "base_uri": "https://localhost:8080/"
    },
    "executionInfo": {
     "elapsed": 18700,
     "status": "ok",
     "timestamp": 1733398730719,
     "user": {
      "displayName": "Alexander Caning",
      "userId": "11690755251269761455"
     },
     "user_tz": -60
    },
    "id": "dCJpXUdiTvsb",
    "outputId": "d0acf74e-d0f9-41b5-b0d1-f7c60939864b"
   },
   "outputs": [
    {
     "name": "stdout",
     "output_type": "stream",
     "text": [
      "Mounted at /content/drive\n"
     ]
    }
   ],
   "source": [
    "from google.colab import drive\n",
    "drive.mount('/content/drive')"
   ]
  },
  {
   "cell_type": "code",
   "execution_count": null,
   "metadata": {
    "id": "w9Qxnu7MzJrn"
   },
   "outputs": [],
   "source": []
  },
  {
   "cell_type": "code",
   "execution_count": null,
   "metadata": {
    "id": "hrMAPfa3IyMR"
   },
   "outputs": [],
   "source": [
    "# Hyperparameters / Variability management\n",
    "DATALOADING_DATA_PATH = \"/insert_file_path/all_tunes_cleaned_removed_whitespace.txt\"\n",
    "DATALOADING_VOCAB_PATH = \"/insert_file_path/char_to_idx_truncated.json\"\n",
    "\n",
    "DATASET_SEQUENCE_LENGTH = 128\n",
    "LOADER_BATCH_SIZE = 256\n",
    "\n",
    "MODEL_EMBEDDING_DIM = 128 # Dimension of the embedding\n",
    "MODEL_HIDDEN_SIZE = 256 # LSTM layer size\n",
    "MODEL_LSTM_LAYERS = 4 # Number of LSTM layers\n",
    "#MODEL_SAVE_PATH =   '/content/drive/MyDrive/Model weights/LIGHTWEIGHT_xLSTM_DropOut_NoWhiteSpace.pt'\n",
    "\n",
    "TRAINING_EPOCHS = 15\n",
    "\n",
    "#RESULTS_LOAD_PATH =  '/content/drive/MyDrive/Deep learning/Model weights/final_model_weights.pt'"
   ]
  },
  {
   "cell_type": "code",
   "execution_count": null,
   "metadata": {
    "id": "9di0aHVnQkqS"
   },
   "outputs": [],
   "source": [
    "with open(DATALOADING_DATA_PATH, \"r\") as f:\n",
    "  data = f.read()\n",
    "\n",
    "with open(DATALOADING_VOCAB_PATH) as f:\n",
    "    char_to_index = json.load(f)\n",
    "    index_to_char = {index: char for char, index in char_to_index.items()} # To transfer back"
   ]
  },
  {
   "cell_type": "code",
   "execution_count": null,
   "metadata": {
    "id": "M_7YW_OeQ6Fc"
   },
   "outputs": [],
   "source": [
    "data_translated = [char_to_index[char] for char in data]\n",
    "data_translated = data_translated[:len(data_translated) // 250] # Truncate data"
   ]
  },
  {
   "cell_type": "code",
   "execution_count": null,
   "metadata": {
    "id": "qgwWZWC8Qu6Y"
   },
   "outputs": [],
   "source": [
    "# Define the data set\n",
    "# WARNING: TAKES TRANSLATED DATA FORMAT\n",
    "class MusicDataset(torch.utils.data.Dataset):\n",
    "    def __init__(self,\n",
    "                 X, # The data in TRANSLATED FORMAT\n",
    "                 sequence_len=1, # How much context does the model have?\n",
    "                 ):\n",
    "\n",
    "        self.X=torch.tensor(X, dtype=torch.long)\n",
    "        self.sequence_len=sequence_len\n",
    "\n",
    "    def __len__(self):\n",
    "      # Make room for a last sequence and its target, hence the 1 also\n",
    "        return len(self.X) - self.sequence_len - 1\n",
    "\n",
    "\n",
    "    def __getitem__(self,idx):\n",
    "        X = self.X[idx:idx+self.sequence_len] # 1 x sequence_len\n",
    "        Ytarget = self.X[idx+self.sequence_len] # 1 x 1\n",
    "        return X, Ytarget.long() # For dimensions to match LSTM layer :)"
   ]
  },
  {
   "cell_type": "code",
   "execution_count": null,
   "metadata": {
    "id": "0NpkYiRkQ2Dz"
   },
   "outputs": [],
   "source": [
    "dataset = MusicDataset(X=data_translated, sequence_len=DATASET_SEQUENCE_LENGTH)\n",
    "\n",
    "train_idx, test_idx = train_test_split(range(len(dataset)), test_size=.1, shuffle=False)\n",
    "train_dataset = torch.utils.data.Subset(dataset, train_idx)\n",
    "test_dataset = torch.utils.data.Subset(dataset, test_idx)"
   ]
  },
  {
   "cell_type": "code",
   "execution_count": null,
   "metadata": {
    "id": "Pzk0ex2kRMxM"
   },
   "outputs": [],
   "source": [
    "import torch\n",
    "from torch import nn\n",
    "from xlstm import xLSTMBlockStack, xLSTMBlockStackConfig, mLSTMBlockConfig, mLSTMLayerConfig, sLSTMBlockConfig, sLSTMLayerConfig, FeedForwardConfig\n",
    "\n",
    "class SimpleModelWithxLSTM(nn.Module):\n",
    "    def __init__(self,\n",
    "                 vocab_size,\n",
    "                 embedding_dim,\n",
    "                 hidden_size,\n",
    "                 context_length,\n",
    "                 num_blocks,\n",
    "                 slstm_at,\n",
    "                 dropout_prob = 0.5):\n",
    "        super().__init__()\n",
    "\n",
    "        self.embedding = nn.Embedding(\n",
    "            num_embeddings=vocab_size,\n",
    "            embedding_dim=embedding_dim\n",
    "        )\n",
    "\n",
    "\n",
    "        # xLSTM configuration\n",
    "        self.xLSTM_cfg = xLSTMBlockStackConfig(\n",
    "            mlstm_block=mLSTMBlockConfig(\n",
    "                mlstm=mLSTMLayerConfig(\n",
    "                    conv1d_kernel_size=4,\n",
    "                    qkv_proj_blocksize=4,\n",
    "                    num_heads=4\n",
    "                )\n",
    "            ),\n",
    "            slstm_block=sLSTMBlockConfig(\n",
    "                slstm=sLSTMLayerConfig(\n",
    "                    backend=\"cuda\",\n",
    "                    num_heads=4,\n",
    "                    conv1d_kernel_size=4,\n",
    "                    bias_init=\"powerlaw_blockdependent\",\n",
    "                ),\n",
    "                feedforward=FeedForwardConfig(\n",
    "                    proj_factor=1.3,\n",
    "                    act_fn=\"gelu\"\n",
    "                ),\n",
    "            ),\n",
    "            context_length=context_length,\n",
    "            num_blocks=num_blocks,\n",
    "            embedding_dim=embedding_dim,\n",
    "            slstm_at=slstm_at,\n",
    "        )\n",
    "\n",
    "        # Initialize xLSTM stack\n",
    "        self.xLSTM = xLSTMBlockStack(self.xLSTM_cfg)\n",
    "\n",
    "        self.dropout_1 = nn.Dropout(dropout_prob)\n",
    "\n",
    "\n",
    "        # Fully connected layers\n",
    "        self.fc1 = nn.Linear(embedding_dim, hidden_size)\n",
    "        self.dropout_2 = nn.Dropout(dropout_prob)\n",
    "        self.fc2 = nn.Linear(hidden_size, vocab_size)\n",
    "\n",
    "\n",
    "    def forward(self, x):\n",
    "        # Embed the input\n",
    "        x = self.embedding(x)  # Shape: [batch_size, seq_length, embedding_dim]\n",
    "\n",
    "        # Pass through the xLSTM stack\n",
    "        x = self.xLSTM(x)  # Shape: [batch_size, seq_length, embedding_dim]\n",
    "\n",
    "        x = self.dropout_1(x)\n",
    "        # Take the last sequence step (e.g., for classification tasks)\n",
    "        x = x[:, -1, :]  # Shape: [batch_size, embedding_dim]\n",
    "\n",
    "        # Fully connected layers\n",
    "        x = self.fc1(x)  # Shape: [batch_size, hidden_size]\n",
    "        x = nn.functional.relu(x)\n",
    "        x = self.dropout_2(x)\n",
    "        x = self.fc2(x)  # Shape: [batch_size, vocab_size]\n",
    "\n",
    "        return x"
   ]
  },
  {
   "cell_type": "code",
   "execution_count": null,
   "metadata": {
    "colab": {
     "base_uri": "https://localhost:8080/"
    },
    "executionInfo": {
     "elapsed": 56290,
     "status": "ok",
     "timestamp": 1733398797577,
     "user": {
      "displayName": "Alexander Caning",
      "userId": "11690755251269761455"
     },
     "user_tz": -60
    },
    "id": "CAZgGOeERNtA",
    "outputId": "0e267017-cfbb-4b79-b65f-d585f5fc8ed1"
   },
   "outputs": [
    {
     "name": "stdout",
     "output_type": "stream",
     "text": [
      "{'verbose': True, 'with_cuda': True, 'extra_ldflags': ['-L/usr/local/cuda/lib', '-lcublas'], 'extra_cflags': ['-DSLSTM_HIDDEN_SIZE=128', '-DSLSTM_BATCH_SIZE=8', '-DSLSTM_NUM_HEADS=4', '-DSLSTM_NUM_STATES=4', '-DSLSTM_DTYPE_B=float', '-DSLSTM_DTYPE_R=__nv_bfloat16', '-DSLSTM_DTYPE_W=__nv_bfloat16', '-DSLSTM_DTYPE_G=__nv_bfloat16', '-DSLSTM_DTYPE_S=__nv_bfloat16', '-DSLSTM_DTYPE_A=float', '-DSLSTM_NUM_GATES=4', '-DSLSTM_SIMPLE_AGG=true', '-DSLSTM_GRADIENT_RECURRENT_CLIPVAL_VALID=false', '-DSLSTM_GRADIENT_RECURRENT_CLIPVAL=0.0', '-DSLSTM_FORWARD_CLIPVAL_VALID=false', '-DSLSTM_FORWARD_CLIPVAL=0.0', '-U__CUDA_NO_HALF_OPERATORS__', '-U__CUDA_NO_HALF_CONVERSIONS__', '-U__CUDA_NO_BFLOAT16_OPERATORS__', '-U__CUDA_NO_BFLOAT16_CONVERSIONS__', '-U__CUDA_NO_BFLOAT162_OPERATORS__', '-U__CUDA_NO_BFLOAT162_CONVERSIONS__'], 'extra_cuda_cflags': ['-Xptxas=\"-v\"', '-gencode', 'arch=compute_80,code=compute_80', '-res-usage', '--use_fast_math', '-O3', '-Xptxas -O3', '--extra-device-vectorization', '-DSLSTM_HIDDEN_SIZE=128', '-DSLSTM_BATCH_SIZE=8', '-DSLSTM_NUM_HEADS=4', '-DSLSTM_NUM_STATES=4', '-DSLSTM_DTYPE_B=float', '-DSLSTM_DTYPE_R=__nv_bfloat16', '-DSLSTM_DTYPE_W=__nv_bfloat16', '-DSLSTM_DTYPE_G=__nv_bfloat16', '-DSLSTM_DTYPE_S=__nv_bfloat16', '-DSLSTM_DTYPE_A=float', '-DSLSTM_NUM_GATES=4', '-DSLSTM_SIMPLE_AGG=true', '-DSLSTM_GRADIENT_RECURRENT_CLIPVAL_VALID=false', '-DSLSTM_GRADIENT_RECURRENT_CLIPVAL=0.0', '-DSLSTM_FORWARD_CLIPVAL_VALID=false', '-DSLSTM_FORWARD_CLIPVAL=0.0', '-U__CUDA_NO_HALF_OPERATORS__', '-U__CUDA_NO_HALF_CONVERSIONS__', '-U__CUDA_NO_BFLOAT16_OPERATORS__', '-U__CUDA_NO_BFLOAT16_CONVERSIONS__', '-U__CUDA_NO_BFLOAT162_OPERATORS__', '-U__CUDA_NO_BFLOAT162_CONVERSIONS__']}\n"
     ]
    },
    {
     "name": "stderr",
     "output_type": "stream",
     "text": [
      "Using /root/.cache/torch_extensions/py310_cu121 as PyTorch extensions root...\n",
      "Creating extension directory /root/.cache/torch_extensions/py310_cu121/slstm_HS128BS8NH4NS4DBfDRbDWbDGbDSbDAfNG4SA1GRCV0GRC0d0FCV0FC0d0...\n",
      "Detected CUDA files, patching ldflags\n",
      "Emitting ninja build file /root/.cache/torch_extensions/py310_cu121/slstm_HS128BS8NH4NS4DBfDRbDWbDGbDSbDAfNG4SA1GRCV0GRC0d0FCV0FC0d0/build.ninja...\n",
      "/usr/local/lib/python3.10/dist-packages/torch/utils/cpp_extension.py:1964: UserWarning: TORCH_CUDA_ARCH_LIST is not set, all archs for visible cards are included for compilation. \n",
      "If this is not desired, please set os.environ['TORCH_CUDA_ARCH_LIST'].\n",
      "  warnings.warn(\n",
      "Building extension module slstm_HS128BS8NH4NS4DBfDRbDWbDGbDSbDAfNG4SA1GRCV0GRC0d0FCV0FC0d0...\n",
      "Allowing ninja to set a default number of workers... (overridable by setting the environment variable MAX_JOBS=N)\n",
      "Loading extension module slstm_HS128BS8NH4NS4DBfDRbDWbDGbDSbDAfNG4SA1GRCV0GRC0d0FCV0FC0d0...\n",
      "/usr/local/lib/python3.10/dist-packages/xlstm/blocks/slstm/cell.py:546: FutureWarning: `torch.cuda.amp.custom_fwd(args...)` is deprecated. Please use `torch.amp.custom_fwd(args..., device_type='cuda')` instead.\n",
      "  def forward(ctx, training, *inputs):\n",
      "/usr/local/lib/python3.10/dist-packages/xlstm/blocks/slstm/cell.py:571: FutureWarning: `torch.cuda.amp.custom_bwd(args...)` is deprecated. Please use `torch.amp.custom_bwd(args..., device_type='cuda')` instead.\n",
      "  def backward(ctx, grad_s):\n"
     ]
    },
    {
     "data": {
      "text/plain": [
       "<All keys matched successfully>"
      ]
     },
     "execution_count": 12,
     "metadata": {},
     "output_type": "execute_result"
    }
   ],
   "source": [
    "VOCAB_SIZE = len(char_to_index)\n",
    "EMBEDDING_DIM = MODEL_EMBEDDING_DIM\n",
    "HIDDEN_SIZE = MODEL_HIDDEN_SIZE\n",
    "CONTEXT_LENGTH = DATASET_SEQUENCE_LENGTH\n",
    "NUM_BLOCKS = 7  # Number of xLSTM blocks\n",
    "SLSTM_AT = [1]  # Use sLSTM at specific layers\n",
    "\n",
    "# Initialize the model\n",
    "model = SimpleModelWithxLSTM(\n",
    "    vocab_size=VOCAB_SIZE,\n",
    "    embedding_dim=EMBEDDING_DIM,\n",
    "    hidden_size=HIDDEN_SIZE,\n",
    "    context_length=CONTEXT_LENGTH,\n",
    "    num_blocks=NUM_BLOCKS,\n",
    "    slstm_at=SLSTM_AT\n",
    ").to(device)\n",
    "\n",
    "\n",
    "n_epochs = TRAINING_EPOCHS\n",
    "\n",
    "loss_fn = nn.CrossEntropyLoss() # Because character classification task\n",
    "optimizer = torch.optim.Adam(model.parameters(), lr=0.001, weight_decay=1e-5)\n",
    "\n",
    "load_path = \"/insert_file_path/Final_Model_xLSTM_Truncated_NoWhiteSpace.pt\"\n",
    "model.load_state_dict(torch.load(load_path, weights_only=True, map_location=torch.device('cpu')))"
   ]
  },
  {
   "cell_type": "code",
   "execution_count": null,
   "metadata": {
    "id": "Hqw7DyCsR5Rn"
   },
   "outputs": [],
   "source": [
    "batch_size = LOADER_BATCH_SIZE\n",
    "\n",
    "\n",
    "train_loader = torch.utils.data.DataLoader(train_dataset,\n",
    "                                           batch_size=batch_size,\n",
    "                                           shuffle=True)\n",
    "test_loader = torch.utils.data.DataLoader(test_dataset,\n",
    "                                          batch_size=batch_size,\n",
    "                                          shuffle=False)"
   ]
  },
  {
   "cell_type": "code",
   "execution_count": null,
   "metadata": {
    "colab": {
     "base_uri": "https://localhost:8080/"
    },
    "executionInfo": {
     "elapsed": 12449,
     "status": "ok",
     "timestamp": 1733398810015,
     "user": {
      "displayName": "Alexander Caning",
      "userId": "11690755251269761455"
     },
     "user_tz": -60
    },
    "id": "_SqhlAKqzMhX",
    "outputId": "a09a4f01-075d-471c-d45a-1fccd7ae1410"
   },
   "outputs": [
    {
     "name": "stdout",
     "output_type": "stream",
     "text": [
      "Batch 1/73\n",
      "Batch 2/73\n",
      "Batch 3/73\n",
      "Batch 4/73\n",
      "Batch 5/73\n",
      "Batch 6/73\n",
      "Batch 7/73\n",
      "Batch 8/73\n",
      "Batch 9/73\n",
      "Batch 10/73\n",
      "Batch 11/73\n",
      "Batch 12/73\n",
      "Batch 13/73\n",
      "Batch 14/73\n",
      "Batch 15/73\n",
      "Batch 16/73\n",
      "Batch 17/73\n",
      "Batch 18/73\n",
      "Batch 19/73\n",
      "Batch 20/73\n",
      "Batch 21/73\n",
      "Batch 22/73\n",
      "Batch 23/73\n",
      "Batch 24/73\n",
      "Batch 25/73\n",
      "Batch 26/73\n",
      "Batch 27/73\n",
      "Batch 28/73\n",
      "Batch 29/73\n",
      "Batch 30/73\n",
      "Batch 31/73\n",
      "Batch 32/73\n",
      "Batch 33/73\n",
      "Batch 34/73\n",
      "Batch 35/73\n",
      "Batch 36/73\n",
      "Batch 37/73\n",
      "Batch 38/73\n",
      "Batch 39/73\n",
      "Batch 40/73\n",
      "Batch 41/73\n",
      "Batch 42/73\n",
      "Batch 43/73\n",
      "Batch 44/73\n",
      "Batch 45/73\n",
      "Batch 46/73\n",
      "Batch 47/73\n",
      "Batch 48/73\n",
      "Batch 49/73\n",
      "Batch 50/73\n",
      "Batch 51/73\n",
      "Batch 52/73\n",
      "Batch 53/73\n",
      "Batch 54/73\n",
      "Batch 55/73\n",
      "Batch 56/73\n",
      "Batch 57/73\n",
      "Batch 58/73\n",
      "Batch 59/73\n",
      "Batch 60/73\n",
      "Batch 61/73\n",
      "Batch 62/73\n",
      "Batch 63/73\n",
      "Batch 64/73\n",
      "Batch 65/73\n",
      "Batch 66/73\n",
      "Batch 67/73\n",
      "Batch 68/73\n",
      "Batch 69/73\n",
      "Batch 70/73\n",
      "Batch 71/73\n",
      "Batch 72/73\n",
      "Batch 73/73\n"
     ]
    }
   ],
   "source": [
    "# TEST EVAL RUN\n",
    "model.eval()\n",
    "predictions = []\n",
    "\n",
    "with torch.no_grad():\n",
    "    for batch_number, (x_batch, y_batch) in enumerate(test_loader):\n",
    "        x_batch, y_batch = x_batch.to(device), y_batch.to(device)\n",
    "        y_pred = model(x_batch)\n",
    "\n",
    "        loss = loss_fn(y_pred, y_batch)\n",
    "\n",
    "        print(f\"Batch {batch_number + 1}/{len(test_loader)}\")\n",
    "\n",
    "        predictions.append((y_pred.argmax(dim=1), y_batch))"
   ]
  },
  {
   "cell_type": "code",
   "execution_count": null,
   "metadata": {
    "id": "i-8NzJeJO9DL"
   },
   "outputs": [],
   "source": [
    "character_labels = [index_to_char[i] for i in range(len(index_to_char))]"
   ]
  },
  {
   "cell_type": "code",
   "execution_count": null,
   "metadata": {
    "id": "KDoXJB1Irevh"
   },
   "outputs": [],
   "source": [
    "from sklearn.metrics import ConfusionMatrixDisplay"
   ]
  },
  {
   "cell_type": "code",
   "execution_count": null,
   "metadata": {
    "id": "RR51b-NTNvdP"
   },
   "outputs": [],
   "source": [
    "# Assuming your predictions list has data in the form [(predicted, actual), ...]\n",
    "all_preds = []\n",
    "all_actuals = []\n",
    "\n",
    "# Flattening predictions across all batches\n",
    "for preds, actuals in predictions:\n",
    "    all_preds.extend(preds.cpu().numpy())\n",
    "    all_actuals.extend(actuals.cpu().numpy())\n",
    "    for preds in all_preds:\n",
    "      if preds == 10:\n",
    "        print(\"what the skibidi\")\n",
    "\n",
    "all_preds = [index_to_char[index] for index in all_preds]\n",
    "all_actuals = [index_to_char[index] for index in all_actuals]\n",
    "\n",
    "\n",
    "\n",
    "unique_labels = sorted(list(set(all_actuals + all_preds)))\n",
    "\n",
    "# Compute confusion matrix\n",
    "conf_matrix = confusion_matrix(all_actuals, all_preds, labels = unique_labels, normalize=\"true\")"
   ]
  },
  {
   "cell_type": "code",
   "execution_count": null,
   "metadata": {
    "colab": {
     "base_uri": "https://localhost:8080/",
     "height": 196
    },
    "executionInfo": {
     "elapsed": 17,
     "status": "error",
     "timestamp": 1733393161992,
     "user": {
      "displayName": "Alexander Caning",
      "userId": "11690755251269761455"
     },
     "user_tz": -60
    },
    "id": "girqi9YyQxJc",
    "outputId": "e79672a9-3642-472f-cde5-cbaa59c6b024"
   },
   "outputs": [],
   "source": [
    "with open(\"/insert_file_path/predictions.json\", \"w\") as f:\n",
    "    json.dump((all_preds, all_actuals), f)\n"
   ]
  },
  {
   "cell_type": "code",
   "execution_count": null,
   "metadata": {
    "colab": {
     "base_uri": "https://localhost:8080/",
     "height": 1000
    },
    "executionInfo": {
     "elapsed": 1466,
     "status": "ok",
     "timestamp": 1733401199653,
     "user": {
      "displayName": "Alexander Caning",
      "userId": "11690755251269761455"
     },
     "user_tz": -60
    },
    "id": "-CBgElV6OJwT",
    "outputId": "0ff57311-8f16-4061-a2e1-11969f705cf8"
   },
   "outputs": [
    {
     "data": {
      "image/png": "[encoded data removed]",
      "text/plain": [
       "<Figure size 1600x1600 with 2 Axes>"
      ]
     },
     "metadata": {},
     "output_type": "display_data"
    }
   ],
   "source": [
    "# Visualize confusion matrix as heatmap\n",
    "plt.figure(figsize=(16, 16))\n",
    "sns.heatmap(conf_matrix, annot=False, fmt='d', cmap='Blues',\n",
    "            xticklabels=unique_labels,\n",
    "            yticklabels=unique_labels)\n",
    "plt.xlabel('Predicted Label')\n",
    "plt.ylabel('Actual Label')\n",
    "plt.title('Confusion Matrix Heatmap')\n",
    "plt.show()"
   ]
  }
 ],
 "metadata": {
  "accelerator": "GPU",
  "colab": {
   "gpuType": "T4",
   "provenance": []
  },
  "kernelspec": {
   "display_name": "Python 3",
   "name": "python3"
  },
  "language_info": {
   "name": "python"
  }
 },
 "nbformat": 4,
 "nbformat_minor": 0
}
