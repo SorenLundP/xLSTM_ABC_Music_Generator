{
 "cells": [
  {
   "cell_type": "markdown",
   "metadata": {
    "id": "iK66vp5ombAp"
   },
   "source": [
    "# I TRUNCATED THE DATA IN THE DATALOADING SECTION"
   ]
  },
  {
   "cell_type": "code",
   "execution_count": null,
   "metadata": {
    "id": "fbcBNXMPixE-"
   },
   "outputs": [],
   "source": [
    "import json\n",
    "import torch\n",
    "from torch import nn\n",
    "\n",
    "from sklearn.model_selection import train_test_split\n",
    "import time"
   ]
  },
  {
   "cell_type": "code",
   "execution_count": null,
   "metadata": {
    "colab": {
     "base_uri": "https://localhost:8080/"
    },
    "id": "Qv_SLsii1wuX",
    "outputId": "f34fb8c6-e2ab-4c17-999e-c9b82fbc11c9"
   },
   "outputs": [
    {
     "name": "stdout",
     "output_type": "stream",
     "text": [
      "Using device: cuda\n"
     ]
    }
   ],
   "source": [
    "device = torch.device('cuda' if torch.cuda.is_available() else 'cpu')\n",
    "print(\"Using device:\", device)"
   ]
  },
  {
   "cell_type": "code",
   "execution_count": null,
   "metadata": {
    "id": "OzN_8ANwfrJC"
   },
   "outputs": [],
   "source": [
    "# Hyperparameters / Variability management\n",
    "DATALOADING_DATA_PATH = \"/insert_file_path/all_tunes_cleaned_removed_whitespace.txt\"\n",
    "DATALOADING_VOCAB_PATH = \"/insert_file_path/char_to_idx_truncated.json\"\n",
    "\n",
    "DATASET_SEQUENCE_LENGTH = 128\n",
    "LOADER_BATCH_SIZE = 126\n",
    "\n",
    "MODEL_EMBEDDING_DIM = 128 # Dimension of the embedding\n",
    "MODEL_HIDDEN_SIZE = 128 # LSTM layer size\n",
    "MODEL_LSTM_LAYERS = 1 # Number of LSTM layers\n",
    "MODEL_SAVE_PATH =   '/insert_file_path/Dropout_model.pt'\n",
    "\n",
    "TRAINING_EPOCHS = 15\n",
    "\n",
    "RESULTS_LOAD_PATH =  '/insert_file_path/Dropout_model.pt'\n"
   ]
  },
  {
   "cell_type": "code",
   "execution_count": null,
   "metadata": {
    "colab": {
     "base_uri": "https://localhost:8080/"
    },
    "id": "2EVPbP1RfsoN",
    "outputId": "bd81acea-9c70-4804-eb14-4a5e1b68d9d7"
   },
   "outputs": [
    {
     "name": "stdout",
     "output_type": "stream",
     "text": [
      "Drive already mounted at /content/drive; to attempt to forcibly remount, call drive.mount(\"/content/drive\", force_remount=True).\n"
     ]
    }
   ],
   "source": [
    "from google.colab import drive\n",
    "drive.mount('/content/drive')"
   ]
  },
  {
   "cell_type": "markdown",
   "metadata": {
    "id": "zs8Mm6HhhMDW"
   },
   "source": [
    "# Dataloading"
   ]
  },
  {
   "cell_type": "code",
   "execution_count": null,
   "metadata": {
    "id": "W2Q7apwwbt7u"
   },
   "outputs": [],
   "source": [
    "with open(DATALOADING_DATA_PATH, \"r\") as f:\n",
    "  data = f.read()\n",
    "\n",
    "with open(DATALOADING_VOCAB_PATH) as f:\n",
    "    char_to_index = json.load(f)\n",
    "    index_to_char = {index: char for char, index in char_to_index.items()} # To transfer back"
   ]
  },
  {
   "cell_type": "markdown",
   "metadata": {
    "id": "IqMwUbGJi5hD"
   },
   "source": [
    "Translate the data to indices:"
   ]
  },
  {
   "cell_type": "code",
   "execution_count": null,
   "metadata": {
    "colab": {
     "base_uri": "https://localhost:8080/"
    },
    "id": "-i8FTbWhi9XH",
    "outputId": "16c3507c-6dd4-409e-8c85-78a8ab4a216a"
   },
   "outputs": [
    {
     "name": "stdout",
     "output_type": "stream",
     "text": [
      "RAW FORMAT\n",
      "X:1\n",
      "L:1/8\n",
      "\n",
      "\n",
      "TRANSLATED FORMAT\n",
      "[89, 1, 29, 5, 71, 1, 29, 3, 50, 5]\n",
      "LENGTH OF DATA:\n",
      "186334\n"
     ]
    }
   ],
   "source": [
    "data_translated = [char_to_index[char] for char in data]\n",
    "data_translated = data_translated[:len(data_translated) // 250] # Truncate data\n",
    "print(\"RAW FORMAT\")\n",
    "print(data[:10])\n",
    "\n",
    "print(\"\\nTRANSLATED FORMAT\")\n",
    "print(data_translated[:10])\n",
    "\n",
    "print(\"LENGTH OF DATA:\")\n",
    "print(len(data_translated))"
   ]
  },
  {
   "cell_type": "markdown",
   "metadata": {
    "id": "8EHCvPFajdJg"
   },
   "source": [
    "# Defining the data set class"
   ]
  },
  {
   "cell_type": "code",
   "execution_count": null,
   "metadata": {
    "id": "0GKH-OfzjfyR"
   },
   "outputs": [],
   "source": [
    "# Define the data set\n",
    "# WARNING: TAKES TRANSLATED DATA FORMAT\n",
    "class MusicDataset(torch.utils.data.Dataset):\n",
    "    def __init__(self,\n",
    "                 X, # The data in TRANSLATED FORMAT\n",
    "                 sequence_len=1, # How much context does the model have?\n",
    "                 ):\n",
    "\n",
    "        self.X=torch.tensor(X, dtype=torch.long)\n",
    "        self.sequence_len=sequence_len\n",
    "\n",
    "    def __len__(self):\n",
    "      # Make room for a last sequence and its target, hence the 1 also\n",
    "        return len(self.X) - self.sequence_len - 1\n",
    "\n",
    "\n",
    "    def __getitem__(self,idx):\n",
    "        X = self.X[idx:idx+self.sequence_len] # 1 x sequence_len\n",
    "        Ytarget = self.X[idx+self.sequence_len] # 1 x 1\n",
    "        return X, Ytarget.long() # For dimensions to match LSTM layer :)"
   ]
  },
  {
   "cell_type": "markdown",
   "metadata": {
    "id": "Nnu_277oybna"
   },
   "source": [
    "See [pyTorch LSTM layer](https://pytorch.org/docs/stable/generated/torch.nn.LSTM.html) for dimension details"
   ]
  },
  {
   "cell_type": "code",
   "execution_count": null,
   "metadata": {
    "id": "gh9FBD6GmBTn"
   },
   "outputs": [],
   "source": [
    "dataset = MusicDataset(X=data_translated, sequence_len=DATASET_SEQUENCE_LENGTH)"
   ]
  },
  {
   "cell_type": "code",
   "execution_count": null,
   "metadata": {
    "colab": {
     "base_uri": "https://localhost:8080/"
    },
    "id": "CMQZPsznmK8Y",
    "outputId": "811a1418-0b7f-42cd-fc18-6113fabc4f1d"
   },
   "outputs": [
    {
     "name": "stdout",
     "output_type": "stream",
     "text": [
      "--- DIMENSIONS ---\n",
      "X: torch.Size([128])\n",
      "y: torch.Size([])\n",
      "\n",
      "--- INPUT X ---\n",
      "RAW - First 10\n",
      "tensor([ 1, 29,  5, 71,  1, 29,  3, 50,  5,  0])\n",
      "TRANSLATED\n",
      ":1\n",
      "L:1/8\n",
      "M:4/4\n",
      "K:Emin\n",
      "|:E2EFE2EF|DEFGAFDF|E2EFE2B2|1efe^de2e2:|2efe^de3B|:e2efg2fe|\n",
      "defgafdf|1e2efg2fe|efe^de3B:|2g2bgf2af|efe^d\n",
      "\n",
      "--- TARGET Y ---\n",
      "RAW\n",
      "tensor(14)\n",
      "TRANSLATED\n",
      "e\n"
     ]
    }
   ],
   "source": [
    "# Unit tests:\n",
    "train_idx, test_idx = train_test_split(range(len(dataset)), test_size=.1, shuffle=False)\n",
    "train_dataset = torch.utils.data.Subset(dataset, train_idx)\n",
    "test_dataset = torch.utils.data.Subset(dataset, test_idx)\n",
    "\n",
    "x, y = train_dataset[1]\n",
    "\n",
    "print(\"--- DIMENSIONS ---\")\n",
    "print(\"X:\", x.shape)\n",
    "print(\"y:\", y.shape)\n",
    "\n",
    "\n",
    "print(\"\\n--- INPUT X ---\")\n",
    "print(\"RAW - First 10\")\n",
    "print(x[:10])\n",
    "\n",
    "\n",
    "print(\"TRANSLATED\")\n",
    "print(*list(index_to_char[index.item()] for index in x), sep=\"\")\n",
    "\n",
    "print(\"\\n--- TARGET Y ---\")\n",
    "print(\"RAW\")\n",
    "print(y)\n",
    "\n",
    "print(\"TRANSLATED\")\n",
    "print(index_to_char[y.item()])"
   ]
  },
  {
   "cell_type": "markdown",
   "metadata": {
    "id": "5aX2aGihrFSH"
   },
   "source": [
    "Data is split up into 80% training, 20% test."
   ]
  },
  {
   "cell_type": "markdown",
   "metadata": {
    "id": "BYkIBZtxqDLY"
   },
   "source": [
    "# Defining the pyTorch LSTM model"
   ]
  },
  {
   "cell_type": "code",
   "execution_count": null,
   "metadata": {
    "id": "tbKz9d4Hp7c0"
   },
   "outputs": [],
   "source": [
    "class SimpleModel(nn.Module):\n",
    "    def __init__(self,\n",
    "                 embedding_dim, # Number of features - we have 1 because music!\n",
    "                 hidden_size, # Hidden size of LSTM layer\n",
    "                 num_layers, # Number of LSTM layers\n",
    "                 ):\n",
    "\n",
    "        super().__init__()\n",
    "        self.embedding = nn.Embedding(num_embeddings=len(char_to_index),\n",
    "                                      embedding_dim=embedding_dim)\n",
    "\n",
    "        self.LSTM = nn.LSTM(input_size=embedding_dim,\n",
    "                          hidden_size=hidden_size,\n",
    "                          num_layers=num_layers,\n",
    "                          batch_first=True)\n",
    "\n",
    "        self.fc1 = nn.Linear(hidden_size,\n",
    "                             hidden_size)\n",
    "\n",
    "        self.fc2 = nn.Linear(hidden_size, len(char_to_index)) # hidden size x vocab size\n",
    "\n",
    "    def forward(self, x):\n",
    "        x = self.embedding(x)\n",
    "        _, (h_n, _) = self.LSTM(x) # Needs N x seq_L x FEATURE_DIM\n",
    "        x = h_n[-1]\n",
    "        x = self.fc1(x) # See w8_forecast solution for an explanation of slicing\n",
    "        x = nn.functional.relu(x)\n",
    "        x = self.fc2(x)\n",
    "        return x"
   ]
  },
  {
   "cell_type": "markdown",
   "metadata": {
    "id": "knT-q0FizSJA"
   },
   "source": [
    "# Define data loaders"
   ]
  },
  {
   "cell_type": "code",
   "execution_count": null,
   "metadata": {
    "id": "RQweKXuBzU_2"
   },
   "outputs": [],
   "source": [
    "batch_size = LOADER_BATCH_SIZE\n",
    "\n",
    "\n",
    "train_loader = torch.utils.data.DataLoader(train_dataset,\n",
    "                                           batch_size=batch_size,\n",
    "                                           shuffle=True)\n",
    "test_loader = torch.utils.data.DataLoader(test_dataset,\n",
    "                                          batch_size=batch_size,\n",
    "                                          shuffle=False)"
   ]
  },
  {
   "cell_type": "markdown",
   "metadata": {
    "id": "13T4oe0i1Tzb"
   },
   "source": [
    "# Training & testing the model"
   ]
  },
  {
   "cell_type": "markdown",
   "metadata": {
    "id": "4tG_uKxk53O3"
   },
   "source": [
    "First setup:"
   ]
  },
  {
   "cell_type": "code",
   "execution_count": null,
   "metadata": {
    "id": "xFzDszeZ549q"
   },
   "outputs": [],
   "source": [
    "n_epochs = TRAINING_EPOCHS\n",
    "\n",
    "model = SimpleModel(embedding_dim=MODEL_EMBEDDING_DIM,\n",
    "                    hidden_size=MODEL_HIDDEN_SIZE,\n",
    "                    num_layers=MODEL_LSTM_LAYERS\n",
    "                    ).to(device)\n",
    "\n",
    "loss_fn = nn.CrossEntropyLoss() # Because character classification task\n",
    "optimizer = torch.optim.Adam(model.parameters(), lr=0.001, weight_decay=1e-5)"
   ]
  },
  {
   "cell_type": "code",
   "execution_count": null,
   "metadata": {
    "colab": {
     "base_uri": "https://localhost:8080/"
    },
    "id": "eawD-pAm6DJL",
    "outputId": "cb0f32ae-475d-472e-86f3-15e8feeadd55"
   },
   "outputs": [
    {
     "name": "stdout",
     "output_type": "stream",
     "text": [
      "X batch dim: torch.Size([126, 128])\n",
      "y batch dim: torch.Size([126])\n",
      "y_pred dim: torch.Size([126, 95])\n"
     ]
    },
    {
     "data": {
      "text/plain": [
       "tensor(4.5530, device='cuda:0', grad_fn=<NllLossBackward0>)"
      ]
     },
     "execution_count": 20,
     "metadata": {},
     "output_type": "execute_result"
    }
   ],
   "source": [
    "# Sanity check loss function\n",
    "for x_batch, y_batch in train_loader:\n",
    "  x_batch, y_batch = x_batch.to(device), y_batch.to(device)\n",
    "  break\n",
    "\n",
    "print(\"X batch dim:\", x_batch.shape)\n",
    "print(\"y batch dim:\", y_batch.shape)\n",
    "\n",
    "\n",
    "model_output = model(x_batch)\n",
    "print(\"y_pred dim:\", model_output.shape)\n",
    "\n",
    "loss_fn(model_output, y_batch)"
   ]
  },
  {
   "cell_type": "markdown",
   "metadata": {
    "id": "7WzuIoNv57lH"
   },
   "source": [
    "Training & Testing"
   ]
  },
  {
   "cell_type": "code",
   "execution_count": null,
   "metadata": {
    "colab": {
     "base_uri": "https://localhost:8080/"
    },
    "id": "4G6wd-zDAcr_",
    "outputId": "a35191d9-3ded-4f46-e653-ab8e90636511"
   },
   "outputs": [
    {
     "name": "stdout",
     "output_type": "stream",
     "text": [
      "Batch 1/148\n",
      "Accuracy 0.9774%\n",
      "Initial loss: 0.0362\n"
     ]
    }
   ],
   "source": [
    "# TEST EVAL RUN\n",
    "model.eval()\n",
    "test_loss = 0\n",
    "test_accuracy = 0\n",
    "\n",
    "with torch.no_grad():\n",
    "    for batch_number, (x_batch, y_batch) in enumerate(test_loader):\n",
    "        x_batch, y_batch = x_batch.to(device), y_batch.to(device)\n",
    "        y_pred = model(x_batch)\n",
    "\n",
    "        loss = loss_fn(y_pred, y_batch)\n",
    "        test_loss += loss.item()\n",
    "\n",
    "        test_accuracy += (y_pred.argmax(dim=1) == y_batch).sum().item()\n",
    "\n",
    "        if batch_number % 1000 == 0:\n",
    "          print(f\"Batch {batch_number + 1}/{len(test_loader)}\")\n",
    "\n",
    "print(f\"Accuracy {test_accuracy / len(test_dataset) * 100:.4f}%\")\n",
    "print(f\"Initial loss: {test_loss / len(test_dataset):.4f}\")"
   ]
  },
  {
   "cell_type": "code",
   "execution_count": null,
   "metadata": {
    "id": "B8zzOZiKt3vH"
   },
   "outputs": [],
   "source": [
    "train_loss = []\n",
    "test_loss = []\n",
    "train_accuracy = []\n",
    "test_accuracy = []\n",
    "\n",
    "def train(model, optimizer, loss_fn, train_loader):\n",
    "    model.train()\n",
    "    correct_predictions = 0\n",
    "    total_samples = 0\n",
    "    losses = 0\n",
    "\n",
    "    for batch_number, (x_batch, y_batch) in enumerate(train_loader):\n",
    "        x_batch, y_batch = x_batch.to(device), y_batch.to(device)\n",
    "        y_pred = model(x_batch)\n",
    "\n",
    "        loss = loss_fn(y_pred, y_batch)\n",
    "        optimizer.zero_grad()\n",
    "        loss.backward()\n",
    "\n",
    "        # Clip gradients (only if necessary)\n",
    "        torch.nn.utils.clip_grad_norm_(model.parameters(), max_norm=1)\n",
    "\n",
    "        optimizer.step()\n",
    "\n",
    "        losses += loss.item()\n",
    "        correct_predictions += (y_pred.argmax(dim=1) == y_batch).sum().item()\n",
    "        total_samples += y_batch.size(0)\n",
    "\n",
    "        if batch_number % 1000 == 0:\n",
    "            print(f\"Batch {batch_number + 1}/{len(train_loader)}\")\n",
    "\n",
    "    train_loss.append(losses / len(train_loader))\n",
    "    train_accuracy.append(correct_predictions / total_samples)\n",
    "    print(f\"Train Loss: {train_loss[-1]:.4f}, Train Accuracy: {train_accuracy[-1] * 100:.2f}%\")\n",
    "\n",
    "\n",
    "def test(model, loss_fn, test_loader):\n",
    "    model.eval()\n",
    "    correct_predictions = 0\n",
    "    total_samples = 0\n",
    "    losses = 0\n",
    "\n",
    "    with torch.no_grad():\n",
    "        for batch_number, (x_batch, y_batch) in enumerate(test_loader):\n",
    "            x_batch, y_batch = x_batch.to(device), y_batch.to(device)\n",
    "            y_pred = model(x_batch)\n",
    "\n",
    "            loss = loss_fn(y_pred, y_batch)\n",
    "\n",
    "            losses += loss.item()\n",
    "            correct_predictions += (y_pred.argmax(dim=1) == y_batch).sum().item()\n",
    "            total_samples += y_batch.size(0)\n",
    "\n",
    "            if batch_number % 1000 == 0:\n",
    "                print(f\"Batch {batch_number + 1}/{len(test_loader)}\")\n",
    "\n",
    "    test_loss.append(losses / len(test_loader))\n",
    "    test_accuracy.append(correct_predictions / total_samples)\n",
    "    print(f\"Test Loss: {test_loss[-1]:.4f}, Test Accuracy: {test_accuracy[-1] * 100:.2f}%\")"
   ]
  },
  {
   "cell_type": "code",
   "execution_count": null,
   "metadata": {
    "colab": {
     "base_uri": "https://localhost:8080/"
    },
    "id": "-TQmbU8ewVYs",
    "outputId": "7cbe93be-d9eb-4834-efe9-8f597ac7de26"
   },
   "outputs": [
    {
     "name": "stdout",
     "output_type": "stream",
     "text": [
      "Model hidden size: 128, LSTM layers: 2\n",
      "Epoch 0/15\n",
      "Batch 1/1331\n",
      "Batch 1001/1331\n",
      "Train Loss: 2.3646, Train Accuracy: 30.99%\n",
      "Batch 1/148\n",
      "Test Loss: 2.0267, Test Accuracy: 39.19%\n",
      "{'train_loss': [2.364609059402586], 'test_loss': [2.026732949791728], 'train_accuracy': [0.3098684838648081], 'test_accuracy': [0.3919230975780033]}\n",
      "Epoch 1/15\n",
      "Batch 1/1331\n",
      "Batch 1001/1331\n",
      "Train Loss: 1.8284, Train Accuracy: 43.40%\n",
      "Batch 1/148\n",
      "Test Loss: 1.8830, Test Accuracy: 43.61%\n",
      "{'train_loss': [2.364609059402586, 1.828377565524347], 'test_loss': [2.026732949791728, 1.8830098284257424], 'train_accuracy': [0.3098684838648081, 0.43395550887912926], 'test_accuracy': [0.3919230975780033, 0.43612050910262606]}\n",
      "Epoch 2/15\n",
      "Batch 1/1331\n",
      "Batch 1001/1331\n",
      "Train Loss: 1.6827, Train Accuracy: 47.37%\n",
      "Batch 1/148\n",
      "Test Loss: 1.8262, Test Accuracy: 45.49%\n",
      "{'train_loss': [2.364609059402586, 1.828377565524347, 1.6827393859781599], 'test_loss': [2.026732949791728, 1.8830098284257424, 1.8262356028363511], 'train_accuracy': [0.3098684838648081, 0.43395550887912926, 0.47373854305900326], 'test_accuracy': [0.3919230975780033, 0.43612050910262606, 0.45486278932388163]}\n",
      "Epoch 3/15\n",
      "Batch 1/1331\n",
      "Batch 1001/1331\n",
      "Train Loss: 1.5815, Train Accuracy: 50.27%\n",
      "Batch 1/148\n",
      "Test Loss: 1.7882, Test Accuracy: 46.30%\n",
      "{'train_loss': [2.364609059402586, 1.828377565524347, 1.6827393859781599, 1.5815194348121029], 'test_loss': [2.026732949791728, 1.8830098284257424, 1.8262356028363511, 1.7881979885939006], 'train_accuracy': [0.3098684838648081, 0.43395550887912926, 0.47373854305900326, 0.5027448921138056], 'test_accuracy': [0.3919230975780033, 0.43612050910262606, 0.45486278932388163, 0.4630256162397293]}\n",
      "Epoch 4/15\n",
      "Batch 1/1331\n",
      "Batch 1001/1331\n",
      "Train Loss: 1.5021, Train Accuracy: 52.50%\n",
      "Batch 1/148\n",
      "Test Loss: 1.7598, Test Accuracy: 47.08%\n",
      "{'train_loss': [2.364609059402586, 1.828377565524347, 1.6827393859781599, 1.5815194348121029, 1.5021187380504823], 'test_loss': [2.026732949791728, 1.8830098284257424, 1.8262356028363511, 1.7881979885939006, 1.7597742725063015], 'train_accuracy': [0.3098684838648081, 0.43395550887912926, 0.47373854305900326, 0.5027448921138056, 0.5249665839220928], 'test_accuracy': [0.3919230975780033, 0.43612050910262606, 0.45486278932388163, 0.4630256162397293, 0.4707588206863219]}\n",
      "Epoch 5/15\n",
      "Batch 1/1331\n",
      "Batch 1001/1331\n",
      "Train Loss: 1.4357, Train Accuracy: 54.49%\n",
      "Batch 1/148\n",
      "Test Loss: 1.7663, Test Accuracy: 47.95%\n",
      "{'train_loss': [2.364609059402586, 1.828377565524347, 1.6827393859781599, 1.5815194348121029, 1.5021187380504823, 1.4357491535499165], 'test_loss': [2.026732949791728, 1.8830098284257424, 1.8262356028363511, 1.7881979885939006, 1.7597742725063015, 1.7662845519748893], 'train_accuracy': [0.3098684838648081, 0.43395550887912926, 0.47373854305900326, 0.5027448921138056, 0.5249665839220928, 0.5449267233148749], 'test_accuracy': [0.3919230975780033, 0.43612050910262606, 0.45486278932388163, 0.4630256162397293, 0.4707588206863219, 0.4795123784973954]}\n",
      "Epoch 6/15\n",
      "Batch 1/1331\n",
      "Batch 1001/1331\n",
      "Train Loss: 1.3786, Train Accuracy: 56.13%\n",
      "Batch 1/148\n",
      "Test Loss: 1.7606, Test Accuracy: 47.68%\n",
      "{'train_loss': [2.364609059402586, 1.828377565524347, 1.6827393859781599, 1.5815194348121029, 1.5021187380504823, 1.4357491535499165, 1.378562168865433], 'test_loss': [2.026732949791728, 1.8830098284257424, 1.8262356028363511, 1.7881979885939006, 1.7597742725063015, 1.7662845519748893, 1.7605955584629163], 'train_accuracy': [0.3098684838648081, 0.43395550887912926, 0.47373854305900326, 0.5027448921138056, 0.5249665839220928, 0.5449267233148749, 0.5613125358029406], 'test_accuracy': [0.3919230975780033, 0.43612050910262606, 0.45486278932388163, 0.4630256162397293, 0.4707588206863219, 0.4795123784973954, 0.4767735352558939]}\n",
      "Epoch 7/15\n",
      "Batch 1/1331\n",
      "Batch 1001/1331\n",
      "Train Loss: 1.3266, Train Accuracy: 57.63%\n",
      "Batch 1/148\n",
      "Test Loss: 1.7665, Test Accuracy: 48.03%\n",
      "{'train_loss': [2.364609059402586, 1.828377565524347, 1.6827393859781599, 1.5815194348121029, 1.5021187380504823, 1.4357491535499165, 1.378562168865433, 1.3266184796613467], 'test_loss': [2.026732949791728, 1.8830098284257424, 1.8262356028363511, 1.7881979885939006, 1.7597742725063015, 1.7662845519748893, 1.7605955584629163, 1.7665240514922786], 'train_accuracy': [0.3098684838648081, 0.43395550887912926, 0.47373854305900326, 0.5027448921138056, 0.5249665839220928, 0.5449267233148749, 0.5613125358029406, 0.5762841321367195], 'test_accuracy': [0.3919230975780033, 0.43612050910262606, 0.45486278932388163, 0.4630256162397293, 0.4707588206863219, 0.4795123784973954, 0.4767735352558939, 0.4802642178185919]}\n",
      "Epoch 8/15\n",
      "Batch 1/1331\n",
      "Batch 1001/1331\n",
      "Train Loss: 1.2772, Train Accuracy: 59.15%\n",
      "Batch 1/148\n",
      "Test Loss: 1.8005, Test Accuracy: 47.57%\n",
      "{'train_loss': [2.364609059402586, 1.828377565524347, 1.6827393859781599, 1.5815194348121029, 1.5021187380504823, 1.4357491535499165, 1.378562168865433, 1.3266184796613467, 1.2772433347580219], 'test_loss': [2.026732949791728, 1.8830098284257424, 1.8262356028363511, 1.7881979885939006, 1.7597742725063015, 1.7662845519748893, 1.7605955584629163, 1.7665240514922786, 1.800500750541687], 'train_accuracy': [0.3098684838648081, 0.43395550887912926, 0.47373854305900326, 0.5027448921138056, 0.5249665839220928, 0.5449267233148749, 0.5613125358029406, 0.5762841321367195, 0.5915242505251098], 'test_accuracy': [0.3919230975780033, 0.43612050910262606, 0.45486278932388163, 0.4630256162397293, 0.4707588206863219, 0.4795123784973954, 0.4767735352558939, 0.4802642178185919, 0.475699479082756]}\n",
      "Epoch 9/15\n",
      "Batch 1/1331\n",
      "Batch 1001/1331\n",
      "Train Loss: 1.2326, Train Accuracy: 60.47%\n",
      "Batch 1/148\n",
      "Test Loss: 1.8211, Test Accuracy: 47.75%\n",
      "{'train_loss': [2.364609059402586, 1.828377565524347, 1.6827393859781599, 1.5815194348121029, 1.5021187380504823, 1.4357491535499165, 1.378562168865433, 1.3266184796613467, 1.2772433347580219, 1.2325696932203694], 'test_loss': [2.026732949791728, 1.8830098284257424, 1.8262356028363511, 1.7881979885939006, 1.7597742725063015, 1.7662845519748893, 1.7605955584629163, 1.7665240514922786, 1.800500750541687, 1.821122780844972], 'train_accuracy': [0.3098684838648081, 0.43395550887912926, 0.47373854305900326, 0.5027448921138056, 0.5249665839220928, 0.5449267233148749, 0.5613125358029406, 0.5762841321367195, 0.5915242505251098, 0.6046997326713768], 'test_accuracy': [0.3919230975780033, 0.43612050910262606, 0.45486278932388163, 0.4630256162397293, 0.4707588206863219, 0.4795123784973954, 0.4767735352558939, 0.4802642178185919, 0.475699479082756, 0.47747167176843347]}\n",
      "Epoch 10/15\n",
      "Batch 1/1331\n",
      "Batch 1001/1331\n",
      "Train Loss: 1.1890, Train Accuracy: 61.86%\n",
      "Batch 1/148\n",
      "Test Loss: 1.8552, Test Accuracy: 46.62%\n",
      "{'train_loss': [2.364609059402586, 1.828377565524347, 1.6827393859781599, 1.5815194348121029, 1.5021187380504823, 1.4357491535499165, 1.378562168865433, 1.3266184796613467, 1.2772433347580219, 1.2325696932203694, 1.1889738080467522], 'test_loss': [2.026732949791728, 1.8830098284257424, 1.8262356028363511, 1.7881979885939006, 1.7597742725063015, 1.7662845519748893, 1.7605955584629163, 1.7665240514922786, 1.800500750541687, 1.821122780844972, 1.8552113086790651], 'train_accuracy': [0.3098684838648081, 0.43395550887912926, 0.47373854305900326, 0.5027448921138056, 0.5249665839220928, 0.5449267233148749, 0.5613125358029406, 0.5762841321367195, 0.5915242505251098, 0.6046997326713768, 0.6186151422570174], 'test_accuracy': [0.3919230975780033, 0.43612050910262606, 0.45486278932388163, 0.4630256162397293, 0.4707588206863219, 0.4795123784973954, 0.4767735352558939, 0.4802642178185919, 0.475699479082756, 0.47747167176843347, 0.466194081950486]}\n",
      "Epoch 11/15\n",
      "Batch 1/1331\n",
      "Batch 1001/1331\n",
      "Train Loss: 1.1488, Train Accuracy: 63.16%\n",
      "Batch 1/148\n",
      "Test Loss: 1.8698, Test Accuracy: 47.26%\n",
      "{'train_loss': [2.364609059402586, 1.828377565524347, 1.6827393859781599, 1.5815194348121029, 1.5021187380504823, 1.4357491535499165, 1.378562168865433, 1.3266184796613467, 1.2772433347580219, 1.2325696932203694, 1.1889738080467522, 1.1488416882093289], 'test_loss': [2.026732949791728, 1.8830098284257424, 1.8262356028363511, 1.7881979885939006, 1.7597742725063015, 1.7662845519748893, 1.7605955584629163, 1.7665240514922786, 1.800500750541687, 1.821122780844972, 1.8552113086790651, 1.8697520897195146], 'train_accuracy': [0.3098684838648081, 0.43395550887912926, 0.47373854305900326, 0.5027448921138056, 0.5249665839220928, 0.5449267233148749, 0.5613125358029406, 0.5762841321367195, 0.5915242505251098, 0.6046997326713768, 0.6186151422570174, 0.6316235440137483], 'test_accuracy': [0.3919230975780033, 0.43612050910262606, 0.45486278932388163, 0.4630256162397293, 0.4707588206863219, 0.4795123784973954, 0.4767735352558939, 0.4802642178185919, 0.475699479082756, 0.47747167176843347, 0.466194081950486, 0.47258471618065623]}\n",
      "Epoch 12/15\n",
      "Batch 1/1331\n",
      "Batch 1001/1331\n",
      "Train Loss: 1.1077, Train Accuracy: 64.36%\n",
      "Batch 1/148\n",
      "Test Loss: 1.9317, Test Accuracy: 46.43%\n",
      "{'train_loss': [2.364609059402586, 1.828377565524347, 1.6827393859781599, 1.5815194348121029, 1.5021187380504823, 1.4357491535499165, 1.378562168865433, 1.3266184796613467, 1.2772433347580219, 1.2325696932203694, 1.1889738080467522, 1.1488416882093289, 1.1077235456161443], 'test_loss': [2.026732949791728, 1.8830098284257424, 1.8262356028363511, 1.7881979885939006, 1.7597742725063015, 1.7662845519748893, 1.7605955584629163, 1.7665240514922786, 1.800500750541687, 1.821122780844972, 1.8552113086790651, 1.8697520897195146, 1.9316515962819796], 'train_accuracy': [0.3098684838648081, 0.43395550887912926, 0.47373854305900326, 0.5027448921138056, 0.5249665839220928, 0.5449267233148749, 0.5613125358029406, 0.5762841321367195, 0.5915242505251098, 0.6046997326713768, 0.6186151422570174, 0.6316235440137483, 0.6435638247088028], 'test_accuracy': [0.3919230975780033, 0.43612050910262606, 0.45486278932388163, 0.4630256162397293, 0.4707588206863219, 0.4795123784973954, 0.4767735352558939, 0.4802642178185919, 0.475699479082756, 0.47747167176843347, 0.466194081950486, 0.47258471618065623, 0.46426078083883787]}\n",
      "Epoch 13/15\n",
      "Batch 1/1331\n",
      "Batch 1001/1331\n",
      "Train Loss: 1.0672, Train Accuracy: 65.60%\n",
      "Batch 1/148\n",
      "Test Loss: 1.9531, Test Accuracy: 46.22%\n",
      "{'train_loss': [2.364609059402586, 1.828377565524347, 1.6827393859781599, 1.5815194348121029, 1.5021187380504823, 1.4357491535499165, 1.378562168865433, 1.3266184796613467, 1.2772433347580219, 1.2325696932203694, 1.1889738080467522, 1.1488416882093289, 1.1077235456161443, 1.0671825906014103], 'test_loss': [2.026732949791728, 1.8830098284257424, 1.8262356028363511, 1.7881979885939006, 1.7597742725063015, 1.7662845519748893, 1.7605955584629163, 1.7665240514922786, 1.800500750541687, 1.821122780844972, 1.8552113086790651, 1.8697520897195146, 1.9316515962819796, 1.9530974578213047], 'train_accuracy': [0.3098684838648081, 0.43395550887912926, 0.47373854305900326, 0.5027448921138056, 0.5249665839220928, 0.5449267233148749, 0.5613125358029406, 0.5762841321367195, 0.5915242505251098, 0.6046997326713768, 0.6186151422570174, 0.6316235440137483, 0.6435638247088028, 0.6559874451021577], 'test_accuracy': [0.3919230975780033, 0.43612050910262606, 0.45486278932388163, 0.4630256162397293, 0.4707588206863219, 0.4795123784973954, 0.4767735352558939, 0.4802642178185919, 0.475699479082756, 0.47747167176843347, 0.466194081950486, 0.47258471618065623, 0.46426078083883787, 0.4622200741098759]}\n",
      "Epoch 14/15\n",
      "Batch 1/1331\n",
      "Batch 1001/1331\n",
      "Train Loss: 1.0333, Train Accuracy: 66.64%\n",
      "Batch 1/148\n",
      "Test Loss: 2.0099, Test Accuracy: 46.49%\n",
      "{'train_loss': [2.364609059402586, 1.828377565524347, 1.6827393859781599, 1.5815194348121029, 1.5021187380504823, 1.4357491535499165, 1.378562168865433, 1.3266184796613467, 1.2772433347580219, 1.2325696932203694, 1.1889738080467522, 1.1488416882093289, 1.1077235456161443, 1.0671825906014103, 1.0332634672914387], 'test_loss': [2.026732949791728, 1.8830098284257424, 1.8262356028363511, 1.7881979885939006, 1.7597742725063015, 1.7662845519748893, 1.7605955584629163, 1.7665240514922786, 1.800500750541687, 1.821122780844972, 1.8552113086790651, 1.8697520897195146, 1.9316515962819796, 1.9530974578213047, 2.0099151206983104], 'train_accuracy': [0.3098684838648081, 0.43395550887912926, 0.47373854305900326, 0.5027448921138056, 0.5249665839220928, 0.5449267233148749, 0.5613125358029406, 0.5762841321367195, 0.5915242505251098, 0.6046997326713768, 0.6186151422570174, 0.6316235440137483, 0.6435638247088028, 0.6559874451021577, 0.6664478709184648], 'test_accuracy': [0.3919230975780033, 0.43612050910262606, 0.45486278932388163, 0.4630256162397293, 0.4707588206863219, 0.4795123784973954, 0.4767735352558939, 0.4802642178185919, 0.475699479082756, 0.47747167176843347, 0.466194081950486, 0.47258471618065623, 0.46426078083883787, 0.4622200741098759, 0.4648515117340637]}\n",
      "Model hidden size: 256, LSTM layers: 4\n",
      "Epoch 0/15\n",
      "Batch 1/1331\n",
      "Batch 1001/1331\n",
      "Train Loss: 3.1318, Train Accuracy: 15.56%\n",
      "Batch 1/148\n",
      "Test Loss: 2.5485, Test Accuracy: 30.64%\n",
      "{'train_loss': [3.1318057779975623], 'test_loss': [2.5484954883923403], 'train_accuracy': [0.15558764559862517], 'test_accuracy': [0.30637452338757315]}\n",
      "Epoch 1/15\n",
      "Batch 1/1331\n",
      "Batch 1001/1331\n",
      "Train Loss: 2.0977, Train Accuracy: 36.37%\n",
      "Batch 1/148\n",
      "Test Loss: 1.9995, Test Accuracy: 38.11%\n",
      "{'train_loss': [3.1318057779975623, 2.097716998373271], 'test_loss': [2.5484954883923403, 1.9994556444722253], 'train_accuracy': [0.15558764559862517, 0.3636504678250907], 'test_accuracy': [0.30637452338757315, 0.381075130229311]}\n",
      "Epoch 2/15\n",
      "Batch 1/1331\n",
      "Batch 1001/1331\n",
      "Train Loss: 1.8467, Train Accuracy: 41.51%\n",
      "Batch 1/148\n",
      "Test Loss: 1.9074, Test Accuracy: 41.14%\n",
      "{'train_loss': [3.1318057779975623, 2.097716998373271, 1.846696702901982], 'test_loss': [2.5484954883923403, 1.9994556444722253, 1.9074272030108683], 'train_accuracy': [0.15558764559862517, 0.3636504678250907, 0.41514106358602254], 'test_accuracy': [0.30637452338757315, 0.381075130229311, 0.4113635143117985]}\n",
      "Epoch 3/15\n",
      "Batch 1/1331\n",
      "Batch 1001/1331\n",
      "Train Loss: 1.7412, Train Accuracy: 44.08%\n",
      "Batch 1/148\n",
      "Test Loss: 1.8783, Test Accuracy: 42.17%\n",
      "{'train_loss': [3.1318057779975623, 2.097716998373271, 1.846696702901982, 1.7412394896922123], 'test_loss': [2.5484954883923403, 1.9994556444722253, 1.9074272030108683, 1.8782690223809835], 'train_accuracy': [0.15558764559862517, 0.3636504678250907, 0.41514106358602254, 0.4408416077907199], 'test_accuracy': [0.30637452338757315, 0.381075130229311, 0.4113635143117985, 0.4217281563825788]}\n",
      "Epoch 4/15\n",
      "Batch 1/1331\n",
      "Batch 1001/1331\n",
      "Train Loss: 1.6647, Train Accuracy: 46.27%\n",
      "Batch 1/148\n",
      "Test Loss: 1.8311, Test Accuracy: 43.31%\n",
      "{'train_loss': [3.1318057779975623, 2.097716998373271, 1.846696702901982, 1.7412394896922123, 1.6646625146572076], 'test_loss': [2.5484954883923403, 1.9994556444722253, 1.9074272030108683, 1.8782690223809835, 1.8310864938272011], 'train_accuracy': [0.15558764559862517, 0.3636504678250907, 0.41514106358602254, 0.4408416077907199, 0.4626933358793202], 'test_accuracy': [0.30637452338757315, 0.381075130229311, 0.4113635143117985, 0.4217281563825788, 0.43311315181784005]}\n",
      "Epoch 5/15\n",
      "Batch 1/1331\n",
      "Batch 1001/1331\n",
      "Train Loss: 1.5967, Train Accuracy: 48.30%\n",
      "Batch 1/148\n",
      "Test Loss: 1.8474, Test Accuracy: 43.55%\n",
      "{'train_loss': [3.1318057779975623, 2.097716998373271, 1.846696702901982, 1.7412394896922123, 1.6646625146572076, 1.5966680690276722], 'test_loss': [2.5484954883923403, 1.9994556444722253, 1.9074272030108683, 1.8782690223809835, 1.8310864938272011, 1.8473542397086684], 'train_accuracy': [0.15558764559862517, 0.3636504678250907, 0.41514106358602254, 0.4408416077907199, 0.4626933358793202, 0.48299957036471264], 'test_accuracy': [0.30637452338757315, 0.381075130229311, 0.4113635143117985, 0.4217281563825788, 0.43311315181784005, 0.43547607539874333]}\n",
      "Epoch 6/15\n",
      "Batch 1/1331\n",
      "Batch 1001/1331\n",
      "Train Loss: 1.5282, Train Accuracy: 50.65%\n",
      "Batch 1/148\n",
      "Test Loss: 1.8372, Test Accuracy: 45.09%\n",
      "{'train_loss': [3.1318057779975623, 2.097716998373271, 1.846696702901982, 1.7412394896922123, 1.6646625146572076, 1.5966680690276722, 1.528244382899834], 'test_loss': [2.5484954883923403, 1.9994556444722253, 1.9074272030108683, 1.8782690223809835, 1.8310864938272011, 1.8473542397086684, 1.837218688146488], 'train_accuracy': [0.15558764559862517, 0.3636504678250907, 0.41514106358602254, 0.4408416077907199, 0.4626933358793202, 0.48299957036471264, 0.5064982337215963], 'test_accuracy': [0.30637452338757315, 0.381075130229311, 0.4113635143117985, 0.4217281563825788, 0.43311315181784005, 0.43547607539874333, 0.45094248429192846]}\n",
      "Epoch 7/15\n",
      "Batch 1/1331\n",
      "Batch 1001/1331\n",
      "Train Loss: 1.4555, Train Accuracy: 53.10%\n",
      "Batch 1/148\n",
      "Test Loss: 1.8272, Test Accuracy: 45.90%\n",
      "{'train_loss': [3.1318057779975623, 2.097716998373271, 1.846696702901982, 1.7412394896922123, 1.6646625146572076, 1.5966680690276722, 1.528244382899834, 1.4554831023775125], 'test_loss': [2.5484954883923403, 1.9994556444722253, 1.9074272030108683, 1.8782690223809835, 1.8310864938272011, 1.8473542397086684, 1.837218688146488, 1.827230038675102], 'train_accuracy': [0.15558764559862517, 0.3636504678250907, 0.41514106358602254, 0.4408416077907199, 0.4626933358793202, 0.48299957036471264, 0.5064982337215963, 0.5309635764750812], 'test_accuracy': [0.30637452338757315, 0.381075130229311, 0.4113635143117985, 0.4217281563825788, 0.43311315181784005, 0.43547607539874333, 0.45094248429192846, 0.4589979055904624]}\n",
      "Epoch 8/15\n",
      "Batch 1/1331\n",
      "Batch 1001/1331\n",
      "Train Loss: 1.3855, Train Accuracy: 55.57%\n",
      "Batch 1/148\n",
      "Test Loss: 1.8515, Test Accuracy: 46.07%\n",
      "{'train_loss': [3.1318057779975623, 2.097716998373271, 1.846696702901982, 1.7412394896922123, 1.6646625146572076, 1.5966680690276722, 1.528244382899834, 1.4554831023775125, 1.3855207248077994], 'test_loss': [2.5484954883923403, 1.9994556444722253, 1.9074272030108683, 1.8782690223809835, 1.8310864938272011, 1.8473542397086684, 1.837218688146488, 1.827230038675102, 1.851509387428696], 'train_accuracy': [0.15558764559862517, 0.3636504678250907, 0.41514106358602254, 0.4408416077907199, 0.4626933358793202, 0.48299957036471264, 0.5064982337215963, 0.5309635764750812, 0.5556735726561008], 'test_accuracy': [0.30637452338757315, 0.381075130229311, 0.4113635143117985, 0.4217281563825788, 0.43311315181784005, 0.43547607539874333, 0.45094248429192846, 0.4589979055904624, 0.46066269265882603]}\n",
      "Epoch 9/15\n",
      "Batch 1/1331\n",
      "Batch 1001/1331\n",
      "Train Loss: 1.3115, Train Accuracy: 58.07%\n",
      "Batch 1/148\n",
      "Test Loss: 1.8862, Test Accuracy: 45.70%\n",
      "{'train_loss': [3.1318057779975623, 2.097716998373271, 1.846696702901982, 1.7412394896922123, 1.6646625146572076, 1.5966680690276722, 1.528244382899834, 1.4554831023775125, 1.3855207248077994, 1.3114885918454602], 'test_loss': [2.5484954883923403, 1.9994556444722253, 1.9074272030108683, 1.8782690223809835, 1.8310864938272011, 1.8473542397086684, 1.837218688146488, 1.827230038675102, 1.851509387428696, 1.8862385572613896], 'train_accuracy': [0.15558764559862517, 0.3636504678250907, 0.41514106358602254, 0.4408416077907199, 0.4626933358793202, 0.48299957036471264, 0.5064982337215963, 0.5309635764750812, 0.5556735726561008, 0.5806640252052702], 'test_accuracy': [0.30637452338757315, 0.381075130229311, 0.4113635143117985, 0.4217281563825788, 0.43311315181784005, 0.43547607539874333, 0.45094248429192846, 0.4589979055904624, 0.46066269265882603, 0.45695719886150044]}\n",
      "Epoch 10/15\n",
      "Batch 1/1331\n",
      "Batch 1001/1331\n",
      "Train Loss: 1.2407, Train Accuracy: 60.45%\n",
      "Batch 1/148\n",
      "Test Loss: 1.9264, Test Accuracy: 46.19%\n",
      "{'train_loss': [3.1318057779975623, 2.097716998373271, 1.846696702901982, 1.7412394896922123, 1.6646625146572076, 1.5966680690276722, 1.528244382899834, 1.4554831023775125, 1.3855207248077994, 1.3114885918454602, 1.2407066731592662], 'test_loss': [2.5484954883923403, 1.9994556444722253, 1.9074272030108683, 1.8782690223809835, 1.8310864938272011, 1.8473542397086684, 1.837218688146488, 1.827230038675102, 1.851509387428696, 1.8862385572613896, 1.9263897948973887], 'train_accuracy': [0.15558764559862517, 0.3636504678250907, 0.41514106358602254, 0.4408416077907199, 0.4626933358793202, 0.48299957036471264, 0.5064982337215963, 0.5309635764750812, 0.5556735726561008, 0.5806640252052702, 0.6044908821844568], 'test_accuracy': [0.30637452338757315, 0.381075130229311, 0.4113635143117985, 0.4217281563825788, 0.43311315181784005, 0.43547607539874333, 0.45094248429192846, 0.4589979055904624, 0.46066269265882603, 0.45695719886150044, 0.4618978572579346]}\n",
      "Epoch 11/15\n",
      "Batch 1/1331\n",
      "Batch 1001/1331\n",
      "Train Loss: 1.1677, Train Accuracy: 62.78%\n",
      "Batch 1/148\n",
      "Test Loss: 1.9503, Test Accuracy: 45.95%\n",
      "{'train_loss': [3.1318057779975623, 2.097716998373271, 1.846696702901982, 1.7412394896922123, 1.6646625146572076, 1.5966680690276722, 1.528244382899834, 1.4554831023775125, 1.3855207248077994, 1.3114885918454602, 1.2407066731592662, 1.1676995047136502], 'test_loss': [2.5484954883923403, 1.9994556444722253, 1.9074272030108683, 1.8782690223809835, 1.8310864938272011, 1.8473542397086684, 1.837218688146488, 1.827230038675102, 1.851509387428696, 1.8862385572613896, 1.9263897948973887, 1.9503165934536908], 'train_accuracy': [0.15558764559862517, 0.3636504678250907, 0.41514106358602254, 0.4408416077907199, 0.4626933358793202, 0.48299957036471264, 0.5064982337215963, 0.5309635764750812, 0.5556735726561008, 0.5806640252052702, 0.6044908821844568, 0.6278224651518045], 'test_accuracy': [0.30637452338757315, 0.381075130229311, 0.4113635143117985, 0.4217281563825788, 0.43311315181784005, 0.43547607539874333, 0.45094248429192846, 0.4589979055904624, 0.46066269265882603, 0.45695719886150044, 0.4618978572579346, 0.4594812308683744]}\n",
      "Epoch 12/15\n",
      "Batch 1/1331\n",
      "Batch 1001/1331\n",
      "Train Loss: 1.1006, Train Accuracy: 64.99%\n",
      "Batch 1/148\n",
      "Test Loss: 1.9901, Test Accuracy: 45.79%\n",
      "{'train_loss': [3.1318057779975623, 2.097716998373271, 1.846696702901982, 1.7412394896922123, 1.6646625146572076, 1.5966680690276722, 1.528244382899834, 1.4554831023775125, 1.3855207248077994, 1.3114885918454602, 1.2407066731592662, 1.1676995047136502, 1.1006073222672643], 'test_loss': [2.5484954883923403, 1.9994556444722253, 1.9074272030108683, 1.8782690223809835, 1.8310864938272011, 1.8473542397086684, 1.837218688146488, 1.827230038675102, 1.851509387428696, 1.8862385572613896, 1.9263897948973887, 1.9503165934536908, 1.9901085600659654], 'train_accuracy': [0.15558764559862517, 0.3636504678250907, 0.41514106358602254, 0.4408416077907199, 0.4626933358793202, 0.48299957036471264, 0.5064982337215963, 0.5309635764750812, 0.5556735726561008, 0.5806640252052702, 0.6044908821844568, 0.6278224651518045, 0.6498890108840939], 'test_accuracy': [0.30637452338757315, 0.381075130229311, 0.4113635143117985, 0.4217281563825788, 0.43311315181784005, 0.43547607539874333, 0.45094248429192846, 0.4589979055904624, 0.46066269265882603, 0.45695719886150044, 0.4618978572579346, 0.4594812308683744, 0.4579238494173245]}\n",
      "Epoch 13/15\n",
      "Batch 1/1331\n",
      "Batch 1001/1331\n",
      "Train Loss: 1.0358, Train Accuracy: 67.16%\n",
      "Batch 1/148\n",
      "Test Loss: 2.0945, Test Accuracy: 46.00%\n",
      "{'train_loss': [3.1318057779975623, 2.097716998373271, 1.846696702901982, 1.7412394896922123, 1.6646625146572076, 1.5966680690276722, 1.528244382899834, 1.4554831023775125, 1.3855207248077994, 1.3114885918454602, 1.2407066731592662, 1.1676995047136502, 1.1006073222672643, 1.035843709238842], 'test_loss': [2.5484954883923403, 1.9994556444722253, 1.9074272030108683, 1.8782690223809835, 1.8310864938272011, 1.8473542397086684, 1.837218688146488, 1.827230038675102, 1.851509387428696, 1.8862385572613896, 1.9263897948973887, 1.9503165934536908, 1.9901085600659654, 2.0944801705914573], 'train_accuracy': [0.15558764559862517, 0.3636504678250907, 0.41514106358602254, 0.4408416077907199, 0.4626933358793202, 0.48299957036471264, 0.5064982337215963, 0.5309635764750812, 0.5556735726561008, 0.5806640252052702, 0.6044908821844568, 0.6278224651518045, 0.6498890108840939, 0.6716154286805422], 'test_accuracy': [0.30637452338757315, 0.381075130229311, 0.4113635143117985, 0.4217281563825788, 0.43311315181784005, 0.43547607539874333, 0.45094248429192846, 0.4589979055904624, 0.46066269265882603, 0.45695719886150044, 0.4618978572579346, 0.4594812308683744, 0.4579238494173245, 0.45996455614628645]}\n",
      "Epoch 14/15\n",
      "Batch 1/1331\n",
      "Batch 1001/1331\n",
      "Train Loss: 0.9685, Train Accuracy: 69.14%\n",
      "Batch 1/148\n",
      "Test Loss: 2.1544, Test Accuracy: 45.90%\n",
      "{'train_loss': [3.1318057779975623, 2.097716998373271, 1.846696702901982, 1.7412394896922123, 1.6646625146572076, 1.5966680690276722, 1.528244382899834, 1.4554831023775125, 1.3855207248077994, 1.3114885918454602, 1.2407066731592662, 1.1676995047136502, 1.1006073222672643, 1.035843709238842, 0.9685114348163111], 'test_loss': [2.5484954883923403, 1.9994556444722253, 1.9074272030108683, 1.8782690223809835, 1.8310864938272011, 1.8473542397086684, 1.837218688146488, 1.827230038675102, 1.851509387428696, 1.8862385572613896, 1.9263897948973887, 1.9503165934536908, 1.9901085600659654, 2.0944801705914573, 2.154396928645469], 'train_accuracy': [0.15558764559862517, 0.3636504678250907, 0.41514106358602254, 0.4408416077907199, 0.4626933358793202, 0.48299957036471264, 0.5064982337215963, 0.5309635764750812, 0.5556735726561008, 0.5806640252052702, 0.6044908821844568, 0.6278224651518045, 0.6498890108840939, 0.6716154286805422, 0.6913965533702502], 'test_accuracy': [0.30637452338757315, 0.381075130229311, 0.4113635143117985, 0.4217281563825788, 0.43311315181784005, 0.43547607539874333, 0.45094248429192846, 0.4589979055904624, 0.46066269265882603, 0.45695719886150044, 0.4618978572579346, 0.4594812308683744, 0.4579238494173245, 0.45996455614628645, 0.4589979055904624]}\n"
     ]
    }
   ],
   "source": [
    "# patience = 2\n",
    "# best_loss = float('inf')\n",
    "# epochs_without_improvement = 0\n",
    "\n",
    "model_hidden_size_list = [128, 256]\n",
    "lstm_layers_list = [2, 4]\n",
    "\n",
    "model_dict = dict()\n",
    "\n",
    "for model_hidden_size, lstm_layers in zip(model_hidden_size_list, lstm_layers_list):\n",
    "    print(f\"Model hidden size: {model_hidden_size}, LSTM layers: {lstm_layers}\")\n",
    "    model = SimpleModel(embedding_dim=MODEL_EMBEDDING_DIM,\n",
    "                    hidden_size=model_hidden_size,\n",
    "                    num_layers=lstm_layers\n",
    "                    ).to(device)\n",
    "\n",
    "    loss_fn = nn.CrossEntropyLoss() # Because character classification task\n",
    "    optimizer = torch.optim.Adam(model.parameters(), lr=0.001, weight_decay=1e-5)\n",
    "\n",
    "    model_results = {\n",
    "        'train_loss': [],\n",
    "        'test_loss': [],\n",
    "        'train_accuracy': [],\n",
    "        'test_accuracy': []\n",
    "    }\n",
    "\n",
    "    # Training loop\n",
    "    for epoch in range(n_epochs):\n",
    "        if epoch % 1 == 0:\n",
    "            print(f\"Epoch {epoch}/{n_epochs}\")\n",
    "\n",
    "        # Train and test the model\n",
    "        train(model, optimizer, loss_fn, train_loader)\n",
    "        test(model, loss_fn, test_loader)\n",
    "\n",
    "        # Save metrics for this epoch\n",
    "        model_results['train_loss'].append(train_loss[-1])\n",
    "        model_results['test_loss'].append(test_loss[-1])\n",
    "        model_results['train_accuracy'].append(train_accuracy[-1])\n",
    "        model_results['test_accuracy'].append(test_accuracy[-1])\n",
    "        print(model_results)\n",
    "\n",
    "    # Store the results for this model configuration in the dictionary\n",
    "    model_dict[(model_hidden_size, lstm_layers)] = model_results\n",
    "\n",
    "\n",
    "\n",
    "# for epoch in range(n_epochs):\n",
    "#   if epoch % 1 == 0:\n",
    "#     print(f\"Epoch {epoch}/{n_epochs}\")\n",
    "#   train(model, optimizer, loss_fn, train_loader)\n",
    "#   test(model, loss_fn, test_loader)\n",
    "\n",
    "\n",
    "\n",
    "  # if test_loss[-1] < best_loss:\n",
    "  #   best_loss = test_loss[-1]\n",
    "  #   epochs_without_improvement = 0\n",
    "\n",
    "  # else:\n",
    "  #   epochs_without_improvement += 1\n",
    "  # if epochs_without_improvement >= patience:\n",
    "  #   print(\"Early stopping triggered.\")\n",
    "  #   break\n",
    "\n"
   ]
  },
  {
   "cell_type": "code",
   "execution_count": null,
   "metadata": {
    "id": "lnm5lfgVoOgC"
   },
   "outputs": [],
   "source": [
    "import pickle\n",
    "\n",
    "with open('/insert_file_path/normal_lstm_plots_dict.pkl', 'wb') as file:\n",
    "    pickle.dump(model_dict, file)"
   ]
  },
  {
   "cell_type": "code",
   "execution_count": null,
   "metadata": {
    "id": "MI4eHw8WDGNA"
   },
   "outputs": [],
   "source": [
    "save_path =  '/insert_file_path/big_model_lstm_save.pt'"
   ]
  },
  {
   "cell_type": "code",
   "execution_count": null,
   "metadata": {
    "id": "3arkCeWlOgAL"
   },
   "outputs": [],
   "source": [
    "torch.save(model.state_dict(), save_path)"
   ]
  },
  {
   "cell_type": "markdown",
   "metadata": {
    "id": "7iJ9-h_kEVU-"
   },
   "source": [
    "# Results"
   ]
  },
  {
   "cell_type": "code",
   "execution_count": null,
   "metadata": {
    "colab": {
     "base_uri": "https://localhost:8080/"
    },
    "id": "wr21Si8QPeII",
    "outputId": "799c0cbc-de30-40cb-fc02-bbee7d20b510"
   },
   "outputs": [
    {
     "data": {
      "text/plain": [
       "<All keys matched successfully>"
      ]
     },
     "execution_count": 23,
     "metadata": {},
     "output_type": "execute_result"
    }
   ],
   "source": [
    "load_path = RESULTS_LOAD_PATH\n",
    "model = SimpleModel(embedding_dim=MODEL_EMBEDDING_DIM,\n",
    "                    hidden_size=MODEL_HIDDEN_SIZE,\n",
    "                    num_layers=MODEL_LSTM_LAYERS\n",
    "                    ).to(device)\n",
    "model.load_state_dict(torch.load(load_path, weights_only=True))"
   ]
  },
  {
   "cell_type": "markdown",
   "metadata": {
    "id": "x4M-TuGSiK8R"
   },
   "source": [
    "Let's test the accuracy of predicting the next character in the musical sequence."
   ]
  },
  {
   "cell_type": "code",
   "execution_count": null,
   "metadata": {
    "colab": {
     "base_uri": "https://localhost:8080/"
    },
    "id": "WdweuLL3iPmg",
    "outputId": "f1721d25-d0bd-435e-a3de-bdb93543f40d"
   },
   "outputs": [
    {
     "name": "stdout",
     "output_type": "stream",
     "text": [
      "Batch 1/148\n",
      "Accuracy 45.2661%\n",
      "Loss: 0.0177\n"
     ]
    }
   ],
   "source": [
    "# TEST EVAL RUN\n",
    "\"\"\"\n",
    "model.eval()\n",
    "test_loss = 0\n",
    "test_accuracy = 0\n",
    "\n",
    "with torch.no_grad():\n",
    "    for batch_number, (x_batch, y_batch) in enumerate(test_loader):\n",
    "        x_batch, y_batch = x_batch.to(device), y_batch.to(device)\n",
    "        y_pred = model(x_batch)\n",
    "\n",
    "        loss = loss_fn(y_pred, y_batch)\n",
    "        test_loss += loss.item()\n",
    "\n",
    "        test_accuracy += (y_pred.argmax(dim=1) == y_batch).sum().item()\n",
    "\n",
    "        if batch_number % 1000 == 0:\n",
    "          print(f\"Batch {batch_number + 1}/{len(test_loader)}\")\n",
    "\n",
    "print(f\"Accuracy {test_accuracy / len(test_dataset) * 100:.4f}%\")\n",
    "print(f\"Loss: {test_loss / len(test_dataset):.4f}\")\n",
    "\"\"\""
   ]
  },
  {
   "cell_type": "markdown",
   "metadata": {
    "id": "4iJanex4FX5z"
   },
   "source": [
    "Let the model iteratively predict some characters, given a starting sequence."
   ]
  },
  {
   "cell_type": "code",
   "execution_count": null,
   "metadata": {
    "id": "1z8g8uyNXMz1"
   },
   "outputs": [],
   "source": [
    "start_sequence = \"\"\"\n",
    "X:7\n",
    "L:1/16\n",
    "M:2/4\n",
    "K:D\n",
    "A2F2A2d2|d2c2edc2|A2ceg2c2|e2d2fed2|A2F2A2d2|d2c2edc2|A2ceg2c2|d2d2d2z2::\n",
    "d2B2dcBz|A2defed2|cdezefgz|gffgfedz|d2B2dcBz|A2defed2|cdefgfgc|\n",
    "\"\"\""
   ]
  },
  {
   "cell_type": "code",
   "execution_count": null,
   "metadata": {
    "id": "q3AJ209pEYec"
   },
   "outputs": [],
   "source": [
    "#Here we take the predicted output and append it to the new input, so we have y_hat = x\n",
    "num_chars_to_predict = 50\n",
    "\n",
    "print(\"Start sequence length:\", len(start_sequence))\n",
    "\n",
    "# Convert the initial sequence to tensor indices\n",
    "input_sequence = [char_to_index[char] for char in start_sequence]\n",
    "input_sequence = input_sequence[:DATASET_SEQUENCE_LENGTH] # Cant expect the data set to understand more/less context than what it trained on\n",
    "input_tensor = torch.tensor(input_sequence, dtype=torch.long, device=device).unsqueeze(0)\n",
    "\n",
    "print(\"Input tensor dims:\", input_tensor.shape)\n",
    "\n",
    "model.eval()\n",
    "model.to(device)\n",
    "result = model(input_tensor)\n",
    "print(\"Result dims:\", result.shape) # Sample prediction\n",
    "print(\"Prediction:\", result.argmax().item())\n",
    "\n",
    "do_argmax = False\n",
    "\n",
    "predictions = []\n",
    "for _ in range(num_chars_to_predict):\n",
    "    with torch.no_grad():\n",
    "        output = model(input_tensor)\n",
    "\n",
    "        if do_argmax:\n",
    "            next_char_index = output.argmax().item()\n",
    "        else:\n",
    "            # Apply softmax to get probabilities\n",
    "            probabilities = torch.nn.functional.softmax(output, dim=-1)\n",
    "\n",
    "            # Sample from the probability distribution\n",
    "            next_char_index = torch.multinomial(probabilities.squeeze(0), num_samples=1).item()\n",
    "\n",
    "        predictions.append(next_char_index)\n",
    "\n",
    "        model_input = torch.cat((model_input[:, 1:], torch.tensor([[next_char_index]], dtype=torch.long, device=device)), dim=1)\n",
    "\n",
    "final_result = \"\".join(index_to_char[index] for index in predictions)\n",
    "\n",
    "print()\n",
    "print(\"INITIAL SEQUENCE:\")\n",
    "print(start_sequence)\n",
    "\n",
    "print()\n",
    "print(\"ACTUAL GIVEN SEQUENCE (TRUNCATED):\")\n",
    "print(start_sequence[:DATASET_SEQUENCE_LENGTH])\n",
    "\n",
    "print()\n",
    "print(\"PREDICTED SEQUENCE:\")\n",
    "print(final_result)\n",
    "\n",
    "print()\n",
    "print(\"INPUT AND OUTPUT COMBINED:\")\n",
    "print(start_sequence + final_result)\n"
   ]
  },
  {
   "cell_type": "code",
   "execution_count": null,
   "metadata": {
    "id": "TpeKv-2g0SAX"
   },
   "outputs": [],
   "source": [
    "# We can also do it where we dont use the multinomial model for getting the y+1\n",
    "# Convert the initial sequence to tensor indices\n",
    "input_sequence = [char_to_index[char] for char in start_sequence]\n",
    "input_sequence = input_sequence[:DATASET_SEQUENCE_LENGTH] # Cant expect the data set to understand more/less context than what it trained on\n",
    "input_tensor = torch.tensor(input_sequence, dtype=torch.long, device=device).unsqueeze(0)\n",
    "\n",
    "print(\"Input tensor dims:\", input_tensor.shape)\n",
    "\n",
    "model.eval()\n",
    "model.to(device)\n",
    "result = model(input_tensor)\n",
    "print(\"Result dims:\", result.shape) # Sample prediction\n",
    "print(\"Prediction:\", result.argmax().item())\n",
    "\n",
    "\n",
    "def get_next_char(input_tensor, do_argmax = False):\n",
    "  predictions = []\n",
    "  for _ in range(num_chars_to_predict):\n",
    "      with torch.no_grad():\n",
    "          output = model(input_tensor)\n",
    "\n",
    "          if do_argmax:\n",
    "              next_char_index = output.argmax().item()\n",
    "          else:\n",
    "              # Apply softmax to get probabilities\n",
    "              probabilities = torch.nn.functional.softmax(output, dim=-1)\n",
    "\n",
    "              # Sample from the probability distribution\n",
    "              next_char_index = torch.multinomial(probabilities.squeeze(0), num_samples=1).item()\n",
    "\n",
    "          predictions.append(next_char_index)\n",
    "\n",
    "          model_input = torch.cat((model_input[:, 1:], torch.tensor([[next_char_index]], dtype=torch.long, device=device)), dim=1)\n",
    "\n",
    "  return \"\".join(index_to_char[index] for index in predictions)\n",
    "\n",
    "\n",
    "final_result = get_next_char(input_tensor)\n",
    "\n",
    "print()\n",
    "print(\"INITIAL SEQUENCE:\")\n",
    "print(start_sequence)\n",
    "\n",
    "print()\n",
    "print(\"ACTUAL GIVEN SEQUENCE (TRUNCATED):\")\n",
    "print(start_sequence[:DATASET_SEQUENCE_LENGTH])\n",
    "\n",
    "print()\n",
    "print(\"PREDICTED SEQUENCE:\")\n",
    "print(final_result)\n",
    "\n",
    "print()\n",
    "print(\"INPUT AND OUTPUT COMBINED:\")\n",
    "print(start_sequence + final_result)"
   ]
  },
  {
   "cell_type": "markdown",
   "metadata": {
    "id": "lA1QJO6fWOMq"
   },
   "source": [
    "Often the sequence gets stuck in a loop, lets introduce randomness:"
   ]
  },
  {
   "cell_type": "code",
   "execution_count": null,
   "metadata": {
    "id": "3e9k_CdUW0G7"
   },
   "outputs": [],
   "source": [
    "\"\"\"\n",
    "probabilities = torch.nn.functional.softmax(output, dim=-1)\n",
    "next_char_index = torch.multinomial(probabilities, num_samples=1)\n",
    "\"\"\""
   ]
  },
  {
   "cell_type": "markdown",
   "metadata": {
    "id": "iOwYb48ixV0N"
   },
   "source": [
    "## Plotting of the output of the model"
   ]
  },
  {
   "cell_type": "code",
   "execution_count": null,
   "metadata": {
    "colab": {
     "base_uri": "https://localhost:8080/",
     "height": 644
    },
    "id": "cruqa-hnxSJI",
    "outputId": "6de8575b-2612-426b-d7b5-572837067e6c"
   },
   "outputs": [],
   "source": [
    "import matplotlib.pyplot as plt\n",
    "\n",
    "plt.plot(range(len(train_loss)), train_loss, label='train')\n",
    "plt.plot(range(len(test_loss)), test_loss, label='test')\n",
    "plt.title(\"Loss plot of train and test loss function\")\n",
    "plt.legend()\n",
    "plt.show()"
   ]
  },
  {
   "cell_type": "code",
   "execution_count": null,
   "metadata": {
    "colab": {
     "base_uri": "https://localhost:8080/",
     "height": 219
    },
    "id": "Iwvg9yd3xkgF",
    "outputId": "450e82a8-9432-4049-9856-511251039c61"
   },
   "outputs": [],
   "source": [
    "\n",
    "plt.plot(range(len(train_accuracy)), train_accuracy, label='train')\n",
    "plt.plot(range(len(test_accuracy)), test_accuracy, label='test')\n",
    "plt.title(\"Loss plot of train and test accuracy\")\n",
    "plt.legend()\n",
    "plt.show()\n",
    "\n"
   ]
  },
  {
   "cell_type": "markdown",
   "metadata": {
    "id": "nCW7xlgzu-lm"
   },
   "source": [
    "# Here we have the new LSTM model that have the dropout layer and the early stopping"
   ]
  },
  {
   "cell_type": "code",
   "execution_count": null,
   "metadata": {
    "id": "qEvPkrDpKJKF"
   },
   "outputs": [],
   "source": [
    "class DropAllTablesModel(nn.Module):\n",
    "    def __init__(self,\n",
    "                 embedding_dim, # Number of features - we have 1 because music!\n",
    "                 hidden_size, # Hidden size of LSTM layer\n",
    "                 num_layers, # Number of LSTM layers\n",
    "                 dropout_prob = 0.5):\n",
    "\n",
    "        super().__init__()\n",
    "        self.embedding = nn.Embedding(num_embeddings=len(char_to_index),\n",
    "                                      embedding_dim=embedding_dim)\n",
    "\n",
    "        self.LSTM = nn.LSTM(input_size=embedding_dim,\n",
    "                          hidden_size=hidden_size,\n",
    "                          num_layers=num_layers,\n",
    "                          batch_first=True,\n",
    "                          dropout = dropout_prob)\n",
    "\n",
    "\n",
    "        self.fc1 = nn.Linear(hidden_size,\n",
    "                             hidden_size)\n",
    "\n",
    "        self.dropout = nn.Dropout(p=dropout_prob)\n",
    "\n",
    "        self.fc2 = nn.Linear(hidden_size, len(char_to_index)) # hidden size x vocab size\n",
    "\n",
    "    def forward(self, x):\n",
    "        x = self.embedding(x)\n",
    "        _, (h_n, _) = self.LSTM(x) # Needs N x seq_L x FEATURE_DIM\n",
    "        x = h_n[-1]\n",
    "        x = self.fc1(x) # See w8_forecast solution for an explanation of slicing\n",
    "        x = nn.functional.relu(x)\n",
    "        x = self.dropout(x)\n",
    "        x = self.fc2(x)\n",
    "        return x"
   ]
  },
  {
   "cell_type": "code",
   "execution_count": null,
   "metadata": {
    "colab": {
     "base_uri": "https://localhost:8080/"
    },
    "id": "KLaVFIUE4Ict",
    "outputId": "c41c2d7e-53dc-4ff9-c671-72a9bbce266e"
   },
   "outputs": [
    {
     "name": "stderr",
     "output_type": "stream",
     "text": [
      "/usr/local/lib/python3.10/dist-packages/torch/nn/modules/rnn.py:123: UserWarning: dropout option adds dropout after all but last recurrent layer, so non-zero dropout expects num_layers greater than 1, but got dropout=0.5 and num_layers=1\n",
      "  warnings.warn(\n"
     ]
    }
   ],
   "source": [
    "n_epochs = TRAINING_EPOCHS\n",
    "\n",
    "dropout_model = DropAllTablesModel(embedding_dim=MODEL_EMBEDDING_DIM,\n",
    "                    hidden_size=MODEL_HIDDEN_SIZE,\n",
    "                    num_layers=MODEL_LSTM_LAYERS\n",
    "                    ).to(device)\n",
    "\n",
    "loss_fn = nn.CrossEntropyLoss() # Because character classification task\n",
    "optimizer = torch.optim.Adam(dropout_model.parameters(), lr=0.001, weight_decay=1e-5)"
   ]
  },
  {
   "cell_type": "code",
   "execution_count": null,
   "metadata": {
    "colab": {
     "base_uri": "https://localhost:8080/"
    },
    "id": "dTQkpqpH5rvN",
    "outputId": "8a833bf7-1f24-44f9-a825-3147e3034530"
   },
   "outputs": [
    {
     "name": "stdout",
     "output_type": "stream",
     "text": [
      "Model hidden size: 128, LSTM layers: 2\n",
      "Epoch 0/15\n",
      "Batch 1/1331\n",
      "Batch 1001/1331\n",
      "Train Loss: 2.5767, Train Accuracy: 26.25%\n",
      "Batch 1/148\n",
      "Test Loss: 2.1140, Test Accuracy: 37.18%\n",
      "{'train_loss': [2.576736160277604], 'test_loss': [2.113987763185759], 'train_accuracy': [0.2624534561772007], 'test_accuracy': [0.37183824714032543]}\n",
      "Epoch 1/15\n",
      "Batch 1/1331\n",
      "Batch 1001/1331\n",
      "Train Loss: 2.0606, Train Accuracy: 37.30%\n",
      "Batch 1/148\n",
      "Test Loss: 1.9432, Test Accuracy: 40.14%\n",
      "{'train_loss': [2.576736160277604, 2.0606357689462684], 'test_loss': [2.113987763185759, 1.9431504808567666], 'train_accuracy': [0.2624534561772007, 0.37295326522818406], 'test_accuracy': [0.37183824714032543, 0.40137479190161646]}\n",
      "Epoch 2/15\n",
      "Batch 1/1331\n",
      "Batch 1001/1331\n",
      "Train Loss: 1.9395, Train Accuracy: 39.88%\n",
      "Batch 1/148\n",
      "Test Loss: 1.8710, Test Accuracy: 41.92%\n",
      "{'train_loss': [2.576736160277604, 2.0606357689462684, 1.9394570446659263], 'test_loss': [2.113987763185759, 1.9431504808567666, 1.871044934601397], 'train_accuracy': [0.2624534561772007, 0.37295326522818406, 0.3988328241359557], 'test_accuracy': [0.37183824714032543, 0.40137479190161646, 0.41915042156704796]}\n",
      "Epoch 3/15\n",
      "Batch 1/1331\n",
      "Batch 1001/1331\n",
      "Train Loss: 1.8676, Train Accuracy: 41.68%\n",
      "Batch 1/148\n",
      "Test Loss: 1.8292, Test Accuracy: 43.21%\n",
      "{'train_loss': [2.576736160277604, 2.0606357689462684, 1.9394570446659263, 1.8676026877740735], 'test_loss': [2.113987763185759, 1.9431504808567666, 1.871044934601397, 1.829240158602998], 'train_accuracy': [0.2624534561772007, 0.37295326522818406, 0.3988328241359557, 0.41682380179492073], 'test_accuracy': [0.37183824714032543, 0.40137479190161646, 0.41915042156704796, 0.432146501262016]}\n",
      "Epoch 4/15\n",
      "Batch 1/1331\n",
      "Batch 1001/1331\n",
      "Train Loss: 1.8151, Train Accuracy: 43.19%\n",
      "Batch 1/148\n",
      "Test Loss: 1.8040, Test Accuracy: 44.10%\n",
      "{'train_loss': [2.576736160277604, 2.0606357689462684, 1.9394570446659263, 1.8676026877740735, 1.8150854911417285], 'test_loss': [2.113987763185759, 1.9431504808567666, 1.871044934601397, 1.829240158602998, 1.8039899476476617], 'train_accuracy': [0.2624534561772007, 0.37295326522818406, 0.3988328241359557, 0.41682380179492073, 0.4318849054802368], 'test_accuracy': [0.37183824714032543, 0.40137479190161646, 0.41915042156704796, 0.432146501262016, 0.4409537618817464]}\n",
      "Epoch 5/15\n",
      "Batch 1/1331\n",
      "Batch 1001/1331\n",
      "Train Loss: 1.7755, Train Accuracy: 44.25%\n",
      "Batch 1/148\n",
      "Test Loss: 1.7917, Test Accuracy: 44.83%\n",
      "{'train_loss': [2.576736160277604, 2.0606357689462684, 1.9394570446659263, 1.8676026877740735, 1.8150854911417285, 1.7754736634504518], 'test_loss': [2.113987763185759, 1.9431504808567666, 1.871044934601397, 1.829240158602998, 1.8039899476476617, 1.7916817761756278], 'train_accuracy': [0.2624534561772007, 0.37295326522818406, 0.3988328241359557, 0.41682380179492073, 0.4318849054802368, 0.44245274011838837], 'test_accuracy': [0.37183824714032543, 0.40137479190161646, 0.41915042156704796, 0.432146501262016, 0.4409537618817464, 0.44825734385908383]}\n",
      "Epoch 6/15\n",
      "Batch 1/1331\n",
      "Batch 1001/1331\n",
      "Train Loss: 1.7432, Train Accuracy: 45.10%\n",
      "Batch 1/148\n",
      "Test Loss: 1.7846, Test Accuracy: 45.13%\n",
      "{'train_loss': [2.576736160277604, 2.0606357689462684, 1.9394570446659263, 1.8676026877740735, 1.8150854911417285, 1.7754736634504518, 1.743230086981489], 'test_loss': [2.113987763185759, 1.9431504808567666, 1.871044934601397, 1.829240158602998, 1.8039899476476617, 1.7916817761756278, 1.7845673762463234], 'train_accuracy': [0.2624534561772007, 0.37295326522818406, 0.3988328241359557, 0.41682380179492073, 0.4318849054802368, 0.44245274011838837, 0.45099770861180066], 'test_accuracy': [0.37183824714032543, 0.40137479190161646, 0.41915042156704796, 0.432146501262016, 0.4409537618817464, 0.44825734385908383, 0.4513184039525267]}\n",
      "Epoch 7/15\n",
      "Batch 1/1331\n",
      "Batch 1001/1331\n",
      "Train Loss: 1.7182, Train Accuracy: 45.77%\n",
      "Batch 1/148\n",
      "Test Loss: 1.7543, Test Accuracy: 45.66%\n",
      "{'train_loss': [2.576736160277604, 2.0606357689462684, 1.9394570446659263, 1.8676026877740735, 1.8150854911417285, 1.7754736634504518, 1.743230086981489, 1.718195201936832], 'test_loss': [2.113987763185759, 1.9431504808567666, 1.871044934601397, 1.829240158602998, 1.8039899476476617, 1.7916817761756278, 1.7845673762463234, 1.7542928996923808], 'train_accuracy': [0.2624534561772007, 0.37295326522818406, 0.3988328241359557, 0.41682380179492073, 0.4318849054802368, 0.44245274011838837, 0.45099770861180066, 0.45772866144739355], 'test_accuracy': [0.37183824714032543, 0.40137479190161646, 0.41915042156704796, 0.432146501262016, 0.4409537618817464, 0.44825734385908383, 0.4513184039525267, 0.4565812792009022]}\n",
      "Epoch 8/15\n",
      "Batch 1/1331\n",
      "Batch 1001/1331\n",
      "Train Loss: 1.6939, Train Accuracy: 46.45%\n",
      "Batch 1/148\n",
      "Test Loss: 1.7509, Test Accuracy: 46.05%\n",
      "{'train_loss': [2.576736160277604, 2.0606357689462684, 1.9394570446659263, 1.8676026877740735, 1.8150854911417285, 1.7754736634504518, 1.743230086981489, 1.718195201936832, 1.6939358998742164], 'test_loss': [2.113987763185759, 1.9431504808567666, 1.871044934601397, 1.829240158602998, 1.8039899476476617, 1.7916817761756278, 1.7845673762463234, 1.7542928996923808, 1.7508969459984753], 'train_accuracy': [0.2624534561772007, 0.37295326522818406, 0.3988328241359557, 0.41682380179492073, 0.4318849054802368, 0.44245274011838837, 0.45099770861180066, 0.45772866144739355, 0.4645491216345236], 'test_accuracy': [0.37183824714032543, 0.40137479190161646, 0.41915042156704796, 0.432146501262016, 0.4409537618817464, 0.44825734385908383, 0.4513184039525267, 0.4565812792009022, 0.46050158423285537]}\n",
      "Epoch 9/15\n",
      "Batch 1/1331\n",
      "Batch 1001/1331\n",
      "Train Loss: 1.6717, Train Accuracy: 46.86%\n",
      "Batch 1/148\n",
      "Test Loss: 1.7318, Test Accuracy: 46.29%\n",
      "{'train_loss': [2.576736160277604, 2.0606357689462684, 1.9394570446659263, 1.8676026877740735, 1.8150854911417285, 1.7754736634504518, 1.743230086981489, 1.718195201936832, 1.6939358998742164, 1.6717354809763196], 'test_loss': [2.113987763185759, 1.9431504808567666, 1.871044934601397, 1.829240158602998, 1.8039899476476617, 1.7916817761756278, 1.7845673762463234, 1.7542928996923808, 1.7508969459984753, 1.7318013028518573], 'train_accuracy': [0.2624534561772007, 0.37295326522818406, 0.3988328241359557, 0.41682380179492073, 0.4318849054802368, 0.44245274011838837, 0.45099770861180066, 0.45772866144739355, 0.4645491216345236, 0.468582919610464], 'test_accuracy': [0.37183824714032543, 0.40137479190161646, 0.41915042156704796, 0.432146501262016, 0.4409537618817464, 0.44825734385908383, 0.4513184039525267, 0.4565812792009022, 0.46050158423285537, 0.46286450781375865]}\n",
      "Epoch 10/15\n",
      "Batch 1/1331\n",
      "Batch 1001/1331\n",
      "Train Loss: 1.6559, Train Accuracy: 47.47%\n",
      "Batch 1/148\n",
      "Test Loss: 1.7036, Test Accuracy: 47.16%\n",
      "{'train_loss': [2.576736160277604, 2.0606357689462684, 1.9394570446659263, 1.8676026877740735, 1.8150854911417285, 1.7754736634504518, 1.743230086981489, 1.718195201936832, 1.6939358998742164, 1.6717354809763196, 1.6558552046273545], 'test_loss': [2.113987763185759, 1.9431504808567666, 1.871044934601397, 1.829240158602998, 1.8039899476476617, 1.7916817761756278, 1.7845673762463234, 1.7542928996923808, 1.7508969459984753, 1.7318013028518573, 1.7035648218683295], 'train_accuracy': [0.2624534561772007, 0.37295326522818406, 0.3988328241359557, 0.41682380179492073, 0.4318849054802368, 0.44245274011838837, 0.45099770861180066, 0.45772866144739355, 0.4645491216345236, 0.468582919610464, 0.47465748520145123], 'test_accuracy': [0.37183824714032543, 0.40137479190161646, 0.41915042156704796, 0.432146501262016, 0.4409537618817464, 0.44825734385908383, 0.4513184039525267, 0.4565812792009022, 0.46050158423285537, 0.46286450781375865, 0.47161806562483216]}\n",
      "Epoch 11/15\n",
      "Batch 1/1331\n",
      "Batch 1001/1331\n",
      "Train Loss: 1.6340, Train Accuracy: 47.98%\n",
      "Batch 1/148\n",
      "Test Loss: 1.7085, Test Accuracy: 46.78%\n",
      "{'train_loss': [2.576736160277604, 2.0606357689462684, 1.9394570446659263, 1.8676026877740735, 1.8150854911417285, 1.7754736634504518, 1.743230086981489, 1.718195201936832, 1.6939358998742164, 1.6717354809763196, 1.6558552046273545, 1.633980246525255], 'test_loss': [2.113987763185759, 1.9431504808567666, 1.871044934601397, 1.829240158602998, 1.8039899476476617, 1.7916817761756278, 1.7845673762463234, 1.7542928996923808, 1.7508969459984753, 1.7318013028518573, 1.7035648218683295, 1.708455820341368], 'train_accuracy': [0.2624534561772007, 0.37295326522818406, 0.3988328241359557, 0.41682380179492073, 0.4318849054802368, 0.44245274011838837, 0.45099770861180066, 0.45772866144739355, 0.4645491216345236, 0.468582919610464, 0.47465748520145123, 0.4798071414932213], 'test_accuracy': [0.37183824714032543, 0.40137479190161646, 0.41915042156704796, 0.432146501262016, 0.4409537618817464, 0.44825734385908383, 0.4513184039525267, 0.4565812792009022, 0.46050158423285537, 0.46286450781375865, 0.47161806562483216, 0.4678051662101928]}\n",
      "Epoch 12/15\n",
      "Batch 1/1331\n",
      "Batch 1001/1331\n",
      "Train Loss: 1.6215, Train Accuracy: 48.40%\n",
      "Batch 1/148\n",
      "Test Loss: 1.7123, Test Accuracy: 47.26%\n",
      "{'train_loss': [2.576736160277604, 2.0606357689462684, 1.9394570446659263, 1.8676026877740735, 1.8150854911417285, 1.7754736634504518, 1.743230086981489, 1.718195201936832, 1.6939358998742164, 1.6717354809763196, 1.6558552046273545, 1.633980246525255, 1.6215220207920833], 'test_loss': [2.113987763185759, 1.9431504808567666, 1.871044934601397, 1.829240158602998, 1.8039899476476617, 1.7916817761756278, 1.7845673762463234, 1.7542928996923808, 1.7508969459984753, 1.7318013028518573, 1.7035648218683295, 1.708455820341368, 1.7122741551012606], 'train_accuracy': [0.2624534561772007, 0.37295326522818406, 0.3988328241359557, 0.41682380179492073, 0.4318849054802368, 0.44245274011838837, 0.45099770861180066, 0.45772866144739355, 0.4645491216345236, 0.468582919610464, 0.47465748520145123, 0.4798071414932213, 0.4840497899560817], 'test_accuracy': [0.37183824714032543, 0.40137479190161646, 0.41915042156704796, 0.432146501262016, 0.4409537618817464, 0.44825734385908383, 0.4513184039525267, 0.4565812792009022, 0.46050158423285537, 0.46286450781375865, 0.47161806562483216, 0.4678051662101928, 0.47258471618065623]}\n",
      "Epoch 13/15\n",
      "Batch 1/1331\n",
      "Batch 1001/1331\n",
      "Train Loss: 1.6079, Train Accuracy: 48.72%\n",
      "Batch 1/148\n",
      "Test Loss: 1.6902, Test Accuracy: 47.49%\n",
      "{'train_loss': [2.576736160277604, 2.0606357689462684, 1.9394570446659263, 1.8676026877740735, 1.8150854911417285, 1.7754736634504518, 1.743230086981489, 1.718195201936832, 1.6939358998742164, 1.6717354809763196, 1.6558552046273545, 1.633980246525255, 1.6215220207920833, 1.6078959134715916], 'test_loss': [2.113987763185759, 1.9431504808567666, 1.871044934601397, 1.829240158602998, 1.8039899476476617, 1.7916817761756278, 1.7845673762463234, 1.7542928996923808, 1.7508969459984753, 1.7318013028518573, 1.7035648218683295, 1.708455820341368, 1.7122741551012606, 1.6902395035769489], 'train_accuracy': [0.2624534561772007, 0.37295326522818406, 0.3988328241359557, 0.41682380179492073, 0.4318849054802368, 0.44245274011838837, 0.45099770861180066, 0.45772866144739355, 0.4645491216345236, 0.468582919610464, 0.47465748520145123, 0.4798071414932213, 0.4840497899560817, 0.4871765801031125], 'test_accuracy': [0.37183824714032543, 0.40137479190161646, 0.41915042156704796, 0.432146501262016, 0.4409537618817464, 0.44825734385908383, 0.4513184039525267, 0.4565812792009022, 0.46050158423285537, 0.46286450781375865, 0.47161806562483216, 0.4678051662101928, 0.47258471618065623, 0.47489393695290266]}\n",
      "Epoch 14/15\n",
      "Batch 1/1331\n",
      "Batch 1001/1331\n",
      "Train Loss: 1.5936, Train Accuracy: 49.20%\n",
      "Batch 1/148\n",
      "Test Loss: 1.7136, Test Accuracy: 47.46%\n",
      "{'train_loss': [2.576736160277604, 2.0606357689462684, 1.9394570446659263, 1.8676026877740735, 1.8150854911417285, 1.7754736634504518, 1.743230086981489, 1.718195201936832, 1.6939358998742164, 1.6717354809763196, 1.6558552046273545, 1.633980246525255, 1.6215220207920833, 1.6078959134715916, 1.5936170206492688], 'test_loss': [2.113987763185759, 1.9431504808567666, 1.871044934601397, 1.829240158602998, 1.8039899476476617, 1.7916817761756278, 1.7845673762463234, 1.7542928996923808, 1.7508969459984753, 1.7318013028518573, 1.7035648218683295, 1.708455820341368, 1.7122741551012606, 1.6902395035769489, 1.713643210965234], 'train_accuracy': [0.2624534561772007, 0.37295326522818406, 0.3988328241359557, 0.41682380179492073, 0.4318849054802368, 0.44245274011838837, 0.45099770861180066, 0.45772866144739355, 0.4645491216345236, 0.468582919610464, 0.47465748520145123, 0.4798071414932213, 0.4840497899560817, 0.4871765801031125, 0.49203981286996373], 'test_accuracy': [0.37183824714032543, 0.40137479190161646, 0.41915042156704796, 0.432146501262016, 0.4409537618817464, 0.44825734385908383, 0.4513184039525267, 0.4565812792009022, 0.46050158423285537, 0.46286450781375865, 0.47161806562483216, 0.4678051662101928, 0.47258471618065623, 0.47489393695290266, 0.4746254229096182]}\n",
      "Model hidden size: 256, LSTM layers: 4\n",
      "Epoch 0/15\n",
      "Batch 1/1331\n",
      "Batch 1001/1331\n",
      "Train Loss: 2.9010, Train Accuracy: 20.57%\n",
      "Batch 1/148\n",
      "Test Loss: 2.3597, Test Accuracy: 33.85%\n",
      "{'train_loss': [2.9010450288283924], 'test_loss': [2.359651170066885], 'train_accuracy': [0.20565805804850104], 'test_accuracy': [0.33848880296439504]}\n",
      "Epoch 1/15\n",
      "Batch 1/1331\n",
      "Batch 1001/1331\n",
      "Train Loss: 2.1571, Train Accuracy: 35.71%\n",
      "Batch 1/148\n",
      "Test Loss: 1.9747, Test Accuracy: 38.80%\n",
      "{'train_loss': [2.9010450288283924, 2.157071747787011], 'test_loss': [2.359651170066885, 1.9746613341408807], 'train_accuracy': [0.20565805804850104, 0.3570627267519572], 'test_accuracy': [0.33848880296439504, 0.38800279254605013]}\n",
      "Epoch 2/15\n",
      "Batch 1/1331\n",
      "Batch 1001/1331\n",
      "Train Loss: 1.9281, Train Accuracy: 39.45%\n",
      "Batch 1/148\n",
      "Test Loss: 1.8847, Test Accuracy: 40.64%\n",
      "{'train_loss': [2.9010450288283924, 2.157071747787011, 1.9280722504894505], 'test_loss': [2.359651170066885, 1.9746613341408807, 1.8846665073085476], 'train_accuracy': [0.20565805804850104, 0.3570627267519572, 0.394494701164789], 'test_accuracy': [0.33848880296439504, 0.38800279254605013, 0.40636915310670746]}\n",
      "Epoch 3/15\n",
      "Batch 1/1331\n",
      "Batch 1001/1331\n",
      "Train Loss: 1.8356, Train Accuracy: 41.30%\n",
      "Batch 1/148\n",
      "Test Loss: 1.8552, Test Accuracy: 41.64%\n",
      "{'train_loss': [2.9010450288283924, 2.157071747787011, 1.9280722504894505, 1.8355842066563492], 'test_loss': [2.359651170066885, 1.9746613341408807, 1.8846665073085476, 1.8552161253787376], 'train_accuracy': [0.20565805804850104, 0.3570627267519572, 0.394494701164789, 0.4130167557762078], 'test_accuracy': [0.33848880296439504, 0.38800279254605013, 0.40636915310670746, 0.4164115783255464]}\n",
      "Epoch 4/15\n",
      "Batch 1/1331\n",
      "Batch 1001/1331\n",
      "Train Loss: 1.7741, Train Accuracy: 42.49%\n",
      "Batch 1/148\n",
      "Test Loss: 1.8247, Test Accuracy: 42.23%\n",
      "{'train_loss': [2.9010450288283924, 2.157071747787011, 1.9280722504894505, 1.8355842066563492, 1.7741466024421733], 'test_loss': [2.359651170066885, 1.9746613341408807, 1.8846665073085476, 1.8552161253787376, 1.8246789123560931], 'train_accuracy': [0.20565805804850104, 0.3570627267519572, 0.394494701164789, 0.4130167557762078, 0.4249212335306473], 'test_accuracy': [0.33848880296439504, 0.38800279254605013, 0.40636915310670746, 0.4164115783255464, 0.42226518446914774]}\n",
      "Epoch 5/15\n",
      "Batch 1/1331\n",
      "Batch 1001/1331\n",
      "Train Loss: 1.7309, Train Accuracy: 43.46%\n",
      "Batch 1/148\n",
      "Test Loss: 1.8099, Test Accuracy: 42.59%\n",
      "{'train_loss': [2.9010450288283924, 2.157071747787011, 1.9280722504894505, 1.8355842066563492, 1.7741466024421733, 1.7308781629751537], 'test_loss': [2.359651170066885, 1.9746613341408807, 1.8846665073085476, 1.8552161253787376, 1.8246789123560931, 1.8099175474128208], 'train_accuracy': [0.20565805804850104, 0.3570627267519572, 0.394494701164789, 0.4130167557762078, 0.4249212335306473, 0.434570126026351], 'test_accuracy': [0.33848880296439504, 0.38800279254605013, 0.40636915310670746, 0.4164115783255464, 0.42226518446914774, 0.4258632726491596]}\n",
      "Epoch 6/15\n",
      "Batch 1/1331\n",
      "Batch 1001/1331\n",
      "Train Loss: 1.6954, Train Accuracy: 44.36%\n",
      "Batch 1/148\n",
      "Test Loss: 1.7896, Test Accuracy: 42.73%\n",
      "{'train_loss': [2.9010450288283924, 2.157071747787011, 1.9280722504894505, 1.8355842066563492, 1.7741466024421733, 1.7308781629751537, 1.695374593799227], 'test_loss': [2.359651170066885, 1.9746613341408807, 1.8846665073085476, 1.8552161253787376, 1.8246789123560931, 1.8099175474128208, 1.7896277268190641], 'train_accuracy': [0.20565805804850104, 0.3570627267519572, 0.394494701164789, 0.4130167557762078, 0.4249212335306473, 0.434570126026351, 0.4435685984342181], 'test_accuracy': [0.33848880296439504, 0.38800279254605013, 0.40636915310670746, 0.4164115783255464, 0.42226518446914774, 0.4258632726491596, 0.42731324848289565]}\n",
      "Epoch 7/15\n",
      "Batch 1/1331\n",
      "Batch 1001/1331\n",
      "Train Loss: 1.6612, Train Accuracy: 45.07%\n",
      "Batch 1/148\n",
      "Test Loss: 1.8003, Test Accuracy: 43.21%\n",
      "{'train_loss': [2.9010450288283924, 2.157071747787011, 1.9280722504894505, 1.8355842066563492, 1.7741466024421733, 1.7308781629751537, 1.695374593799227, 1.6611809567523845], 'test_loss': [2.359651170066885, 1.9746613341408807, 1.8846665073085476, 1.8552161253787376, 1.8246789123560931, 1.8099175474128208, 1.7896277268190641, 1.800346137704076], 'train_accuracy': [0.20565805804850104, 0.3570627267519572, 0.394494701164789, 0.4130167557762078, 0.4249212335306473, 0.434570126026351, 0.4435685984342181, 0.45068741645980526], 'test_accuracy': [0.33848880296439504, 0.38800279254605013, 0.40636915310670746, 0.4164115783255464, 0.42226518446914774, 0.4258632726491596, 0.42731324848289565, 0.432146501262016]}\n",
      "Epoch 8/15\n",
      "Batch 1/1331\n",
      "Batch 1001/1331\n",
      "Train Loss: 1.6353, Train Accuracy: 45.75%\n",
      "Batch 1/148\n",
      "Test Loss: 1.7881, Test Accuracy: 43.74%\n",
      "{'train_loss': [2.9010450288283924, 2.157071747787011, 1.9280722504894505, 1.8355842066563492, 1.7741466024421733, 1.7308781629751537, 1.695374593799227, 1.6611809567523845, 1.6352577944790663], 'test_loss': [2.359651170066885, 1.9746613341408807, 1.8846665073085476, 1.8552161253787376, 1.8246789123560931, 1.8099175474128208, 1.7896277268190641, 1.800346137704076, 1.7880708977982804], 'train_accuracy': [0.20565805804850104, 0.3570627267519572, 0.394494701164789, 0.4130167557762078, 0.4249212335306473, 0.434570126026351, 0.4435685984342181, 0.45068741645980526, 0.45754964674431925], 'test_accuracy': [0.33848880296439504, 0.38800279254605013, 0.40636915310670746, 0.4164115783255464, 0.42226518446914774, 0.4258632726491596, 0.42731324848289565, 0.432146501262016, 0.43740937651039147]}\n",
      "Epoch 9/15\n",
      "Batch 1/1331\n",
      "Batch 1001/1331\n",
      "Train Loss: 1.6080, Train Accuracy: 46.43%\n",
      "Batch 1/148\n",
      "Test Loss: 1.7989, Test Accuracy: 43.76%\n",
      "{'train_loss': [2.9010450288283924, 2.157071747787011, 1.9280722504894505, 1.8355842066563492, 1.7741466024421733, 1.7308781629751537, 1.695374593799227, 1.6611809567523845, 1.6352577944790663, 1.6079957622231442], 'test_loss': [2.359651170066885, 1.9746613341408807, 1.8846665073085476, 1.8552161253787376, 1.8246789123560931, 1.8099175474128208, 1.7896277268190641, 1.800346137704076, 1.7880708977982804, 1.798862272017711], 'train_accuracy': [0.20565805804850104, 0.3570627267519572, 0.394494701164789, 0.4130167557762078, 0.4249212335306473, 0.434570126026351, 0.4435685984342181, 0.45068741645980526, 0.45754964674431925, 0.46426269810960474], 'test_accuracy': [0.33848880296439504, 0.38800279254605013, 0.40636915310670746, 0.4164115783255464, 0.42226518446914774, 0.4258632726491596, 0.42731324848289565, 0.432146501262016, 0.43740937651039147, 0.43762418774501904]}\n",
      "Epoch 10/15\n",
      "Batch 1/1331\n",
      "Batch 1001/1331\n",
      "Train Loss: 1.5835, Train Accuracy: 47.14%\n",
      "Batch 1/148\n",
      "Test Loss: 1.7940, Test Accuracy: 44.39%\n",
      "{'train_loss': [2.9010450288283924, 2.157071747787011, 1.9280722504894505, 1.8355842066563492, 1.7741466024421733, 1.7308781629751537, 1.695374593799227, 1.6611809567523845, 1.6352577944790663, 1.6079957622231442, 1.5834533567718776], 'test_loss': [2.359651170066885, 1.9746613341408807, 1.8846665073085476, 1.8552161253787376, 1.8246789123560931, 1.8099175474128208, 1.7896277268190641, 1.800346137704076, 1.7880708977982804, 1.798862272017711, 1.7939956687592171], 'train_accuracy': [0.20565805804850104, 0.3570627267519572, 0.394494701164789, 0.4130167557762078, 0.4249212335306473, 0.434570126026351, 0.4435685984342181, 0.45068741645980526, 0.45754964674431925, 0.46426269810960474, 0.47144118770288335], 'test_accuracy': [0.33848880296439504, 0.38800279254605013, 0.40636915310670746, 0.4164115783255464, 0.42226518446914774, 0.4258632726491596, 0.42731324848289565, 0.432146501262016, 0.43740937651039147, 0.43762418774501904, 0.4439074163578755]}\n",
      "Epoch 11/15\n",
      "Batch 1/1331\n",
      "Batch 1001/1331\n",
      "Train Loss: 1.5597, Train Accuracy: 47.83%\n",
      "Batch 1/148\n",
      "Test Loss: 1.7991, Test Accuracy: 44.58%\n",
      "{'train_loss': [2.9010450288283924, 2.157071747787011, 1.9280722504894505, 1.8355842066563492, 1.7741466024421733, 1.7308781629751537, 1.695374593799227, 1.6611809567523845, 1.6352577944790663, 1.6079957622231442, 1.5834533567718776, 1.5597289344764669], 'test_loss': [2.359651170066885, 1.9746613341408807, 1.8846665073085476, 1.8552161253787376, 1.8246789123560931, 1.8099175474128208, 1.7896277268190641, 1.800346137704076, 1.7880708977982804, 1.798862272017711, 1.7939956687592171, 1.7990685467784469], 'train_accuracy': [0.20565805804850104, 0.3570627267519572, 0.394494701164789, 0.4130167557762078, 0.4249212335306473, 0.434570126026351, 0.4435685984342181, 0.45068741645980526, 0.45754964674431925, 0.46426269810960474, 0.47144118770288335, 0.47830341798739734], 'test_accuracy': [0.33848880296439504, 0.38800279254605013, 0.40636915310670746, 0.4164115783255464, 0.42226518446914774, 0.4258632726491596, 0.42731324848289565, 0.432146501262016, 0.43740937651039147, 0.43762418774501904, 0.4439074163578755, 0.4457870146608668]}\n",
      "Epoch 12/15\n",
      "Batch 1/1331\n",
      "Batch 1001/1331\n",
      "Train Loss: 1.5346, Train Accuracy: 48.54%\n",
      "Batch 1/148\n",
      "Test Loss: 1.7899, Test Accuracy: 44.91%\n",
      "{'train_loss': [2.9010450288283924, 2.157071747787011, 1.9280722504894505, 1.8355842066563492, 1.7741466024421733, 1.7308781629751537, 1.695374593799227, 1.6611809567523845, 1.6352577944790663, 1.6079957622231442, 1.5834533567718776, 1.5597289344764669, 1.534608546546489], 'test_loss': [2.359651170066885, 1.9746613341408807, 1.8846665073085476, 1.8552161253787376, 1.8246789123560931, 1.8099175474128208, 1.7896277268190641, 1.800346137704076, 1.7880708977982804, 1.798862272017711, 1.7939956687592171, 1.7990685467784469, 1.7899441114954047], 'train_accuracy': [0.20565805804850104, 0.3570627267519572, 0.394494701164789, 0.4130167557762078, 0.4249212335306473, 0.434570126026351, 0.4435685984342181, 0.45068741645980526, 0.45754964674431925, 0.46426269810960474, 0.47144118770288335, 0.47830341798739734, 0.4854341703265228], 'test_accuracy': [0.33848880296439504, 0.38800279254605013, 0.40636915310670746, 0.4164115783255464, 0.42226518446914774, 0.4258632726491596, 0.42731324848289565, 0.432146501262016, 0.43740937651039147, 0.43762418774501904, 0.4439074163578755, 0.4457870146608668, 0.44911658879759414]}\n",
      "Epoch 13/15\n",
      "Batch 1/1331\n",
      "Batch 1001/1331\n",
      "Train Loss: 1.5125, Train Accuracy: 49.17%\n",
      "Batch 1/148\n",
      "Test Loss: 1.7869, Test Accuracy: 45.11%\n",
      "{'train_loss': [2.9010450288283924, 2.157071747787011, 1.9280722504894505, 1.8355842066563492, 1.7741466024421733, 1.7308781629751537, 1.695374593799227, 1.6611809567523845, 1.6352577944790663, 1.6079957622231442, 1.5834533567718776, 1.5597289344764669, 1.534608546546489, 1.5125281412202016], 'test_loss': [2.359651170066885, 1.9746613341408807, 1.8846665073085476, 1.8552161253787376, 1.8246789123560931, 1.8099175474128208, 1.7896277268190641, 1.800346137704076, 1.7880708977982804, 1.798862272017711, 1.7939956687592171, 1.7990685467784469, 1.7899441114954047, 1.7868911873649906], 'train_accuracy': [0.20565805804850104, 0.3570627267519572, 0.394494701164789, 0.4130167557762078, 0.4249212335306473, 0.434570126026351, 0.4435685984342181, 0.45068741645980526, 0.45754964674431925, 0.46426269810960474, 0.47144118770288335, 0.47830341798739734, 0.4854341703265228, 0.4917295207179683], 'test_accuracy': [0.33848880296439504, 0.38800279254605013, 0.40636915310670746, 0.4164115783255464, 0.42226518446914774, 0.4258632726491596, 0.42731324848289565, 0.432146501262016, 0.43740937651039147, 0.43762418774501904, 0.4439074163578755, 0.4457870146608668, 0.44911658879759414, 0.4511035927178991]}\n",
      "Epoch 14/15\n",
      "Batch 1/1331\n",
      "Batch 1001/1331\n",
      "Train Loss: 1.4920, Train Accuracy: 49.90%\n",
      "Batch 1/148\n",
      "Test Loss: 1.7880, Test Accuracy: 45.45%\n",
      "{'train_loss': [2.9010450288283924, 2.157071747787011, 1.9280722504894505, 1.8355842066563492, 1.7741466024421733, 1.7308781629751537, 1.695374593799227, 1.6611809567523845, 1.6352577944790663, 1.6079957622231442, 1.5834533567718776, 1.5597289344764669, 1.534608546546489, 1.5125281412202016, 1.492016020168674], 'test_loss': [2.359651170066885, 1.9746613341408807, 1.8846665073085476, 1.8552161253787376, 1.8246789123560931, 1.8099175474128208, 1.7896277268190641, 1.800346137704076, 1.7880708977982804, 1.798862272017711, 1.7939956687592171, 1.7990685467784469, 1.7899441114954047, 1.7868911873649906, 1.7880241017083864], 'train_accuracy': [0.20565805804850104, 0.3570627267519572, 0.394494701164789, 0.4130167557762078, 0.4249212335306473, 0.434570126026351, 0.4435685984342181, 0.45068741645980526, 0.45754964674431925, 0.46426269810960474, 0.47144118770288335, 0.47830341798739734, 0.4854341703265228, 0.4917295207179683, 0.4989915505060149], 'test_accuracy': [0.33848880296439504, 0.38800279254605013, 0.40636915310670746, 0.4164115783255464, 0.42226518446914774, 0.4258632726491596, 0.42731324848289565, 0.432146501262016, 0.43740937651039147, 0.43762418774501904, 0.4439074163578755, 0.4457870146608668, 0.44911658879759414, 0.4511035927178991, 0.4544868696632834]}\n"
     ]
    }
   ],
   "source": [
    "# patience = 2\n",
    "# best_loss = float('inf')\n",
    "# epochs_without_improvement = 0\n",
    "\n",
    "model_hidden_size_list = [128, 256]\n",
    "lstm_layers_list = [2, 4]\n",
    "\n",
    "model_dict_dropout = dict()\n",
    "\n",
    "for model_hidden_size, lstm_layers in zip(model_hidden_size_list, lstm_layers_list):\n",
    "    print(f\"Model hidden size: {model_hidden_size}, LSTM layers: {lstm_layers}\")\n",
    "    model = DropAllTablesModel(embedding_dim=MODEL_EMBEDDING_DIM,\n",
    "                    hidden_size=model_hidden_size,\n",
    "                    num_layers=lstm_layers\n",
    "                    ).to(device)\n",
    "\n",
    "    loss_fn = nn.CrossEntropyLoss() # Because character classification task\n",
    "    optimizer = torch.optim.Adam(model.parameters(), lr=0.001, weight_decay=1e-5)\n",
    "\n",
    "    model_results = {\n",
    "        'train_loss': [],\n",
    "        'test_loss': [],\n",
    "        'train_accuracy': [],\n",
    "        'test_accuracy': []\n",
    "    }\n",
    "\n",
    "    # Training loop\n",
    "    for epoch in range(n_epochs):\n",
    "        if epoch % 1 == 0:\n",
    "            print(f\"Epoch {epoch}/{n_epochs}\")\n",
    "\n",
    "        # Train and test the model\n",
    "        train(model, optimizer, loss_fn, train_loader)\n",
    "        test(model, loss_fn, test_loader)\n",
    "\n",
    "        # Save metrics for this epoch\n",
    "        model_results['train_loss'].append(train_loss[-1])\n",
    "        model_results['test_loss'].append(test_loss[-1])\n",
    "        model_results['train_accuracy'].append(train_accuracy[-1])\n",
    "        model_results['test_accuracy'].append(test_accuracy[-1])\n",
    "        print(model_results)\n",
    "\n",
    "    # Store the results for this model configuration in the dictionary\n",
    "    model_dict_dropout[(model_hidden_size, lstm_layers)] = model_results\n",
    "\n",
    "\n",
    "\n",
    "# for epoch in range(n_epochs):\n",
    "#   if epoch % 1 == 0:\n",
    "#     print(f\"Epoch {epoch}/{n_epochs}\")\n",
    "#   train(dropout_model, optimizer, loss_fn, train_loader)\n",
    "#   test(dropout_model, loss_fn, test_loader)\n",
    "\n",
    "#   if test_loss[-1] < best_loss:\n",
    "#     best_loss = test_loss[-1]\n",
    "#     epochs_without_improvement = 0\n",
    "\n",
    "#   else:\n",
    "#     epochs_without_improvement += 1\n",
    "#   if epochs_without_improvement >= patience:\n",
    "#     print(\"Early stopping triggered.\")\n",
    "#     break"
   ]
  },
  {
   "cell_type": "code",
   "execution_count": null,
   "metadata": {
    "id": "E_gizi3AZuWf"
   },
   "outputs": [],
   "source": []
  },
  {
   "cell_type": "code",
   "execution_count": null,
   "metadata": {
    "id": "IXO_Q-SYVTHc"
   },
   "outputs": [],
   "source": [
    "with open('/insert_file_path/dropout_model_lstm_plots_dict.pkl', 'wb') as file:\n",
    "    pickle.dump(model_dict, file)"
   ]
  },
  {
   "cell_type": "code",
   "execution_count": null,
   "metadata": {
    "id": "S5w4gn-sZ6Aj"
   },
   "outputs": [],
   "source": [
    "save_path =  '/insert_file_path/big_model_lstm_with_dropout_save.pt'\n",
    "torch.save(model.state_dict(), save_path)\n"
   ]
  },
  {
   "cell_type": "code",
   "execution_count": null,
   "metadata": {
    "colab": {
     "base_uri": "https://localhost:8080/",
     "height": 452
    },
    "id": "JVYgOolB8LDY",
    "outputId": "2ebc555b-713d-4dcf-ea87-d031d1a8b583"
   },
   "outputs": [
    {
     "data": {
      "image/png": "[encoded data removed]",
      "text/plain": [
       "<Figure size 640x480 with 1 Axes>"
      ]
     },
     "metadata": {},
     "output_type": "display_data"
    }
   ],
   "source": [
    "import matplotlib.pyplot as plt\n",
    "\n",
    "plt.plot(range(len(train_loss)), train_loss, label='train')\n",
    "plt.plot(range(len(test_loss)), test_loss, label='test')\n",
    "plt.title(\"Loss plot of train and test loss function\")\n",
    "plt.legend()\n",
    "plt.show()"
   ]
  },
  {
   "cell_type": "code",
   "execution_count": null,
   "metadata": {
    "colab": {
     "base_uri": "https://localhost:8080/",
     "height": 452
    },
    "id": "HryG_5GJCx0e",
    "outputId": "8845cad7-afbb-42c4-e445-a0ba1502ab0b"
   },
   "outputs": [
    {
     "data": {
      "image/png": "[encoded data removed]",
      "text/plain": [
       "<Figure size 640x480 with 1 Axes>"
      ]
     },
     "metadata": {},
     "output_type": "display_data"
    }
   ],
   "source": [
    "plt.plot(range(len(train_accuracy)), train_accuracy, label='train')\n",
    "plt.plot(range(len(test_accuracy)), test_accuracy, label='test')\n",
    "plt.title(\"Loss plot of train and test accuracy\")\n",
    "plt.legend()\n",
    "plt.show()\n"
   ]
  },
  {
   "cell_type": "code",
   "execution_count": null,
   "metadata": {
    "id": "K14rx5gDaXLt"
   },
   "outputs": [],
   "source": []
  }
 ],
 "metadata": {
  "accelerator": "GPU",
  "colab": {
   "gpuType": "T4",
   "provenance": []
  },
  "kernelspec": {
   "display_name": "Python 3",
   "name": "python3"
  },
  "language_info": {
   "name": "python"
  }
 },
 "nbformat": 4,
 "nbformat_minor": 0
}
