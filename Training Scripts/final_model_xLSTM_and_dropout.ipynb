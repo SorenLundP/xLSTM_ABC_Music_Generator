{
 "cells": [
  {
   "cell_type": "markdown",
   "metadata": {
    "id": "roAnwK8RIa5i"
   },
   "source": [
    "# This is for the final model with xLSTM and dropout layers"
   ]
  },
  {
   "cell_type": "code",
   "execution_count": null,
   "metadata": {
    "colab": {
     "base_uri": "https://localhost:8080/"
    },
    "id": "oqKCKeZ2IfR4",
    "outputId": "f5fdd7b3-a8c1-44a2-a650-871644c4bbcd"
   },
   "outputs": [
    {
     "name": "stdout",
     "output_type": "stream",
     "text": [
      "Collecting xLSTM\n",
      "  Downloading xlstm-1.0.8-py3-none-any.whl.metadata (19 kB)\n",
      "Downloading xlstm-1.0.8-py3-none-any.whl (79 kB)\n",
      "\u001b[2K   \u001b[90m━━━━━━━━━━━━━━━━━━━━━━━━━━━━━━━━━━━━━━━━\u001b[0m \u001b[32m79.6/79.6 kB\u001b[0m \u001b[31m4.7 MB/s\u001b[0m eta \u001b[36m0:00:00\u001b[0m\n",
      "\u001b[?25hInstalling collected packages: xLSTM\n",
      "Successfully installed xLSTM-1.0.8\n",
      "Collecting ninja\n",
      "  Downloading ninja-1.11.1.2-py3-none-manylinux_2_12_x86_64.manylinux2010_x86_64.whl.metadata (5.3 kB)\n",
      "Downloading ninja-1.11.1.2-py3-none-manylinux_2_12_x86_64.manylinux2010_x86_64.whl (422 kB)\n",
      "\u001b[2K   \u001b[90m━━━━━━━━━━━━━━━━━━━━━━━━━━━━━━━━━━━━━━━━\u001b[0m \u001b[32m422.9/422.9 kB\u001b[0m \u001b[31m15.2 MB/s\u001b[0m eta \u001b[36m0:00:00\u001b[0m\n",
      "\u001b[?25hInstalling collected packages: ninja\n",
      "Successfully installed ninja-1.11.1.2\n",
      "Collecting xlstm\n",
      "  Downloading xlstm-1.0.8-py3-none-any.whl.metadata (19 kB)\n",
      "Downloading xlstm-1.0.8-py3-none-any.whl (79 kB)\n",
      "\u001b[2K   \u001b[90m━━━━━━━━━━━━━━━━━━━━━━━━━━━━━━━━━━━━━━━━\u001b[0m \u001b[32m79.6/79.6 kB\u001b[0m \u001b[31m23.8 MB/s\u001b[0m eta \u001b[36m0:00:00\u001b[0m\n",
      "\u001b[?25hInstalling collected packages: xlstm\n",
      "  Attempting uninstall: xlstm\n",
      "    Found existing installation: xlstm 1.0.8\n",
      "    Uninstalling xlstm-1.0.8:\n",
      "      Successfully uninstalled xlstm-1.0.8\n",
      "Successfully installed xlstm-1.0.8\n"
     ]
    }
   ],
   "source": [
    "!pip install xLSTM\n",
    "!pip install ninja\n",
    "!pip install xlstm --force-reinstall --no-cache-dir\n"
   ]
  },
  {
   "cell_type": "code",
   "execution_count": null,
   "metadata": {
    "id": "PVnpuIcuIAZm"
   },
   "outputs": [],
   "source": [
    "import json\n",
    "import torch\n",
    "from torch import nn\n",
    "\n",
    "from sklearn.model_selection import train_test_split\n",
    "import time"
   ]
  },
  {
   "cell_type": "code",
   "execution_count": null,
   "metadata": {
    "colab": {
     "base_uri": "https://localhost:8080/"
    },
    "id": "9KGPyJpvIGRI",
    "outputId": "4a6089a1-39b3-4318-a0ea-490176029534"
   },
   "outputs": [
    {
     "name": "stdout",
     "output_type": "stream",
     "text": [
      "Using device: cuda\n"
     ]
    }
   ],
   "source": [
    "device = torch.device('cuda' if torch.cuda.is_available() else 'cpu')\n",
    "print(\"Using device:\", device)"
   ]
  },
  {
   "cell_type": "code",
   "execution_count": null,
   "metadata": {
    "colab": {
     "base_uri": "https://localhost:8080/"
    },
    "id": "RXVBKbJt2F_t",
    "outputId": "7b503dc3-0954-4b80-bc04-bb389c21d199"
   },
   "outputs": [
    {
     "data": {
      "text/plain": [
       "device(type='cuda')"
      ]
     },
     "execution_count": 26,
     "metadata": {},
     "output_type": "execute_result"
    }
   ],
   "source": [
    "device"
   ]
  },
  {
   "cell_type": "code",
   "execution_count": null,
   "metadata": {
    "colab": {
     "base_uri": "https://localhost:8080/"
    },
    "id": "dCJpXUdiTvsb",
    "outputId": "0629f9a4-e382-41af-a6a8-9bbadf87faf5"
   },
   "outputs": [
    {
     "name": "stdout",
     "output_type": "stream",
     "text": [
      "Mounted at /content/drive\n"
     ]
    }
   ],
   "source": [
    "from google.colab import drive\n",
    "drive.mount('/content/drive', force_remount = True)"
   ]
  },
  {
   "cell_type": "code",
   "execution_count": null,
   "metadata": {
    "id": "hrMAPfa3IyMR"
   },
   "outputs": [],
   "source": [
    "# Hyperparameters / Variability management\n",
    "DATALOADING_DATA_PATH = \"insert_file_path/all_tunes_cleaned_removed_whitespace.txt\"\n",
    "DATALOADING_VOCAB_PATH = \"insert_file_path/char_to_idx_truncated.json\"\n",
    "\n",
    "DATASET_SEQUENCE_LENGTH = 128\n",
    "LOADER_BATCH_SIZE = 126\n",
    "\n",
    "MODEL_EMBEDDING_DIM = 128 # Dimension of the embedding\n",
    "MODEL_HIDDEN_SIZE = 256 # LSTM layer size\n",
    "MODEL_LSTM_LAYERS = 4 # Number of LSTM layers\n",
    "MODEL_SAVE_PATH =   'insert_file_path/final_xLSTM_model.pt'\n",
    "\n",
    "TRAINING_EPOCHS = 15\n",
    "\n",
    "RESULTS_LOAD_PATH =  'insert_file_path/final_model_weights.pt'"
   ]
  },
  {
   "cell_type": "code",
   "execution_count": null,
   "metadata": {
    "id": "9di0aHVnQkqS"
   },
   "outputs": [],
   "source": [
    "with open(DATALOADING_DATA_PATH, \"r\") as f:\n",
    "  data = f.read()\n",
    "\n",
    "with open(DATALOADING_VOCAB_PATH) as f:\n",
    "    char_to_index = json.load(f)\n",
    "    index_to_char = {index: char for char, index in char_to_index.items()} # To transfer back"
   ]
  },
  {
   "cell_type": "code",
   "execution_count": null,
   "metadata": {
    "id": "M_7YW_OeQ6Fc"
   },
   "outputs": [],
   "source": [
    "data_translated = [char_to_index[char] for char in data]\n",
    "data_translated = data_translated[:len(data_translated) // 250] # Truncate data"
   ]
  },
  {
   "cell_type": "code",
   "execution_count": null,
   "metadata": {
    "id": "qgwWZWC8Qu6Y"
   },
   "outputs": [],
   "source": [
    "# Define the data set\n",
    "# WARNING: TAKES TRANSLATED DATA FORMAT\n",
    "class MusicDataset(torch.utils.data.Dataset):\n",
    "    def __init__(self,\n",
    "                 X, # The data in TRANSLATED FORMAT\n",
    "                 sequence_len=1, # How much context does the model have?\n",
    "                 ):\n",
    "\n",
    "        self.X=torch.tensor(X, dtype=torch.long)\n",
    "        self.sequence_len=sequence_len\n",
    "\n",
    "    def __len__(self):\n",
    "      # Make room for a last sequence and its target, hence the 1 also\n",
    "        return len(self.X) - self.sequence_len - 1\n",
    "\n",
    "\n",
    "    def __getitem__(self,idx):\n",
    "        X = self.X[idx:idx+self.sequence_len] # 1 x sequence_len\n",
    "        Ytarget = self.X[idx+self.sequence_len] # 1 x 1\n",
    "        return X, Ytarget.long() # For dimensions to match LSTM layer :)"
   ]
  },
  {
   "cell_type": "code",
   "execution_count": null,
   "metadata": {
    "id": "0NpkYiRkQ2Dz"
   },
   "outputs": [],
   "source": [
    "dataset = MusicDataset(X=data_translated, sequence_len=DATASET_SEQUENCE_LENGTH)\n",
    "\n",
    "train_idx, test_idx = train_test_split(range(len(dataset)), test_size=.1, shuffle=False)\n",
    "train_dataset = torch.utils.data.Subset(dataset, train_idx)\n",
    "test_dataset = torch.utils.data.Subset(dataset, test_idx)"
   ]
  },
  {
   "cell_type": "code",
   "execution_count": null,
   "metadata": {
    "id": "Pzk0ex2kRMxM"
   },
   "outputs": [],
   "source": [
    "import torch\n",
    "from torch import nn\n",
    "from xlstm import xLSTMBlockStack, xLSTMBlockStackConfig, mLSTMBlockConfig, mLSTMLayerConfig, sLSTMBlockConfig, sLSTMLayerConfig, FeedForwardConfig\n",
    "\n",
    "class SimpleModelWithxLSTM(nn.Module):\n",
    "    def __init__(self,\n",
    "                 vocab_size,\n",
    "                 embedding_dim,\n",
    "                 hidden_size,\n",
    "                 context_length,\n",
    "                 num_blocks,\n",
    "                 slstm_at,\n",
    "                 dropout_prob = 0.5):\n",
    "        super().__init__()\n",
    "\n",
    "        self.embedding = nn.Embedding(\n",
    "            num_embeddings=vocab_size,\n",
    "            embedding_dim=embedding_dim\n",
    "        )\n",
    "\n",
    "\n",
    "        # xLSTM configuration\n",
    "        self.xLSTM_cfg = xLSTMBlockStackConfig(\n",
    "            mlstm_block=mLSTMBlockConfig(\n",
    "                mlstm=mLSTMLayerConfig(\n",
    "                    conv1d_kernel_size=4,\n",
    "                    qkv_proj_blocksize=4,\n",
    "                    num_heads=4\n",
    "                )\n",
    "            ),\n",
    "            slstm_block=sLSTMBlockConfig(\n",
    "                slstm=sLSTMLayerConfig(\n",
    "                    backend=\"vanilla\",\n",
    "                    num_heads=4,\n",
    "                    conv1d_kernel_size=4,\n",
    "                    bias_init=\"powerlaw_blockdependent\",\n",
    "                ),\n",
    "                feedforward=FeedForwardConfig(\n",
    "                    proj_factor=1.3,\n",
    "                    act_fn=\"gelu\"\n",
    "                ),\n",
    "            ),\n",
    "            context_length=context_length,\n",
    "            num_blocks=num_blocks,\n",
    "            embedding_dim=embedding_dim,\n",
    "            slstm_at=slstm_at,\n",
    "        )\n",
    "\n",
    "        # Initialize xLSTM stack\n",
    "        self.xLSTM = xLSTMBlockStack(self.xLSTM_cfg)\n",
    "\n",
    "        self.dropout_1 = nn.Dropout(dropout_prob)\n",
    "\n",
    "\n",
    "        # Fully connected layers\n",
    "        self.fc1 = nn.Linear(embedding_dim, hidden_size)\n",
    "        self.dropout_2 = nn.Dropout(dropout_prob)\n",
    "        self.fc2 = nn.Linear(hidden_size, vocab_size)\n",
    "\n",
    "\n",
    "    def forward(self, x):\n",
    "        # Embed the input\n",
    "        x = self.embedding(x)  # Shape: [batch_size, seq_length, embedding_dim]\n",
    "\n",
    "        # Pass through the xLSTM stack\n",
    "        x = self.xLSTM(x)  # Shape: [batch_size, seq_length, embedding_dim]\n",
    "\n",
    "        x = self.dropout_1(x)\n",
    "        # Take the last sequence step (e.g., for classification tasks)\n",
    "        x = x[:, -1, :]  # Shape: [batch_size, embedding_dim]\n",
    "\n",
    "        # Fully connected layers\n",
    "        x = self.fc1(x)  # Shape: [batch_size, hidden_size]\n",
    "        x = nn.functional.relu(x)\n",
    "        x = self.dropout_2(x)\n",
    "        x = self.fc2(x)  # Shape: [batch_size, vocab_size]\n",
    "\n",
    "        return x"
   ]
  },
  {
   "cell_type": "code",
   "execution_count": null,
   "metadata": {
    "id": "CAZgGOeERNtA"
   },
   "outputs": [],
   "source": [
    "VOCAB_SIZE = 95 #len(char_to_index)\n",
    "EMBEDDING_DIM = MODEL_EMBEDDING_DIM\n",
    "HIDDEN_SIZE = MODEL_HIDDEN_SIZE\n",
    "CONTEXT_LENGTH = DATASET_SEQUENCE_LENGTH\n",
    "NUM_BLOCKS = 4  # Number of xLSTM blocks\n",
    "SLSTM_AT = [1]  # Use sLSTM at specific layers\n",
    "\n",
    "# Initialize the model\n",
    "model = SimpleModelWithxLSTM(\n",
    "    vocab_size=VOCAB_SIZE,\n",
    "    embedding_dim=EMBEDDING_DIM,\n",
    "    hidden_size=HIDDEN_SIZE,\n",
    "    context_length=CONTEXT_LENGTH,\n",
    "    num_blocks=NUM_BLOCKS,\n",
    "    slstm_at=SLSTM_AT\n",
    ").to(device)\n",
    "\n",
    "\n",
    "n_epochs = TRAINING_EPOCHS\n",
    "\n",
    "loss_fn = nn.CrossEntropyLoss() # Because character classification task\n",
    "optimizer = torch.optim.Adam(model.parameters(), lr=0.001, weight_decay=1e-5)"
   ]
  },
  {
   "cell_type": "code",
   "execution_count": null,
   "metadata": {
    "id": "Hqw7DyCsR5Rn"
   },
   "outputs": [],
   "source": [
    "batch_size = LOADER_BATCH_SIZE\n",
    "\n",
    "\n",
    "train_loader = torch.utils.data.DataLoader(train_dataset,\n",
    "                                           batch_size=batch_size,\n",
    "                                           shuffle=True)\n",
    "test_loader = torch.utils.data.DataLoader(test_dataset,\n",
    "                                          batch_size=batch_size,\n",
    "                                          shuffle=False)"
   ]
  },
  {
   "cell_type": "code",
   "execution_count": null,
   "metadata": {
    "colab": {
     "base_uri": "https://localhost:8080/"
    },
    "id": "SH3cuCo-SB0S",
    "outputId": "9679f2e3-acc9-4de6-9746-a58c507917b1"
   },
   "outputs": [
    {
     "name": "stdout",
     "output_type": "stream",
     "text": [
      "X batch dim: torch.Size([126, 128])\n",
      "y batch dim: torch.Size([126])\n",
      "y_pred dim: torch.Size([126, 95])\n"
     ]
    },
    {
     "data": {
      "text/plain": [
       "tensor(4.6346, device='cuda:0', grad_fn=<NllLossBackward0>)"
      ]
     },
     "execution_count": 15,
     "metadata": {},
     "output_type": "execute_result"
    }
   ],
   "source": [
    "# Sanity check loss function\n",
    "for x_batch, y_batch in train_loader:\n",
    "  x_batch, y_batch = x_batch.to(device), y_batch.to(device)\n",
    "  break\n",
    "\n",
    "print(\"X batch dim:\", x_batch.shape)\n",
    "print(\"y batch dim:\", y_batch.shape)\n",
    "\n",
    "\n",
    "model_output = model(x_batch)\n",
    "print(\"y_pred dim:\", model_output.shape)\n",
    "\n",
    "loss_fn(model_output, y_batch)"
   ]
  },
  {
   "cell_type": "code",
   "execution_count": null,
   "metadata": {
    "colab": {
     "base_uri": "https://localhost:8080/"
    },
    "id": "cIKP7JmuTa36",
    "outputId": "78b79f56-ed23-46c1-e602-161db7773588"
   },
   "outputs": [
    {
     "name": "stdout",
     "output_type": "stream",
     "text": [
      "Batch 1/148\n",
      "Accuracy 1.4016%\n",
      "Initial loss: 0.0363\n"
     ]
    }
   ],
   "source": [
    "\n",
    "# TEST EVAL RUN\n",
    "model.eval()\n",
    "test_loss = 0\n",
    "test_accuracy = 0\n",
    "\n",
    "with torch.no_grad():\n",
    "    for batch_number, (x_batch, y_batch) in enumerate(test_loader):\n",
    "        x_batch, y_batch = x_batch.to(device), y_batch.to(device)\n",
    "        y_pred = model(x_batch)\n",
    "\n",
    "        loss = loss_fn(y_pred, y_batch)\n",
    "        test_loss += loss.item()\n",
    "\n",
    "        test_accuracy += (y_pred.argmax(dim=1) == y_batch).sum().item()\n",
    "\n",
    "        if batch_number % 1000 == 0:\n",
    "          print(f\"Batch {batch_number + 1}/{len(test_loader)}\")\n",
    "\n",
    "print(f\"Accuracy {test_accuracy / len(test_dataset) * 100:.4f}%\")\n",
    "print(f\"Initial loss: {test_loss / len(test_dataset):.4f}\")"
   ]
  },
  {
   "cell_type": "code",
   "execution_count": null,
   "metadata": {
    "id": "Lrh3daDETgH6"
   },
   "outputs": [],
   "source": [
    "train_loss = []\n",
    "test_loss = []\n",
    "train_accuracy = []\n",
    "test_accuracy = []\n",
    "\n",
    "def train(model, optimizer, loss_fn, train_loader):\n",
    "    model.train()\n",
    "    correct_predictions = 0\n",
    "    total_samples = 0\n",
    "    losses = 0\n",
    "\n",
    "    for batch_number, (x_batch, y_batch) in enumerate(train_loader):\n",
    "        x_batch, y_batch = x_batch.to(device), y_batch.to(device)\n",
    "        y_pred = model(x_batch)\n",
    "\n",
    "        loss = loss_fn(y_pred, y_batch)\n",
    "        optimizer.zero_grad()\n",
    "        loss.backward()\n",
    "\n",
    "        # Clip gradients (only if necessary)\n",
    "        torch.nn.utils.clip_grad_norm_(model.parameters(), max_norm=1)\n",
    "\n",
    "        optimizer.step()\n",
    "\n",
    "        losses += loss.item()\n",
    "        correct_predictions += (y_pred.argmax(dim=1) == y_batch).sum().item()\n",
    "        total_samples += y_batch.size(0)\n",
    "\n",
    "        if batch_number % 1000 == 0:\n",
    "            print(f\"Batch {batch_number + 1}/{len(train_loader)}\")\n",
    "\n",
    "        torch.cuda.empty_cache()\n",
    "\n",
    "    train_loss.append(losses / len(train_loader))\n",
    "    train_accuracy.append(correct_predictions / total_samples)\n",
    "    print(f\"Train Loss: {train_loss[-1]:.4f}, Train Accuracy: {train_accuracy[-1] * 100:.2f}%\")\n",
    "\n",
    "\n",
    "def test(model, loss_fn, test_loader):\n",
    "    model.eval()\n",
    "    correct_predictions = 0\n",
    "    total_samples = 0\n",
    "    losses = 0\n",
    "\n",
    "    with torch.no_grad():\n",
    "        for batch_number, (x_batch, y_batch) in enumerate(test_loader):\n",
    "            x_batch, y_batch = x_batch.to(device), y_batch.to(device)\n",
    "            y_pred = model(x_batch)\n",
    "\n",
    "            loss = loss_fn(y_pred, y_batch)\n",
    "\n",
    "            losses += loss.item()\n",
    "            correct_predictions += (y_pred.argmax(dim=1) == y_batch).sum().item()\n",
    "            total_samples += y_batch.size(0)\n",
    "\n",
    "            if batch_number % 1000 == 0:\n",
    "                print(f\"Batch {batch_number + 1}/{len(test_loader)}\")\n",
    "\n",
    "    torch.cuda.empty_cache()\n",
    "\n",
    "    test_loss.append(losses / len(test_loader))\n",
    "    test_accuracy.append(correct_predictions / total_samples)\n",
    "    print(f\"Test Loss: {test_loss[-1]:.4f}, Test Accuracy: {test_accuracy[-1] * 100:.2f}%\")"
   ]
  },
  {
   "cell_type": "code",
   "execution_count": null,
   "metadata": {
    "colab": {
     "base_uri": "https://localhost:8080/"
    },
    "id": "pOTKeLx7Tj5y",
    "outputId": "90027b16-954b-47b0-cb16-b1063bb7e95a"
   },
   "outputs": [
    {
     "name": "stdout",
     "output_type": "stream",
     "text": [
      "Model hidden size: 128, LSTM layers: 2\n",
      "Epoch 0/15\n",
      "Batch 1/1331\n",
      "Batch 1001/1331\n",
      "Train Loss: 2.4630, Train Accuracy: 29.90%\n",
      "Batch 1/148\n",
      "Test Loss: 2.0714, Test Accuracy: 38.39%\n",
      "{'train_loss': [2.4630188775367077], 'test_loss': [2.0713664309398547], 'train_accuracy': [0.29897245560435365], 'test_accuracy': [0.38386767627946944]}\n",
      "Epoch 1/15\n",
      "Batch 1/1331\n",
      "Batch 1001/1331\n",
      "Train Loss: 2.0201, Train Accuracy: 40.02%\n",
      "Batch 1/148\n",
      "Test Loss: 1.9397, Test Accuracy: 41.37%\n",
      "{'train_loss': [2.4630188775367077, 2.0201199234741063], 'test_loss': [2.0713664309398547, 1.9396705861027177], 'train_accuracy': [0.29897245560435365, 0.40024107313347335], 'test_accuracy': [0.38386767627946944, 0.4136727350840449]}\n",
      "Epoch 2/15\n",
      "Batch 1/1331\n",
      "Batch 1001/1331\n",
      "Train Loss: 1.8858, Train Accuracy: 43.60%\n",
      "Batch 1/148\n",
      "Test Loss: 1.8826, Test Accuracy: 43.70%\n",
      "{'train_loss': [2.4630188775367077, 2.0201199234741063, 1.8858480137331337], 'test_loss': [2.0713664309398547, 1.9396705861027177, 1.8826304939953056], 'train_accuracy': [0.29897245560435365, 0.40024107313347335, 0.43603804659156004], 'test_accuracy': [0.38386767627946944, 0.4136727350840449, 0.4370334568497932]}\n",
      "Epoch 3/15\n",
      "Batch 1/1331\n",
      "Batch 1001/1331\n",
      "Train Loss: 1.8048, Train Accuracy: 45.72%\n",
      "Batch 1/148\n",
      "Test Loss: 1.8376, Test Accuracy: 44.57%\n",
      "{'train_loss': [2.4630188775367077, 2.0201199234741063, 1.8858480137331337, 1.804839479484386], 'test_loss': [2.0713664309398547, 1.9396705861027177, 1.8826304939953056, 1.8375678730977547], 'train_accuracy': [0.29897245560435365, 0.40024107313347335, 0.43603804659156004, 0.45717371586786326], 'test_accuracy': [0.38386767627946944, 0.4136727350840449, 0.4370334568497932, 0.4457333118522099]}\n",
      "Epoch 4/15\n",
      "Batch 1/1331\n",
      "Batch 1001/1331\n",
      "Train Loss: 1.7447, Train Accuracy: 47.44%\n",
      "Batch 1/148\n",
      "Test Loss: 1.8357, Test Accuracy: 45.58%\n",
      "{'train_loss': [2.4630188775367077, 2.0201199234741063, 1.8858480137331337, 1.804839479484386, 1.744679681794434], 'test_loss': [2.0713664309398547, 1.9396705861027177, 1.8826304939953056, 1.8375678730977547, 1.8356745323619328], 'train_accuracy': [0.29897245560435365, 0.40024107313347335, 0.43603804659156004, 0.45717371586786326, 0.4743770288333015], 'test_accuracy': [0.38386767627946944, 0.4136727350840449, 0.4370334568497932, 0.4457333118522099, 0.4558294398797057]}\n",
      "Epoch 5/15\n",
      "Batch 1/1331\n",
      "Batch 1001/1331\n",
      "Train Loss: 1.6866, Train Accuracy: 49.25%\n",
      "Batch 1/148\n",
      "Test Loss: 1.7935, Test Accuracy: 47.05%\n",
      "{'train_loss': [2.4630188775367077, 2.0201199234741063, 1.8858480137331337, 1.804839479484386, 1.744679681794434, 1.6866456750279346], 'test_loss': [2.0713664309398547, 1.9396705861027177, 1.8826304939953056, 1.8375678730977547, 1.8356745323619328, 1.7934907553969204], 'train_accuracy': [0.29897245560435365, 0.40024107313347335, 0.43603804659156004, 0.45717371586786326, 0.4743770288333015, 0.49252911972503344], 'test_accuracy': [0.38386767627946944, 0.4136727350840449, 0.4370334568497932, 0.4457333118522099, 0.4558294398797057, 0.47054400945169433]}\n",
      "Epoch 6/15\n",
      "Batch 1/1331\n",
      "Batch 1001/1331\n",
      "Train Loss: 1.6402, Train Accuracy: 50.81%\n",
      "Batch 1/148\n",
      "Test Loss: 1.7705, Test Accuracy: 47.35%\n",
      "{'train_loss': [2.4630188775367077, 2.0201199234741063, 1.8858480137331337, 1.804839479484386, 1.744679681794434, 1.6866456750279346, 1.640183573285052], 'test_loss': [2.0713664309398547, 1.9396705861027177, 1.8826304939953056, 1.8375678730977547, 1.8356745323619328, 1.7934907553969204, 1.7705151398439665], 'train_accuracy': [0.29897245560435365, 0.40024107313347335, 0.43603804659156004, 0.45717371586786326, 0.4743770288333015, 0.49252911972503344, 0.5080914645789574], 'test_accuracy': [0.38386767627946944, 0.4136727350840449, 0.4370334568497932, 0.4457333118522099, 0.4558294398797057, 0.47054400945169433, 0.47349766392782344]}\n",
      "Epoch 7/15\n",
      "Batch 1/1331\n",
      "Batch 1001/1331\n",
      "Train Loss: 1.5965, Train Accuracy: 52.10%\n",
      "Batch 1/148\n",
      "Test Loss: 1.7873, Test Accuracy: 47.66%\n",
      "{'train_loss': [2.4630188775367077, 2.0201199234741063, 1.8858480137331337, 1.804839479484386, 1.744679681794434, 1.6866456750279346, 1.640183573285052, 1.596468358896085], 'test_loss': [2.0713664309398547, 1.9396705861027177, 1.8826304939953056, 1.8375678730977547, 1.8356745323619328, 1.7934907553969204, 1.7705151398439665, 1.787291711246645], 'train_accuracy': [0.29897245560435365, 0.40024107313347335, 0.43603804659156004, 0.45717371586786326, 0.4743770288333015, 0.49252911972503344, 0.5080914645789574, 0.5210222932976896], 'test_accuracy': [0.38386767627946944, 0.4136727350840449, 0.4370334568497932, 0.4457333118522099, 0.4558294398797057, 0.47054400945169433, 0.47349766392782344, 0.4766124268299232]}\n",
      "Epoch 8/15\n",
      "Batch 1/1331\n",
      "Batch 1001/1331\n",
      "Train Loss: 1.5596, Train Accuracy: 53.19%\n",
      "Batch 1/148\n",
      "Test Loss: 1.7913, Test Accuracy: 48.72%\n",
      "{'train_loss': [2.4630188775367077, 2.0201199234741063, 1.8858480137331337, 1.804839479484386, 1.744679681794434, 1.6866456750279346, 1.640183573285052, 1.596468358896085, 1.559588435804996], 'test_loss': [2.0713664309398547, 1.9396705861027177, 1.8826304939953056, 1.8375678730977547, 1.8356745323619328, 1.7934907553969204, 1.7705151398439665, 1.787291711246645, 1.791328755584923], 'train_accuracy': [0.29897245560435365, 0.40024107313347335, 0.43603804659156004, 0.45717371586786326, 0.4743770288333015, 0.49252911972503344, 0.5080914645789574, 0.5210222932976896, 0.53187655146076], 'test_accuracy': [0.38386767627946944, 0.4136727350840449, 0.4370334568497932, 0.4457333118522099, 0.4558294398797057, 0.47054400945169433, 0.47349766392782344, 0.4766124268299232, 0.48724558294398795]}\n",
      "Epoch 9/15\n",
      "Batch 1/1331\n",
      "Batch 1001/1331\n",
      "Train Loss: 1.5221, Train Accuracy: 54.30%\n",
      "Batch 1/148\n",
      "Test Loss: 1.7702, Test Accuracy: 48.64%\n",
      "{'train_loss': [2.4630188775367077, 2.0201199234741063, 1.8858480137331337, 1.804839479484386, 1.744679681794434, 1.6866456750279346, 1.640183573285052, 1.596468358896085, 1.559588435804996, 1.5220569978523397], 'test_loss': [2.0713664309398547, 1.9396705861027177, 1.8826304939953056, 1.8375678730977547, 1.8356745323619328, 1.7934907553969204, 1.7705151398439665, 1.787291711246645, 1.791328755584923, 1.7701915349509265], 'train_accuracy': [0.29897245560435365, 0.40024107313347335, 0.43603804659156004, 0.45717371586786326, 0.4743770288333015, 0.49252911972503344, 0.5080914645789574, 0.5210222932976896, 0.53187655146076, 0.5429993316784418], 'test_accuracy': [0.38386767627946944, 0.4136727350840449, 0.4370334568497932, 0.4457333118522099, 0.4558294398797057, 0.47054400945169433, 0.47349766392782344, 0.4766124268299232, 0.48724558294398795, 0.4863863380054777]}\n",
      "Epoch 10/15\n",
      "Batch 1/1331\n",
      "Batch 1001/1331\n",
      "Train Loss: 1.4865, Train Accuracy: 55.31%\n",
      "Batch 1/148\n",
      "Test Loss: 1.7887, Test Accuracy: 49.01%\n",
      "{'train_loss': [2.4630188775367077, 2.0201199234741063, 1.8858480137331337, 1.804839479484386, 1.744679681794434, 1.6866456750279346, 1.640183573285052, 1.596468358896085, 1.559588435804996, 1.5220569978523397, 1.4865364350831929], 'test_loss': [2.0713664309398547, 1.9396705861027177, 1.8826304939953056, 1.8375678730977547, 1.8356745323619328, 1.7934907553969204, 1.7705151398439665, 1.787291711246645, 1.791328755584923, 1.7701915349509265, 1.7886663530323956], 'train_accuracy': [0.29897245560435365, 0.40024107313347335, 0.43603804659156004, 0.45717371586786326, 0.4743770288333015, 0.49252911972503344, 0.5080914645789574, 0.5210222932976896, 0.53187655146076, 0.5429993316784418, 0.5530778594615238], 'test_accuracy': [0.38386767627946944, 0.4136727350840449, 0.4370334568497932, 0.4457333118522099, 0.4558294398797057, 0.47054400945169433, 0.47349766392782344, 0.4766124268299232, 0.48724558294398795, 0.4863863380054777, 0.49014553461146015]}\n",
      "Epoch 11/15\n",
      "Batch 1/1331\n",
      "Batch 1001/1331\n",
      "Train Loss: 1.4542, Train Accuracy: 56.17%\n",
      "Batch 1/148\n",
      "Test Loss: 1.8002, Test Accuracy: 48.87%\n",
      "{'train_loss': [2.4630188775367077, 2.0201199234741063, 1.8858480137331337, 1.804839479484386, 1.744679681794434, 1.6866456750279346, 1.640183573285052, 1.596468358896085, 1.559588435804996, 1.5220569978523397, 1.4865364350831929, 1.4541630946452415], 'test_loss': [2.0713664309398547, 1.9396705861027177, 1.8826304939953056, 1.8375678730977547, 1.8356745323619328, 1.7934907553969204, 1.7705151398439665, 1.787291711246645, 1.791328755584923, 1.7701915349509265, 1.7886663530323956, 1.800193741514876], 'train_accuracy': [0.29897245560435365, 0.40024107313347335, 0.43603804659156004, 0.45717371586786326, 0.4743770288333015, 0.49252911972503344, 0.5080914645789574, 0.5210222932976896, 0.53187655146076, 0.5429993316784418, 0.5530778594615238, 0.5617004009929348], 'test_accuracy': [0.38386767627946944, 0.4136727350840449, 0.4370334568497932, 0.4457333118522099, 0.4558294398797057, 0.47054400945169433, 0.47349766392782344, 0.4766124268299232, 0.48724558294398795, 0.4863863380054777, 0.49014553461146015, 0.488749261586381]}\n",
      "Epoch 12/15\n",
      "Batch 1/1331\n",
      "Batch 1001/1331\n",
      "Train Loss: 1.4258, Train Accuracy: 57.00%\n",
      "Batch 1/148\n",
      "Test Loss: 1.8040, Test Accuracy: 49.05%\n",
      "{'train_loss': [2.4630188775367077, 2.0201199234741063, 1.8858480137331337, 1.804839479484386, 1.744679681794434, 1.6866456750279346, 1.640183573285052, 1.596468358896085, 1.559588435804996, 1.5220569978523397, 1.4865364350831929, 1.4541630946452415, 1.4257767446770155], 'test_loss': [2.0713664309398547, 1.9396705861027177, 1.8826304939953056, 1.8375678730977547, 1.8356745323619328, 1.7934907553969204, 1.7705151398439665, 1.787291711246645, 1.791328755584923, 1.7701915349509265, 1.7886663530323956, 1.800193741514876, 1.8040012942778099], 'train_accuracy': [0.29897245560435365, 0.40024107313347335, 0.43603804659156004, 0.45717371586786326, 0.4743770288333015, 0.49252911972503344, 0.5080914645789574, 0.5210222932976896, 0.53187655146076, 0.5429993316784418, 0.5530778594615238, 0.5617004009929348, 0.5699529788046591], 'test_accuracy': [0.38386767627946944, 0.4136727350840449, 0.4370334568497932, 0.4457333118522099, 0.4558294398797057, 0.47054400945169433, 0.47349766392782344, 0.4766124268299232, 0.48724558294398795, 0.4863863380054777, 0.49014553461146015, 0.488749261586381, 0.49052145427205845]}\n",
      "Epoch 13/15\n",
      "Batch 1/1331\n",
      "Batch 1001/1331\n",
      "Train Loss: 1.3964, Train Accuracy: 57.71%\n",
      "Batch 1/148\n",
      "Test Loss: 1.8473, Test Accuracy: 49.15%\n",
      "{'train_loss': [2.4630188775367077, 2.0201199234741063, 1.8858480137331337, 1.804839479484386, 1.744679681794434, 1.6866456750279346, 1.640183573285052, 1.596468358896085, 1.559588435804996, 1.5220569978523397, 1.4865364350831929, 1.4541630946452415, 1.4257767446770155, 1.3963783591605057], 'test_loss': [2.0713664309398547, 1.9396705861027177, 1.8826304939953056, 1.8375678730977547, 1.8356745323619328, 1.7934907553969204, 1.7705151398439665, 1.787291711246645, 1.791328755584923, 1.7701915349509265, 1.7886663530323956, 1.800193741514876, 1.8040012942778099, 1.847295017661275], 'train_accuracy': [0.29897245560435365, 0.40024107313347335, 0.43603804659156004, 0.45717371586786326, 0.4743770288333015, 0.49252911972503344, 0.5080914645789574, 0.5210222932976896, 0.53187655146076, 0.5429993316784418, 0.5530778594615238, 0.5617004009929348, 0.5699529788046591, 0.5770658296734772], 'test_accuracy': [0.38386767627946944, 0.4136727350840449, 0.4370334568497932, 0.4457333118522099, 0.4558294398797057, 0.47054400945169433, 0.47349766392782344, 0.4766124268299232, 0.48724558294398795, 0.4863863380054777, 0.49014553461146015, 0.488749261586381, 0.49052145427205845, 0.4914881048278825]}\n",
      "Epoch 14/15\n",
      "Batch 1/1331\n",
      "Batch 1001/1331\n",
      "Train Loss: 1.3687, Train Accuracy: 58.60%\n",
      "Batch 1/148\n",
      "Test Loss: 1.8357, Test Accuracy: 49.15%\n",
      "{'train_loss': [2.4630188775367077, 2.0201199234741063, 1.8858480137331337, 1.804839479484386, 1.744679681794434, 1.6866456750279346, 1.640183573285052, 1.596468358896085, 1.559588435804996, 1.5220569978523397, 1.4865364350831929, 1.4541630946452415, 1.4257767446770155, 1.3963783591605057, 1.3687252725182755], 'test_loss': [2.0713664309398547, 1.9396705861027177, 1.8826304939953056, 1.8375678730977547, 1.8356745323619328, 1.7934907553969204, 1.7705151398439665, 1.787291711246645, 1.791328755584923, 1.7701915349509265, 1.7886663530323956, 1.800193741514876, 1.8040012942778099, 1.847295017661275, 1.835670675780322], 'train_accuracy': [0.29897245560435365, 0.40024107313347335, 0.43603804659156004, 0.45717371586786326, 0.4743770288333015, 0.49252911972503344, 0.5080914645789574, 0.5210222932976896, 0.53187655146076, 0.5429993316784418, 0.5530778594615238, 0.5617004009929348, 0.5699529788046591, 0.5770658296734772, 0.5860165648271911], 'test_accuracy': [0.38386767627946944, 0.4136727350840449, 0.4370334568497932, 0.4457333118522099, 0.4558294398797057, 0.47054400945169433, 0.47349766392782344, 0.4766124268299232, 0.48724558294398795, 0.4863863380054777, 0.49014553461146015, 0.488749261586381, 0.49052145427205845, 0.4914881048278825, 0.4915418076365394]}\n",
      "Model hidden size: 256, LSTM layers: 4\n",
      "Epoch 0/15\n",
      "Batch 1/1331\n",
      "Batch 1001/1331\n",
      "Train Loss: 2.2936, Train Accuracy: 33.97%\n",
      "Batch 1/148\n",
      "Test Loss: 1.9399, Test Accuracy: 41.23%\n",
      "{'train_loss': [2.2935572403163325], 'test_loss': [1.9398759313531824], 'train_accuracy': [0.3396803990834447], 'test_accuracy': [0.4123301648676226]}\n",
      "Epoch 1/15\n",
      "Batch 1/1331\n",
      "Batch 1001/1331\n",
      "Train Loss: 1.8707, Train Accuracy: 43.56%\n",
      "Batch 1/148\n",
      "Test Loss: 1.8355, Test Accuracy: 44.49%\n",
      "{'train_loss': [2.2935572403163325, 1.8706902208227936], 'test_loss': [1.9398759313531824, 1.8354797677413837], 'train_accuracy': [0.3396803990834447, 0.4355666412067978], 'test_accuracy': [0.4123301648676226, 0.4449277697223565]}\n",
      "Epoch 2/15\n",
      "Batch 1/1331\n",
      "Batch 1001/1331\n",
      "Train Loss: 1.7437, Train Accuracy: 47.33%\n",
      "Batch 1/148\n",
      "Test Loss: 1.7609, Test Accuracy: 46.25%\n",
      "{'train_loss': [2.2935572403163325, 1.8706902208227936, 1.7436941115145035], 'test_loss': [1.9398759313531824, 1.8354797677413837, 1.7609284093251099], 'train_accuracy': [0.3396803990834447, 0.4355666412067978, 0.47330294061485584], 'test_accuracy': [0.4123301648676226, 0.4449277697223565, 0.4625422909618173]}\n",
      "Epoch 3/15\n",
      "Batch 1/1331\n",
      "Batch 1001/1331\n",
      "Train Loss: 1.6541, Train Accuracy: 50.17%\n",
      "Batch 1/148\n",
      "Test Loss: 1.7310, Test Accuracy: 48.04%\n",
      "{'train_loss': [2.2935572403163325, 1.8706902208227936, 1.7436941115145035, 1.6541267366538273], 'test_loss': [1.9398759313531824, 1.8354797677413837, 1.7609284093251099, 1.7309885782164496], 'train_accuracy': [0.3396803990834447, 0.4355666412067978, 0.47330294061485584, 0.5017125739927439], 'test_accuracy': [0.4123301648676226, 0.4449277697223565, 0.4625422909618173, 0.48037162343590567]}\n",
      "Epoch 4/15\n",
      "Batch 1/1331\n",
      "Batch 1001/1331\n",
      "Train Loss: 1.5821, Train Accuracy: 52.43%\n",
      "Batch 1/148\n",
      "Test Loss: 1.7250, Test Accuracy: 48.52%\n",
      "{'train_loss': [2.2935572403163325, 1.8706902208227936, 1.7436941115145035, 1.6541267366538273, 1.5820897210369784], 'test_loss': [1.9398759313531824, 1.8354797677413837, 1.7609284093251099, 1.7309885782164496, 1.7250224666015521], 'train_accuracy': [0.3396803990834447, 0.4355666412067978, 0.47330294061485584, 0.5017125739927439, 0.5242803608936414], 'test_accuracy': [0.4123301648676226, 0.4449277697223565, 0.4625422909618173, 0.48037162343590567, 0.48515117340636915]}\n",
      "Epoch 5/15\n",
      "Batch 1/1331\n",
      "Batch 1001/1331\n",
      "Train Loss: 1.5213, Train Accuracy: 54.31%\n",
      "Batch 1/148\n",
      "Test Loss: 1.7105, Test Accuracy: 48.96%\n",
      "{'train_loss': [2.2935572403163325, 1.8706902208227936, 1.7436941115145035, 1.6541267366538273, 1.5820897210369784, 1.5213243294084637], 'test_loss': [1.9398759313531824, 1.8354797677413837, 1.7609284093251099, 1.7309885782164496, 1.7250224666015521, 1.7104982604851593], 'train_accuracy': [0.3396803990834447, 0.4355666412067978, 0.47330294061485584, 0.5017125739927439, 0.5242803608936414, 0.5431425434409013], 'test_accuracy': [0.4123301648676226, 0.4449277697223565, 0.4625422909618173, 0.48037162343590567, 0.48515117340636915, 0.48960850652489124]}\n",
      "Epoch 6/15\n",
      "Batch 1/1331\n",
      "Batch 1001/1331\n",
      "Train Loss: 1.4595, Train Accuracy: 56.19%\n",
      "Batch 1/148\n",
      "Test Loss: 1.6783, Test Accuracy: 50.12%\n",
      "{'train_loss': [2.2935572403163325, 1.8706902208227936, 1.7436941115145035, 1.6541267366538273, 1.5820897210369784, 1.5213243294084637, 1.4595015727873586], 'test_loss': [1.9398759313531824, 1.8354797677413837, 1.7609284093251099, 1.7309885782164496, 1.7250224666015521, 1.7104982604851593, 1.6782862552114435], 'train_accuracy': [0.3396803990834447, 0.4355666412067978, 0.47330294061485584, 0.5017125739927439, 0.5242803608936414, 0.5431425434409013, 0.56187344853924], 'test_accuracy': [0.4123301648676226, 0.4449277697223565, 0.4625422909618173, 0.48037162343590567, 0.48515117340636915, 0.48960850652489124, 0.5011546103861232]}\n",
      "Epoch 7/15\n",
      "Batch 1/1331\n",
      "Batch 1001/1331\n",
      "Train Loss: 1.4076, Train Accuracy: 57.75%\n",
      "Batch 1/148\n",
      "Test Loss: 1.6978, Test Accuracy: 49.83%\n",
      "{'train_loss': [2.2935572403163325, 1.8706902208227936, 1.7436941115145035, 1.6541267366538273, 1.5820897210369784, 1.5213243294084637, 1.4595015727873586, 1.407590210930375], 'test_loss': [1.9398759313531824, 1.8354797677413837, 1.7609284093251099, 1.7309885782164496, 1.7250224666015521, 1.7104982604851593, 1.6782862552114435, 1.6977566230941463], 'train_accuracy': [0.3396803990834447, 0.4355666412067978, 0.47330294061485584, 0.5017125739927439, 0.5242803608936414, 0.5431425434409013, 0.56187344853924, 0.5774954649608555], 'test_accuracy': [0.4123301648676226, 0.4449277697223565, 0.4625422909618173, 0.48037162343590567, 0.48515117340636915, 0.48960850652489124, 0.5011546103861232, 0.498254658718651]}\n",
      "Epoch 8/15\n",
      "Batch 1/1331\n",
      "Batch 1001/1331\n",
      "Train Loss: 1.3554, Train Accuracy: 59.18%\n",
      "Batch 1/148\n",
      "Test Loss: 1.7040, Test Accuracy: 50.27%\n",
      "{'train_loss': [2.2935572403163325, 1.8706902208227936, 1.7436941115145035, 1.6541267366538273, 1.5820897210369784, 1.5213243294084637, 1.4595015727873586, 1.407590210930375, 1.3554064383818456], 'test_loss': [1.9398759313531824, 1.8354797677413837, 1.7609284093251099, 1.7309885782164496, 1.7250224666015521, 1.7104982604851593, 1.6782862552114435, 1.6977566230941463, 1.704020843312547], 'train_accuracy': [0.3396803990834447, 0.4355666412067978, 0.47330294061485584, 0.5017125739927439, 0.5242803608936414, 0.5431425434409013, 0.56187344853924, 0.5774954649608555, 0.5917927725797212], 'test_accuracy': [0.4123301648676226, 0.4449277697223565, 0.4625422909618173, 0.48037162343590567, 0.48515117340636915, 0.48960850652489124, 0.5011546103861232, 0.498254658718651, 0.5027119918371731]}\n",
      "Epoch 9/15\n",
      "Batch 1/1331\n",
      "Batch 1001/1331\n",
      "Train Loss: 1.3054, Train Accuracy: 60.67%\n",
      "Batch 1/148\n",
      "Test Loss: 1.7297, Test Accuracy: 50.35%\n",
      "{'train_loss': [2.2935572403163325, 1.8706902208227936, 1.7436941115145035, 1.6541267366538273, 1.5820897210369784, 1.5213243294084637, 1.4595015727873586, 1.407590210930375, 1.3554064383818456, 1.3054200604300494], 'test_loss': [1.9398759313531824, 1.8354797677413837, 1.7609284093251099, 1.7309885782164496, 1.7250224666015521, 1.7104982604851593, 1.6782862552114435, 1.6977566230941463, 1.704020843312547, 1.7296725704863265], 'train_accuracy': [0.3396803990834447, 0.4355666412067978, 0.47330294061485584, 0.5017125739927439, 0.5242803608936414, 0.5431425434409013, 0.56187344853924, 0.5774954649608555, 0.5917927725797212, 0.6066509929348863], 'test_accuracy': [0.4123301648676226, 0.4449277697223565, 0.4625422909618173, 0.48037162343590567, 0.48515117340636915, 0.48960850652489124, 0.5011546103861232, 0.498254658718651, 0.5027119918371731, 0.5034638311583696]}\n",
      "Epoch 10/15\n",
      "Batch 1/1331\n",
      "Batch 1001/1331\n",
      "Train Loss: 1.2549, Train Accuracy: 62.02%\n",
      "Batch 1/148\n",
      "Test Loss: 1.7690, Test Accuracy: 50.19%\n",
      "{'train_loss': [2.2935572403163325, 1.8706902208227936, 1.7436941115145035, 1.6541267366538273, 1.5820897210369784, 1.5213243294084637, 1.4595015727873586, 1.407590210930375, 1.3554064383818456, 1.3054200604300494, 1.2548660692373315], 'test_loss': [1.9398759313531824, 1.8354797677413837, 1.7609284093251099, 1.7309885782164496, 1.7250224666015521, 1.7104982604851593, 1.6782862552114435, 1.6977566230941463, 1.704020843312547, 1.7296725704863265, 1.7689923313823905], 'train_accuracy': [0.3396803990834447, 0.4355666412067978, 0.47330294061485584, 0.5017125739927439, 0.5242803608936414, 0.5431425434409013, 0.56187344853924, 0.5774954649608555, 0.5917927725797212, 0.6066509929348863, 0.6201785373305327], 'test_accuracy': [0.4123301648676226, 0.4449277697223565, 0.4625422909618173, 0.48037162343590567, 0.48515117340636915, 0.48960850652489124, 0.5011546103861232, 0.498254658718651, 0.5027119918371731, 0.5034638311583696, 0.5019064497073197]}\n",
      "Epoch 11/15\n",
      "Batch 1/1331\n",
      "Batch 1001/1331\n",
      "Train Loss: 1.2123, Train Accuracy: 63.56%\n",
      "Batch 1/148\n",
      "Test Loss: 1.7913, Test Accuracy: 50.64%\n",
      "{'train_loss': [2.2935572403163325, 1.8706902208227936, 1.7436941115145035, 1.6541267366538273, 1.5820897210369784, 1.5213243294084637, 1.4595015727873586, 1.407590210930375, 1.3554064383818456, 1.3054200604300494, 1.2548660692373315, 1.2122866527018559], 'test_loss': [1.9398759313531824, 1.8354797677413837, 1.7609284093251099, 1.7309885782164496, 1.7250224666015521, 1.7104982604851593, 1.6782862552114435, 1.6977566230941463, 1.704020843312547, 1.7296725704863265, 1.7689923313823905, 1.7912824274720371], 'train_accuracy': [0.3396803990834447, 0.4355666412067978, 0.47330294061485584, 0.5017125739927439, 0.5242803608936414, 0.5431425434409013, 0.56187344853924, 0.5774954649608555, 0.5917927725797212, 0.6066509929348863, 0.6201785373305327, 0.6356036375787665], 'test_accuracy': [0.4123301648676226, 0.4449277697223565, 0.4625422909618173, 0.48037162343590567, 0.48515117340636915, 0.48960850652489124, 0.5011546103861232, 0.498254658718651, 0.5027119918371731, 0.5034638311583696, 0.5019064497073197, 0.5064174856344987]}\n",
      "Epoch 12/15\n",
      "Batch 1/1331\n",
      "Batch 1001/1331\n",
      "Train Loss: 1.1688, Train Accuracy: 64.73%\n",
      "Batch 1/148\n",
      "Test Loss: 1.8197, Test Accuracy: 50.24%\n",
      "{'train_loss': [2.2935572403163325, 1.8706902208227936, 1.7436941115145035, 1.6541267366538273, 1.5820897210369784, 1.5213243294084637, 1.4595015727873586, 1.407590210930375, 1.3554064383818456, 1.3054200604300494, 1.2548660692373315, 1.2122866527018559, 1.1688232716539586], 'test_loss': [1.9398759313531824, 1.8354797677413837, 1.7609284093251099, 1.7309885782164496, 1.7250224666015521, 1.7104982604851593, 1.6782862552114435, 1.6977566230941463, 1.704020843312547, 1.7296725704863265, 1.7689923313823905, 1.7912824274720371, 1.8196587739764034], 'train_accuracy': [0.3396803990834447, 0.4355666412067978, 0.47330294061485584, 0.5017125739927439, 0.5242803608936414, 0.5431425434409013, 0.56187344853924, 0.5774954649608555, 0.5917927725797212, 0.6066509929348863, 0.6201785373305327, 0.6356036375787665, 0.6473350677869009], 'test_accuracy': [0.4123301648676226, 0.4449277697223565, 0.4625422909618173, 0.48037162343590567, 0.48515117340636915, 0.48960850652489124, 0.5011546103861232, 0.498254658718651, 0.5027119918371731, 0.5034638311583696, 0.5019064497073197, 0.5064174856344987, 0.5024434777938886]}\n",
      "Epoch 13/15\n",
      "Batch 1/1331\n",
      "Batch 1001/1331\n"
     ]
    }
   ],
   "source": [
    "# patience = 2\n",
    "# best_loss = float('inf')\n",
    "# epochs_without_improvement = 0\n",
    "\n",
    "model_hidden_size_list = [128, 256]\n",
    "lstm_layers_list = [2, 4]\n",
    "\n",
    "model_dict_dropout = dict()\n",
    "\n",
    "for model_hidden_size, lstm_layers in zip(model_hidden_size_list, lstm_layers_list):\n",
    "    print(f\"Model hidden size: {model_hidden_size}, LSTM layers: {lstm_layers}\")\n",
    "    model = SimpleModelWithxLSTM(\n",
    "          vocab_size=VOCAB_SIZE,\n",
    "          embedding_dim=EMBEDDING_DIM,\n",
    "          hidden_size=model_hidden_size,\n",
    "          context_length=CONTEXT_LENGTH,\n",
    "          num_blocks=lstm_layers,\n",
    "          slstm_at=SLSTM_AT\n",
    "      ).to(device)\n",
    "\n",
    "    loss_fn = nn.CrossEntropyLoss() # Because character classification task\n",
    "    optimizer = torch.optim.Adam(model.parameters(), lr=0.001, weight_decay=1e-5)\n",
    "\n",
    "    model_results = {\n",
    "        'train_loss': [],\n",
    "        'test_loss': [],\n",
    "        'train_accuracy': [],\n",
    "        'test_accuracy': []\n",
    "    }\n",
    "\n",
    "    # Training loop\n",
    "    for epoch in range(n_epochs):\n",
    "        if epoch % 1 == 0:\n",
    "            print(f\"Epoch {epoch}/{n_epochs}\")\n",
    "\n",
    "        # Train and test the model\n",
    "        train(model, optimizer, loss_fn, train_loader)\n",
    "        test(model, loss_fn, test_loader)\n",
    "\n",
    "        # Save metrics for this epoch\n",
    "        model_results['train_loss'].append(train_loss[-1])\n",
    "        model_results['test_loss'].append(test_loss[-1])\n",
    "        model_results['train_accuracy'].append(train_accuracy[-1])\n",
    "        model_results['test_accuracy'].append(test_accuracy[-1])\n",
    "        print(model_results)\n",
    "\n",
    "    # Store the results for this model configuration in the dictionary\n",
    "    model_dict_dropout[(model_hidden_size, lstm_layers)] = model_results\n",
    "\n",
    "\n",
    "# for epoch in range(n_epochs):\n",
    "#   if epoch % 1 == 0:\n",
    "#     print(f\"Epoch {epoch}/{n_epochs}\")\n",
    "#   train(model, optimizer, loss_fn, train_loader)\n",
    "#   test(model, loss_fn, test_loader)\n",
    "\n",
    "#   if test_loss[-1] < best_loss:\n",
    "#     best_loss = test_loss[-1]\n",
    "#     epochs_without_improvement = 0\n",
    "\n",
    "#   else:\n",
    "#     epochs_without_improvement += 1\n",
    "#   if epochs_without_improvement >= patience:\n",
    "#     print(\"Early stopping triggered.\")\n",
    "#     break"
   ]
  },
  {
   "cell_type": "code",
   "execution_count": null,
   "metadata": {
    "id": "jUncWsrPalIq"
   },
   "outputs": [],
   "source": [
    "train_loss"
   ]
  },
  {
   "cell_type": "code",
   "execution_count": null,
   "metadata": {
    "id": "kJd0HRV3l0Dh"
   },
   "outputs": [],
   "source": [
    "test_loss"
   ]
  },
  {
   "cell_type": "code",
   "execution_count": null,
   "metadata": {
    "id": "6sCpo4qHl2Q1"
   },
   "outputs": [],
   "source": [
    "train_accuracy"
   ]
  },
  {
   "cell_type": "code",
   "execution_count": null,
   "metadata": {
    "colab": {
     "base_uri": "https://localhost:8080/"
    },
    "id": "eDGKx4Q6l6yg",
    "outputId": "bbb0a342-a675-45ec-dcd1-2e9f953223e7"
   },
   "outputs": [
    {
     "data": {
      "text/plain": [
       "dict_values([0, 1, 2, 3, 4, 5, 6, 7, 8, 9, 10, 11, 12, 13, 14, 15, 16, 17, 18, 19, 20, 21, 22, 23, 24, 25, 26, 27, 28, 29, 30, 31, 32, 33, 34, 35, 36, 37, 38, 39, 40, 41, 42, 43, 44, 45, 46, 47, 48, 49, 50, 51, 52, 53, 54, 55, 56, 57, 58, 59, 60, 61, 62, 63, 64, 65, 66, 67, 68, 69, 70, 71, 72, 73, 74, 75, 76, 77, 78, 79, 80, 81, 82, 83, 84, 85, 86, 87, 88, 89, 90, 91, 92, 93, 94])"
      ]
     },
     "execution_count": 43,
     "metadata": {},
     "output_type": "execute_result"
    }
   ],
   "source": [
    "char_to_index.values()"
   ]
  },
  {
   "cell_type": "code",
   "execution_count": null,
   "metadata": {
    "id": "Bfugms_ymNUy"
   },
   "outputs": [],
   "source": [
    "import matplotlib.pyplot as plt\n",
    "\n",
    "plt.plot(range(len(train_loss)), train_loss, label='train')\n",
    "plt.plot(range(len(test_loss)), test_loss, label='test')\n",
    "plt.title(\"Loss plot of train and test loss function\")\n",
    "plt.legend()\n",
    "plt.show()"
   ]
  },
  {
   "cell_type": "code",
   "execution_count": null,
   "metadata": {
    "id": "G0lin_VImSNf"
   },
   "outputs": [],
   "source": [
    "plt.plot(range(len(train_accuracy)), train_accuracy, label='train')\n",
    "plt.plot(range(len(test_accuracy)), test_accuracy, label='test')\n",
    "plt.title(\"Loss plot of train and test accuracy\")\n",
    "plt.legend()\n",
    "plt.show()\n"
   ]
  },
  {
   "cell_type": "markdown",
   "metadata": {
    "id": "kTl3VBRfM3OV"
   },
   "source": [
    "## Grid search"
   ]
  },
  {
   "cell_type": "code",
   "execution_count": null,
   "metadata": {
    "id": "LR0Xl39lQp9N"
   },
   "outputs": [],
   "source": [
    "\n",
    "from sklearn.base import BaseEstimator, ClassifierMixin\n",
    "\n",
    "\n",
    "class PyTorchClassifier(BaseEstimator, ClassifierMixin):\n",
    "    def __init__(self,\n",
    "                 vocab_size,\n",
    "                 embedding_dim=128,\n",
    "                 hidden_size=256,\n",
    "                 context_length=128,\n",
    "                 num_blocks=7,\n",
    "                 slstm_at=[1],\n",
    "                 batch_size=32, # hyperparams from here\n",
    "                 dropout_prob=0.5,\n",
    "                 learning_rate=0.001,\n",
    "                 epochs=1):\n",
    "        self.vocab_size = vocab_size\n",
    "        self.embedding_dim = embedding_dim\n",
    "        self.hidden_size = hidden_size\n",
    "        self.context_length = context_length\n",
    "        self.num_blocks = num_blocks\n",
    "        self.slstm_at = slstm_at\n",
    "        self.dropout_prob = dropout_prob\n",
    "        self.learning_rate = learning_rate\n",
    "        self.epochs = epochs\n",
    "        self.batch_size = batch_size\n",
    "        self.device = 'cuda' if torch.cuda.is_available() else 'cpu'\n",
    "        self.model = None\n",
    "\n",
    "    def fit(self, X, y):\n",
    "\n",
    "        X = torch.tensor(X, dtype=torch.long)\n",
    "        y = torch.tensor(y, dtype=torch.long)\n",
    "        \"\"\"\n",
    "        setting the classes totally fucks the vram, it tries to allocate\n",
    "        80gb no matter the batchsize. I have no clue why\n",
    "        \"\"\"\n",
    "        self.classes_ = list(set(y.numpy()))\n",
    "\n",
    "        train_loader = torch.utils.data.DataLoader(list(zip(X, y)), batch_size=self.batch_size, shuffle=True)\n",
    "\n",
    "        self.model = SimpleModelWithxLSTM(\n",
    "            vocab_size=self.vocab_size,\n",
    "            embedding_dim=self.embedding_dim,\n",
    "            hidden_size=self.hidden_size,\n",
    "            context_length=self.context_length,\n",
    "            num_blocks=self.num_blocks,\n",
    "            slstm_at=self.slstm_at).to(self.device)\n",
    "\n",
    "        optimizer = torch.optim.Adam(self.model.parameters(), lr=self.learning_rate)\n",
    "        loss_fn = nn.CrossEntropyLoss()\n",
    "\n",
    "\n",
    "        for epoch in range(self.epochs):\n",
    "            train(self.model, optimizer, loss_fn, train_loader)\n",
    "            torch.cuda.empty_cache()\n",
    "\n",
    "\n",
    "    def predict(self, X):\n",
    "        X = torch.tensor(X, dtype=torch.long).to(self.device)\n",
    "        self.model.eval()\n",
    "        with torch.no_grad():\n",
    "          y_pred = self.model(X)\n",
    "\n",
    "        torch.cuda.empty_cache()\n",
    "        return torch.argmax(y_pred, dim=1).cpu().numpy()\n",
    "\n",
    "    def score(self, X, y):\n",
    "\n",
    "        X_tensor = torch.LongTensor(X)\n",
    "        y_tensor = torch.LongTensor(y)\n",
    "        test_loader = torch.utils.data.DataLoader(list(zip(X_tensor, y_tensor)), batch_size=self.batch_size, shuffle=False)\n",
    "\n",
    "        # Evaluate model\n",
    "        test(self.model, nn.CrossEntropyLoss(), test_loader)\n",
    "\n",
    "        # Return accuracy\n",
    "        return test_accuracy[-1]\n",
    "\n"
   ]
  },
  {
   "cell_type": "code",
   "execution_count": null,
   "metadata": {
    "id": "XwU22wyP6j2z"
   },
   "outputs": [],
   "source": [
    "import numpy as np\n",
    "\n",
    "def dataloader_to_arrays(dataloader):\n",
    "    X = []\n",
    "    y = []\n",
    "    for x_batch, y_batch in dataloader:\n",
    "        X.append(x_batch.numpy())\n",
    "        y.append(y_batch.numpy())\n",
    "    X = np.concatenate(X)\n",
    "    y = np.concatenate(y)\n",
    "    return X, y"
   ]
  },
  {
   "cell_type": "code",
   "execution_count": null,
   "metadata": {
    "colab": {
     "base_uri": "https://localhost:8080/"
    },
    "id": "K8sK7wNyYucJ",
    "outputId": "a4b728cb-f873-4f89-e7f4-eec4d0112d1d"
   },
   "outputs": [
    {
     "name": "stderr",
     "output_type": "stream",
     "text": [
      "/usr/local/lib/python3.10/dist-packages/sklearn/model_selection/_split.py:776: UserWarning: The least populated class in y has only 1 members, which is less than n_splits=3.\n",
      "  warnings.warn(\n"
     ]
    },
    {
     "name": "stdout",
     "output_type": "stream",
     "text": [
      "Batch 1/435\n",
      "Train Loss: 2.8851, Train Accuracy: 21.26%\n",
      "Batch 1/435\n",
      "Train Loss: 2.8845, Train Accuracy: 21.85%\n",
      "Batch 1/435\n",
      "Train Loss: 2.9021, Train Accuracy: 21.21%\n",
      "Batch 1/435\n",
      "Train Loss: 3.6499, Train Accuracy: 9.42%\n",
      "Batch 1/435\n",
      "Train Loss: 3.6698, Train Accuracy: 9.19%\n",
      "Batch 1/435\n",
      "Train Loss: 3.6314, Train Accuracy: 9.07%\n",
      "Batch 1/435\n",
      "Train Loss: 4.5375, Train Accuracy: 1.61%\n",
      "Batch 1/435\n",
      "Train Loss: 4.4984, Train Accuracy: 2.78%\n",
      "Batch 1/435\n",
      "Train Loss: 4.5068, Train Accuracy: 2.13%\n",
      "Batch 1/435\n",
      "Train Loss: 2.9025, Train Accuracy: 21.20%\n",
      "Batch 1/435\n",
      "Train Loss: 2.8895, Train Accuracy: 21.54%\n",
      "Batch 1/435\n",
      "Train Loss: 2.8842, Train Accuracy: 21.32%\n",
      "Batch 1/435\n",
      "Train Loss: 3.6495, Train Accuracy: 9.38%\n",
      "Batch 1/435\n",
      "Train Loss: 3.6388, Train Accuracy: 9.40%\n",
      "Batch 1/435\n",
      "Train Loss: 3.6577, Train Accuracy: 9.38%\n",
      "Batch 1/435\n",
      "Train Loss: 4.4726, Train Accuracy: 2.69%\n",
      "Batch 1/435\n",
      "Train Loss: 4.5240, Train Accuracy: 2.05%\n",
      "Batch 1/435\n",
      "Train Loss: 4.5128, Train Accuracy: 2.13%\n",
      "Batch 1/435\n",
      "Train Loss: 2.8977, Train Accuracy: 20.85%\n",
      "Batch 1/435\n",
      "Train Loss: 2.8959, Train Accuracy: 21.90%\n",
      "Batch 1/435\n",
      "Train Loss: 2.8731, Train Accuracy: 22.53%\n",
      "Batch 1/435\n",
      "Train Loss: 3.6747, Train Accuracy: 9.89%\n",
      "Batch 1/435\n",
      "Train Loss: 3.6692, Train Accuracy: 8.79%\n",
      "Batch 1/435\n",
      "Train Loss: 3.6588, Train Accuracy: 8.97%\n",
      "Batch 1/435\n",
      "Train Loss: 4.5404, Train Accuracy: 1.85%\n",
      "Batch 1/435\n",
      "Train Loss: 4.4838, Train Accuracy: 2.73%\n",
      "Batch 1/435\n",
      "Train Loss: 4.4962, Train Accuracy: 1.73%\n",
      "Batch 1/652\n",
      "Train Loss: 2.7251, Train Accuracy: 25.46%\n",
      "Best Parameters: {'dropout_prob': 0.7, 'learning_rate': 0.001}\n",
      "Best CV Score: 0.32535334540748523\n"
     ]
    }
   ],
   "source": [
    "\n",
    "from sklearn.model_selection import GridSearchCV\n",
    "\n",
    "param_grid = {\n",
    "    'learning_rate': [0.001, 0.0001, 0.00001],\n",
    "    'dropout_prob': [0.3, 0.5, 0.7]\n",
    "}\n",
    "\n",
    "pytorch_clf = PyTorchClassifier(vocab_size=VOCAB_SIZE)\n",
    "\n",
    "X_train, y_train = dataloader_to_arrays(train_loader)\n",
    "X_test, y_test = dataloader_to_arrays(test_loader)\n",
    "\n",
    "# Perform GridSearchCV\n",
    "grid_search = GridSearchCV(estimator=pytorch_clf, param_grid=param_grid, cv=3, scoring='accuracy')\n",
    "grid_search.fit(X_train, y_train)\n",
    "\n",
    "# Print best parameters and score\n",
    "print(\"Best Parameters:\", grid_search.best_params_)\n",
    "print(\"Best CV Score:\", grid_search.best_score_)"
   ]
  },
  {
   "cell_type": "code",
   "execution_count": null,
   "metadata": {
    "id": "5phQFwQf5MsN"
   },
   "outputs": [],
   "source": [
    "torch.cuda.empty_cache()"
   ]
  },
  {
   "cell_type": "code",
   "execution_count": null,
   "metadata": {
    "id": "6J5oAOC21toR"
   },
   "outputs": [],
   "source": [
    "x = [\"din\"]"
   ]
  },
  {
   "cell_type": "code",
   "execution_count": null,
   "metadata": {
    "id": "9AZhXPC11wDI"
   },
   "outputs": [],
   "source": [
    "torch.summary(model)"
   ]
  },
  {
   "cell_type": "code",
   "execution_count": null,
   "metadata": {
    "colab": {
     "base_uri": "https://localhost:8080/",
     "height": 145
    },
    "id": "6wBGOPb-CV0H",
    "outputId": "4f434683-de55-464e-fdf0-7dde67d0d09c"
   },
   "outputs": [
    {
     "data": {
      "application/vnd.google.colaboratory.intrinsic+json": {
       "type": "string"
      },
      "text/plain": [
       "\"/usr/local/lib/python3.10/dist-packages/sklearn/model_selection/_split.py:776: UserWarning: The least populated class in y has only 1 members, which is less than n_splits=3.\\n  warnings.warn(\\nBatch 1/435\\nTrain Loss: 2.8851, Train Accuracy: 21.26%\\nBatch 1/435\\nTrain Loss: 2.8845, Train Accuracy: 21.85%\\nBatch 1/435\\nTrain Loss: 2.9021, Train Accuracy: 21.21%\\nBatch 1/435\\nTrain Loss: 3.6499, Train Accuracy: 9.42%\\nBatch 1/435\\nTrain Loss: 3.6698, Train Accuracy: 9.19%\\nBatch 1/435\\nTrain Loss: 3.6314, Train Accuracy: 9.07%\\nBatch 1/435\\nTrain Loss: 4.5375, Train Accuracy: 1.61%\\nBatch 1/435\\nTrain Loss: 4.4984, Train Accuracy: 2.78%\\nBatch 1/435\\nTrain Loss: 4.5068, Train Accuracy: 2.13%\\nBatch 1/435\\nTrain Loss: 2.9025, Train Accuracy: 21.20%\\nBatch 1/435\\nTrain Loss: 2.8895, Train Accuracy: 21.54%\\nBatch 1/435\\nTrain Loss: 2.8842, Train Accuracy: 21.32%\\nBatch 1/435\\nTrain Loss: 3.6495, Train Accuracy: 9.38%\\nBatch 1/435\\nTrain Loss: 3.6388, Train Accuracy: 9.40%\\nBatch 1/435\\nTrain Loss: 3.6577, Train Accuracy: 9.38%\\nBatch 1/435\\nTrain Loss: 4.4726, Train Accuracy: 2.69%\\nBatch 1/435\\nTrain Loss: 4.5240, Train Accuracy: 2.05%\\nBatch 1/435\\nTrain Loss: 4.5128, Train Accuracy: 2.13%\\nBatch 1/435\\nTrain Loss: 2.8977, Train Accuracy: 20.85%\\nBatch 1/435\\nTrain Loss: 2.8959, Train Accuracy: 21.90%\\nBatch 1/435\\nTrain Loss: 2.8731, Train Accuracy: 22.53%\\nBatch 1/435\\nTrain Loss: 3.6747, Train Accuracy: 9.89%\\nBatch 1/435\\nTrain Loss: 3.6692, Train Accuracy: 8.79%\\nBatch 1/435\\nTrain Loss: 3.6588, Train Accuracy: 8.97%\\nBatch 1/435\\nTrain Loss: 4.5404, Train Accuracy: 1.85%\\nBatch 1/435\\nTrain Loss: 4.4838, Train Accuracy: 2.73%\\nBatch 1/435\\nTrain Loss: 4.4962, Train Accuracy: 1.73%\\nBatch 1/652\\nTrain Loss: 2.7251, Train Accuracy: 25.46%\\nBest Parameters: {'dropout_prob': 0.7, 'learning_rate': 0.001}\\nBest CV Score: 0.32535334540748523\""
      ]
     },
     "execution_count": 20,
     "metadata": {},
     "output_type": "execute_result"
    }
   ],
   "source": [
    "\"\"\"/usr/local/lib/python3.10/dist-packages/sklearn/model_selection/_split.py:776: UserWarning: The least populated class in y has only 1 members, which is less than n_splits=3.\n",
    "  warnings.warn(\n",
    "Batch 1/435\n",
    "Train Loss: 2.8851, Train Accuracy: 21.26%\n",
    "Batch 1/435\n",
    "Train Loss: 2.8845, Train Accuracy: 21.85%\n",
    "Batch 1/435\n",
    "Train Loss: 2.9021, Train Accuracy: 21.21%\n",
    "Batch 1/435\n",
    "Train Loss: 3.6499, Train Accuracy: 9.42%\n",
    "Batch 1/435\n",
    "Train Loss: 3.6698, Train Accuracy: 9.19%\n",
    "Batch 1/435\n",
    "Train Loss: 3.6314, Train Accuracy: 9.07%\n",
    "Batch 1/435\n",
    "Train Loss: 4.5375, Train Accuracy: 1.61%\n",
    "Batch 1/435\n",
    "Train Loss: 4.4984, Train Accuracy: 2.78%\n",
    "Batch 1/435\n",
    "Train Loss: 4.5068, Train Accuracy: 2.13%\n",
    "Batch 1/435\n",
    "Train Loss: 2.9025, Train Accuracy: 21.20%\n",
    "Batch 1/435\n",
    "Train Loss: 2.8895, Train Accuracy: 21.54%\n",
    "Batch 1/435\n",
    "Train Loss: 2.8842, Train Accuracy: 21.32%\n",
    "Batch 1/435\n",
    "Train Loss: 3.6495, Train Accuracy: 9.38%\n",
    "Batch 1/435\n",
    "Train Loss: 3.6388, Train Accuracy: 9.40%\n",
    "Batch 1/435\n",
    "Train Loss: 3.6577, Train Accuracy: 9.38%\n",
    "Batch 1/435\n",
    "Train Loss: 4.4726, Train Accuracy: 2.69%\n",
    "Batch 1/435\n",
    "Train Loss: 4.5240, Train Accuracy: 2.05%\n",
    "Batch 1/435\n",
    "Train Loss: 4.5128, Train Accuracy: 2.13%\n",
    "Batch 1/435\n",
    "Train Loss: 2.8977, Train Accuracy: 20.85%\n",
    "Batch 1/435\n",
    "Train Loss: 2.8959, Train Accuracy: 21.90%\n",
    "Batch 1/435\n",
    "Train Loss: 2.8731, Train Accuracy: 22.53%\n",
    "Batch 1/435\n",
    "Train Loss: 3.6747, Train Accuracy: 9.89%\n",
    "Batch 1/435\n",
    "Train Loss: 3.6692, Train Accuracy: 8.79%\n",
    "Batch 1/435\n",
    "Train Loss: 3.6588, Train Accuracy: 8.97%\n",
    "Batch 1/435\n",
    "Train Loss: 4.5404, Train Accuracy: 1.85%\n",
    "Batch 1/435\n",
    "Train Loss: 4.4838, Train Accuracy: 2.73%\n",
    "Batch 1/435\n",
    "Train Loss: 4.4962, Train Accuracy: 1.73%\n",
    "Batch 1/652\n",
    "Train Loss: 2.7251, Train Accuracy: 25.46%\n",
    "Best Parameters: {'dropout_prob': 0.7, 'learning_rate': 0.001}\n",
    "Best CV Score: 0.32535334540748523\"\"\""
   ]
  },
  {
   "cell_type": "code",
   "execution_count": null,
   "metadata": {
    "colab": {
     "base_uri": "https://localhost:8080/",
     "height": 564
    },
    "id": "P6CPcDxjRUql",
    "outputId": "15b00953-0d59-43df-ce43-d3f89a5c558e"
   },
   "outputs": [
    {
     "data": {
      "image/png": "[encoded data removed]",
      "text/plain": [
       "<Figure size 800x600 with 2 Axes>"
      ]
     },
     "metadata": {},
     "output_type": "display_data"
    }
   ],
   "source": [
    "import matplotlib.pyplot as plt\n",
    "import seaborn as sns\n",
    "\n",
    "results = grid_search.cv_results_\n",
    "\n",
    "\n",
    "\n",
    "best_scores = np.array(results['mean_test_score'])\n",
    "\n",
    "# Reshape the best scores into a 2D grid for plotting (based on the length of parameter lists)\n",
    "score_matrix = best_scores.reshape(len(param_grid['learning_rate']), len(param_grid['dropout_prob']))\n",
    "\n",
    "# Create a heatmap of the grid search results\n",
    "plt.figure(figsize=(8, 6))\n",
    "sns.heatmap(score_matrix,\n",
    "            annot=True,\n",
    "            cmap='YlGnBu',\n",
    "            xticklabels=param_grid['learning_rate'],\n",
    "            yticklabels=param_grid['dropout_prob'])\n",
    "\n",
    "plt.xlabel('Dropout Probability')\n",
    "plt.ylabel('Learning Rate')\n",
    "plt.title('Grid Search Heatmap: Best Accuracy Scores')\n",
    "plt.show()"
   ]
  },
  {
   "cell_type": "code",
   "execution_count": null,
   "metadata": {
    "id": "_Rpw147mSW5P"
   },
   "outputs": [],
   "source": [
    "results"
   ]
  },
  {
   "cell_type": "code",
   "execution_count": null,
   "metadata": {
    "id": "MgklSQ8iSmn-"
   },
   "outputs": [],
   "source": [
    "import torch\n",
    "from torch import nn\n",
    "from xlstm import xLSTMBlockStack, xLSTMBlockStackConfig, mLSTMBlockConfig, mLSTMLayerConfig, sLSTMBlockConfig, sLSTMLayerConfig, FeedForwardConfig\n",
    "\n",
    "class SimpleModelWithxLSTM(nn.Module):\n",
    "    def __init__(self,\n",
    "                 vocab_size,\n",
    "                 embedding_dim,\n",
    "                 hidden_size,\n",
    "                 context_length,\n",
    "                 num_blocks,\n",
    "                 slstm_at,\n",
    "                 dropout_prob = 0.5):\n",
    "        super().__init__()\n",
    "\n",
    "        self.embedding = nn.Embedding(\n",
    "            num_embeddings=vocab_size,\n",
    "            embedding_dim=embedding_dim\n",
    "        )\n",
    "\n",
    "\n",
    "        # xLSTM configuration\n",
    "        self.xLSTM_cfg = xLSTMBlockStackConfig(\n",
    "            mlstm_block=mLSTMBlockConfig(\n",
    "                mlstm=mLSTMLayerConfig(\n",
    "                    conv1d_kernel_size=4,\n",
    "                    qkv_proj_blocksize=4,\n",
    "                    num_heads=4\n",
    "                )\n",
    "            ),\n",
    "            slstm_block=sLSTMBlockConfig(\n",
    "                slstm=sLSTMLayerConfig(\n",
    "                    backend=\"vanilla\",\n",
    "                    num_heads=4,\n",
    "                    conv1d_kernel_size=4,\n",
    "                    bias_init=\"powerlaw_blockdependent\",\n",
    "                ),\n",
    "                feedforward=FeedForwardConfig(\n",
    "                    proj_factor=1.3,\n",
    "                    act_fn=\"gelu\"\n",
    "                ),\n",
    "            ),\n",
    "            context_length=context_length,\n",
    "            num_blocks=num_blocks,\n",
    "            embedding_dim=embedding_dim,\n",
    "            slstm_at=slstm_at,\n",
    "        )\n",
    "\n",
    "        # Initialize xLSTM stack\n",
    "        self.xLSTM = xLSTMBlockStack(self.xLSTM_cfg)\n",
    "\n",
    "        self.dropout_1 = nn.Dropout(dropout_prob)\n",
    "\n",
    "\n",
    "        # Fully connected layers\n",
    "        self.fc1 = nn.Linear(embedding_dim, hidden_size)\n",
    "        self.dropout_2 = nn.Dropout(dropout_prob)\n",
    "        self.fc2 = nn.Linear(hidden_size, vocab_size)\n",
    "\n",
    "\n",
    "    def forward(self, x):\n",
    "        # Embed the input\n",
    "        x = self.embedding(x)  # Shape: [batch_size, seq_length, embedding_dim]\n",
    "\n",
    "        # Pass through the xLSTM stack\n",
    "        x = self.xLSTM(x)  # Shape: [batch_size, seq_length, embedding_dim]\n",
    "\n",
    "        x = self.dropout_1(x)\n",
    "        # Take the last sequence step (e.g., for classification tasks)\n",
    "        x = x[:, -1, :]  # Shape: [batch_size, embedding_dim]\n",
    "\n",
    "        # Fully connected layers\n",
    "        x = self.fc1(x)  # Shape: [batch_size, hidden_size]\n",
    "        x = nn.functional.relu(x)\n",
    "        x = self.dropout_2(x)\n",
    "        x = self.fc2(x)  # Shape: [batch_size, vocab_size]\n",
    "\n",
    "        return x"
   ]
  },
  {
   "cell_type": "code",
   "execution_count": null,
   "metadata": {
    "colab": {
     "base_uri": "https://localhost:8080/"
    },
    "id": "MJkDv0H-_5_y",
    "outputId": "27e86d88-a931-459d-dab0-0eed12e7dea7"
   },
   "outputs": [
    {
     "name": "stdout",
     "output_type": "stream",
     "text": [
      "Using device: cuda\n"
     ]
    }
   ],
   "source": [
    "device = torch.device('cuda' if torch.cuda.is_available() else 'cpu')\n",
    "print(\"Using device:\", device)"
   ]
  },
  {
   "cell_type": "code",
   "execution_count": null,
   "metadata": {
    "id": "nvguBhTB_vN-"
   },
   "outputs": [],
   "source": [
    "VOCAB_SIZE = 95\n",
    "EMBEDDING_DIM = 128\n",
    "HIDDEN_SIZE = 128\n",
    "CONTEXT_LENGTH = 128\n",
    "NUM_BLOCKS = 2  # Number of xLSTM blocks\n",
    "SLSTM_AT = [1]  # Use sLSTM at specific layers\n",
    "\n",
    "# Initialize the model\n",
    "model = SimpleModelWithxLSTM(\n",
    "    vocab_size=VOCAB_SIZE,\n",
    "    embedding_dim=EMBEDDING_DIM,\n",
    "    hidden_size=HIDDEN_SIZE,\n",
    "    context_length=CONTEXT_LENGTH,\n",
    "    num_blocks=NUM_BLOCKS,\n",
    "    slstm_at=SLSTM_AT\n",
    ").to(device)\n",
    "\n",
    "\n",
    "n_epochs = TRAINING_EPOCHS\n",
    "\n",
    "loss_fn = nn.CrossEntropyLoss() # Because character classification task\n",
    "optimizer = torch.optim.Adam(model.parameters(), lr=0.001, weight_decay=1e-5)"
   ]
  },
  {
   "cell_type": "code",
   "execution_count": null,
   "metadata": {
    "colab": {
     "base_uri": "https://localhost:8080/",
     "height": 1000
    },
    "id": "m--mcgrh_y3y",
    "outputId": "9ae00191-059a-473b-8fbb-8e19c13b86cb"
   },
   "outputs": [],
   "source": [
    "model_weights = \"insert_file_path\"\n",
    "model.load_state_dict(torch.load(model_weights))\n",
    "model.eval()  # Set model to evaluation mode"
   ]
  },
  {
   "cell_type": "code",
   "execution_count": null,
   "metadata": {
    "id": "OdRXK7Pt_Qpd"
   },
   "outputs": [],
   "source": [
    "# Define the data set\n",
    "# WARNING: TAKES TRANSLATED DATA FORMAT\n",
    "class MusicDataset(torch.utils.data.Dataset):\n",
    "    def __init__(self,\n",
    "                 X, # The data in TRANSLATED FORMAT\n",
    "                 sequence_len=1, # How much context does the model have?\n",
    "                 ):\n",
    "\n",
    "        self.X=torch.tensor(X, dtype=torch.long)\n",
    "        self.sequence_len=sequence_len\n",
    "\n",
    "    def __len__(self):\n",
    "      # Make room for a last sequence and its target, hence the 1 also\n",
    "        return len(self.X) - self.sequence_len - 1\n",
    "\n",
    "\n",
    "    def __getitem__(self,idx):\n",
    "        X = self.X[idx:idx+self.sequence_len] # 1 x sequence_len\n",
    "        Ytarget = self.X[idx+self.sequence_len] # 1 x 1\n",
    "        return X, Ytarget.long() # For dimensions to match LSTM layer :)"
   ]
  },
  {
   "cell_type": "code",
   "execution_count": null,
   "metadata": {
    "colab": {
     "base_uri": "https://localhost:8080/"
    },
    "id": "bk_nMIeD-s0a",
    "outputId": "4a8714b4-c6b9-4cf9-fce6-9cb793e5591b"
   },
   "outputs": [
    {
     "name": "stdout",
     "output_type": "stream",
     "text": [
      "Mounted at /content/drive\n"
     ]
    }
   ],
   "source": [
    "from google.colab import drive\n",
    "drive.mount('/content/drive')"
   ]
  },
  {
   "cell_type": "code",
   "execution_count": null,
   "metadata": {
    "id": "pQ1c0D5Z_FC6"
   },
   "outputs": [],
   "source": [
    "model_weights = \"/insert_file_path/big_model_lstm_save.pt\""
   ]
  }
 ],
 "metadata": {
  "accelerator": "GPU",
  "colab": {
   "gpuType": "T4",
   "provenance": []
  },
  "kernelspec": {
   "display_name": "Python 3",
   "name": "python3"
  },
  "language_info": {
   "name": "python"
  }
 },
 "nbformat": 4,
 "nbformat_minor": 0
}
