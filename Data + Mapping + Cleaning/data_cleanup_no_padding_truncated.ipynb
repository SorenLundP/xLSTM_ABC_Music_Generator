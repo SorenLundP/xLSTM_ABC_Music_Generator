{
 "cells": [
  {
   "cell_type": "code",
   "execution_count": null,
   "metadata": {
    "id": "9WQ_hpLimjo9",
    "outputId": "d1011cc7-7a0c-4ed2-a5d0-9bad317dde9e"
   },
   "outputs": [
    {
     "data": {
      "text/plain": [
       "{'whiskers': [<matplotlib.lines.Line2D at 0x215f3b37760>,\n",
       "  <matplotlib.lines.Line2D at 0x215f3b37a00>],\n",
       " 'caps': [<matplotlib.lines.Line2D at 0x215f3b37ca0>,\n",
       "  <matplotlib.lines.Line2D at 0x215f3b37f40>],\n",
       " 'boxes': [<matplotlib.lines.Line2D at 0x215f3b374c0>],\n",
       " 'medians': [<matplotlib.lines.Line2D at 0x215f3b4c220>],\n",
       " 'fliers': [<matplotlib.lines.Line2D at 0x215f3b4c4c0>],\n",
       " 'means': []}"
      ]
     },
     "execution_count": 12,
     "metadata": {},
     "output_type": "execute_result"
    },
    {
     "data": {
      "image/png": "[encoded data removed]",
      "text/plain": [
       "<Figure size 640x480 with 1 Axes>"
      ]
     },
     "metadata": {},
     "output_type": "display_data"
    }
   ],
   "source": [
    "import pandas as pd\n",
    "import matplotlib.pyplot as plt\n",
    "\n",
    "\n",
    "new_filename = \"cleaned_data.txt\"\n",
    "song_length = 300\n",
    "\n",
    "with open(\"all_tunes_cleaned.txt\", \"r\") as f:\n",
    "    all_songs = []\n",
    "    do_print = False\n",
    "    song_sample = []\n",
    "\n",
    "    for i, line in enumerate(f):\n",
    "        if line[0] == \"M\":\n",
    "            do_print = True\n",
    "\n",
    "        if line[0] == \"X\":\n",
    "            if do_print == True:\n",
    "                all_songs.append(\"\".join(song_sample))\n",
    "                song_sample = []\n",
    "            do_print = False\n",
    "\n",
    "        if do_print:\n",
    "            song_sample.append(line)\n",
    "\n",
    "\n",
    "df = pd.DataFrame(all_songs)\n",
    "df[\"song_length\"] = [len(song) for song in df[0]]\n",
    "\n",
    "df = df[df[\"song_length\"] > song_length]\n",
    "\n",
    "\n",
    "plt.boxplot(df[\"song_length\"])"
   ]
  },
  {
   "cell_type": "code",
   "execution_count": null,
   "metadata": {
    "id": "vRu206c-mjpA"
   },
   "outputs": [],
   "source": [
    "df.rename(columns = {0: \"song\"}, inplace = True)"
   ]
  },
  {
   "cell_type": "code",
   "execution_count": null,
   "metadata": {
    "id": "ckUKlofZmjpB",
    "outputId": "ca666ade-73f3-4251-a14d-4fec36a66719"
   },
   "outputs": [
    {
     "data": {
      "text/plain": [
       "{0: '\\n',\n",
       " 1: ' ',\n",
       " 2: '!',\n",
       " 3: '\"',\n",
       " 4: '#',\n",
       " 5: '%',\n",
       " 6: '&',\n",
       " 7: \"'\",\n",
       " 8: '(',\n",
       " 9: ')',\n",
       " 10: '+',\n",
       " 11: ',',\n",
       " 12: '-',\n",
       " 13: '.',\n",
       " 14: '/',\n",
       " 15: '0',\n",
       " 16: '1',\n",
       " 17: '2',\n",
       " 18: '3',\n",
       " 19: '4',\n",
       " 20: '5',\n",
       " 21: '6',\n",
       " 22: '7',\n",
       " 23: '8',\n",
       " 24: '9',\n",
       " 25: ':',\n",
       " 26: '=',\n",
       " 27: '?',\n",
       " 28: 'A',\n",
       " 29: 'B',\n",
       " 30: 'C',\n",
       " 31: 'D',\n",
       " 32: 'E',\n",
       " 33: 'F',\n",
       " 34: 'G',\n",
       " 35: 'H',\n",
       " 36: 'I',\n",
       " 37: 'J',\n",
       " 38: 'K',\n",
       " 39: 'L',\n",
       " 40: 'M',\n",
       " 41: 'N',\n",
       " 42: 'O',\n",
       " 43: 'P',\n",
       " 44: 'Q',\n",
       " 45: 'R',\n",
       " 46: 'S',\n",
       " 47: 'T',\n",
       " 48: 'U',\n",
       " 49: 'V',\n",
       " 50: 'W',\n",
       " 51: 'X',\n",
       " 52: 'Y',\n",
       " 53: '[',\n",
       " 54: '\\\\',\n",
       " 55: ']',\n",
       " 56: '^',\n",
       " 57: '_',\n",
       " 58: 'a',\n",
       " 59: 'b',\n",
       " 60: 'c',\n",
       " 61: 'd',\n",
       " 62: 'e',\n",
       " 63: 'f',\n",
       " 64: 'g',\n",
       " 65: 'h',\n",
       " 66: 'i',\n",
       " 67: 'j',\n",
       " 68: 'k',\n",
       " 69: 'l',\n",
       " 70: 'm',\n",
       " 71: 'n',\n",
       " 72: 'o',\n",
       " 73: 'p',\n",
       " 74: 'q',\n",
       " 75: 'r',\n",
       " 76: 's',\n",
       " 77: 't',\n",
       " 78: 'u',\n",
       " 79: 'v',\n",
       " 80: 'w',\n",
       " 81: 'x',\n",
       " 82: 'y',\n",
       " 83: 'z',\n",
       " 84: '|',\n",
       " 85: '~'}"
      ]
     },
     "execution_count": 14,
     "metadata": {},
     "output_type": "execute_result"
    }
   ],
   "source": [
    "import json\n",
    "\n",
    "# Load the character-to-index mapping\n",
    "with open(\"char_to_idx.json\", \"r\") as f:\n",
    "    char_to_idx = json.load(f)\n",
    "\n",
    "idx_to_char = {v: k for k, v in char_to_idx.items()}  # Reverse mapping\n",
    "idx_to_char"
   ]
  },
  {
   "cell_type": "code",
   "execution_count": null,
   "metadata": {
    "id": "k06mOcaJmjpB"
   },
   "outputs": [],
   "source": [
    "index_to_char = dict()\n",
    "i = 0\n",
    "\n",
    "for song in df[\"song\"]:\n",
    "    for char in song:\n",
    "        if char not in index_to_char.values():\n",
    "            index_to_char[i] = char\n",
    "            i+=1"
   ]
  },
  {
   "cell_type": "code",
   "execution_count": null,
   "metadata": {
    "id": "5WufzoPzmjpC",
    "outputId": "7903b87c-a021-4e61-98ef-847077df3272"
   },
   "outputs": [
    {
     "data": {
      "text/plain": [
       "{'M': 0,\n",
       " ':': 1,\n",
       " '2': 2,\n",
       " '/': 3,\n",
       " '4': 4,\n",
       " '\\n': 5,\n",
       " 'K': 6,\n",
       " 'D': 7,\n",
       " 'A': 8,\n",
       " 'F': 9,\n",
       " ' ': 10,\n",
       " 'd': 11,\n",
       " '|': 12,\n",
       " 'c': 13,\n",
       " 'e': 14,\n",
       " 'g': 15,\n",
       " 'f': 16,\n",
       " 'z': 17,\n",
       " 'B': 18,\n",
       " '[': 19,\n",
       " 'G': 20,\n",
       " ']': 21,\n",
       " '>': 22,\n",
       " 'C': 23,\n",
       " 'E': 24,\n",
       " ',': 25,\n",
       " '3': 26,\n",
       " 'a': 27,\n",
       " '(': 28,\n",
       " '1': 29,\n",
       " '-': 30,\n",
       " '\"': 31,\n",
       " '^': 32,\n",
       " ')': 33,\n",
       " 'm': 34,\n",
       " 'b': 35,\n",
       " '=': 36,\n",
       " 'Q': 37,\n",
       " '0': 38,\n",
       " 'S': 39,\n",
       " 't': 40,\n",
       " 'r': 41,\n",
       " 'h': 42,\n",
       " 's': 43,\n",
       " 'p': 44,\n",
       " 'y': 45,\n",
       " '.': 46,\n",
       " 'u': 47,\n",
       " 'v': 48,\n",
       " '<': 49,\n",
       " '8': 50,\n",
       " '6': 51,\n",
       " '7': 52,\n",
       " 'i': 53,\n",
       " 'n': 54,\n",
       " '_': 55,\n",
       " '!': 56,\n",
       " '5': 57,\n",
       " 'l': 58,\n",
       " '\\\\': 59,\n",
       " 'P': 60,\n",
       " 'T': 61,\n",
       " 'o': 62,\n",
       " '{': 63,\n",
       " '}': 64,\n",
       " 'x': 65,\n",
       " \"'\": 66,\n",
       " '#': 67,\n",
       " 'w': 68,\n",
       " 'V': 69,\n",
       " '&': 70,\n",
       " 'L': 71,\n",
       " 'k': 72,\n",
       " 'I': 73,\n",
       " '9': 74,\n",
       " 'H': 75,\n",
       " 'R': 76,\n",
       " '?': 77,\n",
       " 'O': 78,\n",
       " 'W': 79,\n",
       " 'J': 80,\n",
       " '*': 81,\n",
       " 'N': 82,\n",
       " 'q': 83,\n",
       " 'U': 84,\n",
       " 'j': 85,\n",
       " '+': 86,\n",
       " '$': 87,\n",
       " ';': 88,\n",
       " 'X': 89,\n",
       " 'Y': 90,\n",
       " '~': 91,\n",
       " 'Z': 92,\n",
       " '@': 93,\n",
       " '`': 94}"
      ]
     },
     "execution_count": 16,
     "metadata": {},
     "output_type": "execute_result"
    }
   ],
   "source": [
    "char_to_idx = {value: key for key, value in index_to_char.items()}\n",
    "char_to_idx"
   ]
  },
  {
   "cell_type": "code",
   "execution_count": null,
   "metadata": {
    "id": "J5vgInkdmjpD"
   },
   "outputs": [],
   "source": [
    "df[\"truncated song\"] = df.apply(lambda x: x[\"song\"][:song_length], axis=1)"
   ]
  },
  {
   "cell_type": "code",
   "execution_count": null,
   "metadata": {
    "id": "tfgub9elmjpE",
    "outputId": "5705eb5c-026a-48c5-f962-51f5a1df3d65"
   },
   "outputs": [
    {
     "data": {
      "text/plain": [
       "count    62880.0\n",
       "mean       300.0\n",
       "std          0.0\n",
       "min        300.0\n",
       "25%        300.0\n",
       "50%        300.0\n",
       "75%        300.0\n",
       "max        300.0\n",
       "Name: truncated song length, dtype: float64"
      ]
     },
     "execution_count": 21,
     "metadata": {},
     "output_type": "execute_result"
    }
   ],
   "source": [
    "df[\"truncated song length\"] = [len(song) for song in df[\"truncated song\"]]\n",
    "df[\"truncated song length\"].describe()"
   ]
  },
  {
   "cell_type": "code",
   "execution_count": null,
   "metadata": {
    "id": "SS0Sh852mjpF"
   },
   "outputs": [],
   "source": [
    "data = [char_to_idx[char] for char in df[\"truncated song\"] if char in char_to_idx]\n",
    "\n",
    "mapped_songs = []\n",
    "\n",
    "for song in df[\"truncated song\"]:\n",
    "        mapped_songs.append([char_to_idx[char]for char in song])\n",
    "\n",
    "df[\"mapped_string\"] = mapped_songs\n",
    "\n",
    "df[\"mapped_string\"].to_json(\"mapped_string.json\")"
   ]
  },
  {
   "cell_type": "code",
   "execution_count": null,
   "metadata": {
    "id": "XNRPwu7OmjpG",
    "outputId": "9607dae3-4e7d-44bb-da0f-27285d99e171"
   },
   "outputs": [
    {
     "data": {
      "text/plain": [
       "6         [0, 1, 2, 3, 4, 5, 6, 1, 7, 5, 8, 2, 9, 2, 10,...\n",
       "8         [0, 1, 4, 3, 4, 5, 6, 1, 8, 5, 23, 7, 10, 12, ...\n",
       "9         [0, 1, 2, 3, 4, 5, 6, 1, 7, 5, 8, 25, 10, 8, 2...\n",
       "11        [0, 1, 4, 3, 4, 5, 6, 1, 20, 5, 7, 9, 10, 12, ...\n",
       "12        [0, 1, 4, 3, 4, 5, 6, 1, 8, 5, 37, 1, 29, 2, 3...\n",
       "                                ...                        \n",
       "214109    [0, 1, 4, 3, 4, 5, 6, 1, 7, 34, 53, 54, 5, 37,...\n",
       "214110    [0, 1, 2, 3, 4, 5, 6, 1, 8, 5, 16, 3, 10, 12, ...\n",
       "214117    [0, 1, 4, 3, 4, 5, 6, 1, 20, 5, 28, 15, 3, 22,...\n",
       "214118    [0, 1, 26, 3, 4, 5, 6, 1, 8, 5, 12, 1, 10, 19,...\n",
       "214119    [0, 1, 2, 3, 4, 5, 6, 1, 7, 5, 37, 1, 29, 29, ...\n",
       "Name: mapped_string, Length: 62880, dtype: object"
      ]
     },
     "execution_count": 25,
     "metadata": {},
     "output_type": "execute_result"
    }
   ],
   "source": [
    "df[\"mapped_string\"]"
   ]
  },
  {
   "cell_type": "code",
   "execution_count": null,
   "metadata": {
    "id": "gbAJJRP1mjpH"
   },
   "outputs": [],
   "source": [
    "import json\n",
    "\n",
    "with open(\"char_to_idx_truncated.json\", \"w\") as outfile:\n",
    "    json.dump(char_to_idx, outfile)\n",
    "\n"
   ]
  },
  {
   "cell_type": "code",
   "execution_count": null,
   "metadata": {
    "id": "COpPcFUAmjpI",
    "outputId": "da11218a-8293-43d0-d278-6d06de0ea56c"
   },
   "outputs": [
    {
     "data": {
      "text/plain": [
       "'{\\'M\\': 0, \\':\\': 1, \\'2\\': 2, \\'/\\': 3, \\'4\\': 4, \\'\\\\n\\': 5, \\'K\\': 6, \\'D\\': 7, \\'A\\': 8, \\'F\\': 9, \\' \\': 10, \\'d\\': 11, \\'|\\': 12, \\'c\\': 13, \\'e\\': 14, \\'g\\': 15, \\'f\\': 16, \\'z\\': 17, \\'B\\': 18, \\'[\\': 19, \\'G\\': 20, \\']\\': 21, \\'>\\': 22, \\'C\\': 23, \\'E\\': 24, \\',\\': 25, \\'3\\': 26, \\'a\\': 27, \\'(\\': 28, \\'1\\': 29, \\'-\\': 30, \\'\"\\': 31, \\'^\\': 32, \\')\\': 33, \\'m\\': 34, \\'b\\': 35, \\'=\\': 36, \\'Q\\': 37, \\'0\\': 38, \\'S\\': 39, \\'t\\': 40, \\'r\\': 41, \\'h\\': 42, \\'s\\': 43, \\'p\\': 44, \\'y\\': 45, \\'.\\': 46, \\'u\\': 47, \\'v\\': 48, \\'<\\': 49, \\'8\\': 50, \\'6\\': 51, \\'7\\': 52, \\'i\\': 53, \\'n\\': 54, \\'_\\': 55, \\'!\\': 56, \\'5\\': 57, \\'l\\': 58, \\'\\\\\\\\\\': 59, \\'P\\': 60, \\'T\\': 61, \\'o\\': 62, \\'{\\': 63, \\'}\\': 64, \\'x\\': 65, \"\\'\": 66, \\'#\\': 67, \\'w\\': 68, \\'V\\': 69, \\'&\\': 70, \\'L\\': 71, \\'k\\': 72, \\'I\\': 73, \\'9\\': 74, \\'H\\': 75, \\'R\\': 76, \\'?\\': 77, \\'O\\': 78, \\'W\\': 79, \\'J\\': 80, \\'*\\': 81, \\'N\\': 82, \\'q\\': 83, \\'U\\': 84, \\'j\\': 85, \\'+\\': 86, \\'$\\': 87, \\';\\': 88, \\'X\\': 89, \\'Y\\': 90, \\'~\\': 91, \\'Z\\': 92, \\'@\\': 93, \\'`\\': 94}'"
      ]
     },
     "execution_count": 29,
     "metadata": {},
     "output_type": "execute_result"
    }
   ],
   "source": [
    "f\"{char_to_idx}\""
   ]
  },
  {
   "cell_type": "code",
   "execution_count": null,
   "metadata": {
    "id": "IciRjEzimjpJ"
   },
   "outputs": [],
   "source": [
    "\n",
    "i = 0\n",
    "j= 0\n",
    "for song in df[\"song\"]:\n",
    "    for char in song:\n",
    "        if char == \" \":\n",
    "            i +=1\n",
    "            j += 1\n",
    "        else:\n",
    "            j+=1"
   ]
  },
  {
   "cell_type": "code",
   "execution_count": null,
   "metadata": {
    "id": "5hJvQ6VZmjpK",
    "outputId": "195061d0-384a-4fe5-e298-3b55e7c7862a"
   },
   "outputs": [
    {
     "data": {
      "text/plain": [
       "0.2527368098237199"
      ]
     },
     "execution_count": 32,
     "metadata": {},
     "output_type": "execute_result"
    }
   ],
   "source": [
    "i/j"
   ]
  },
  {
   "cell_type": "markdown",
   "metadata": {
    "id": "M35A8ghQ1X-u"
   },
   "source": [
    "# Remove White spaces\n"
   ]
  },
  {
   "cell_type": "code",
   "execution_count": null,
   "metadata": {
    "id": "GcxVUV3L1Zzw"
   },
   "outputs": [],
   "source": [
    "data_filepath = \"/insert_file_path/all_tunes_cleaned.txt\"\n",
    "\n",
    "with open(data_filepath) as file:\n",
    "  data = file.read()\n",
    "\n",
    "\n"
   ]
  },
  {
   "cell_type": "code",
   "execution_count": null,
   "metadata": {
    "id": "oqDDkZmy1dUu"
   },
   "outputs": [],
   "source": [
    "data = data.replace(\" \", \"\")"
   ]
  },
  {
   "cell_type": "code",
   "execution_count": null,
   "metadata": {
    "id": "Cbls7d5f1fE1"
   },
   "outputs": [],
   "source": [
    "data_save_filepath = \"/insert_file_path/all_tunes_cleaned_removed_whitespace.txt\"\n",
    "with open(data_save_filepath, \"w\") as file:\n",
    "  file.write(data)"
   ]
  }
 ],
 "metadata": {
  "colab": {
   "provenance": []
  },
  "kernelspec": {
   "display_name": "Python 3",
   "language": "python",
   "name": "python3"
  },
  "language_info": {
   "codemirror_mode": {
    "name": "ipython",
    "version": 3
   },
   "file_extension": ".py",
   "mimetype": "text/x-python",
   "name": "python",
   "nbconvert_exporter": "python",
   "pygments_lexer": "ipython3",
   "version": "3.10.11"
  }
 },
 "nbformat": 4,
 "nbformat_minor": 0
}
